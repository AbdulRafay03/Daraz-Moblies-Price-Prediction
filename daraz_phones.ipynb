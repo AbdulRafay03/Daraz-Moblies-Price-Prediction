{
 "cells": [
  {
   "cell_type": "code",
   "execution_count": 1,
   "metadata": {},
   "outputs": [],
   "source": [
    "import requests as req \n",
    "from bs4 import BeautifulSoup\n",
    "from selenium import webdriver"
   ]
  },
  {
   "cell_type": "code",
   "execution_count": 2,
   "metadata": {},
   "outputs": [
    {
     "name": "stdout",
     "output_type": "stream",
     "text": [
      "['Redmi A2+ 3GB - 64GB 5000mAh 10W fast charging 6.52” HD+ Dot Drop display PTA  Approved  system active', 'Redmi note 12 8GB RAM -128GB ROM PTA APPROVED OFFICIAL WARRANTY  SUPER FAST CHARGING NON ACTIVE', \"Samsung A14 4GB/64GB - 5000 mAh Battery - 6.6' Display - Android 13\", 'Infinix Note 30 8GB/256GB - Android 13 - 6.78\" Display - 5000 mAh Battery', 'Tecno SPARK 10C  4GB RAM -128GB ROM 5000mAh PTA APPROVED OFFICIAL BRAND WARRANTY', 'Redmi 12  8GB RAM - 128GB ROM 6.79\" FHD+ DotDisplay  5000mAh battery  PTA Approved Official Brand Warranty', 'Redmi 13C || 6GB Ram 128GB Rom || 5000mAh Battery', 'Redmi 12 4GB RAM -128GB ROM 6.79\" FHD+ DotDisplay 5000mAh battery  PTA APPROVED OFFICIAL BRAND WARRANTY', 'Tecno  POVA 5 Pro 5G  256GB ROM + 8GB RAM  5000mAh Mega Battery Pta Approevd Official Brand Warranty', 'Tecno Camon 20  8GB Ram 256GB Rom  6.67 inches AMOLED Display  5000 mAh - Fast charging 33W wired', 'INFINIX HOT 40 8GB RAM - 256GB ROM PTA APPROVED OFFICIAL BRAND WARRANTY', 'INFINIX  NOTE 30 PRO 8GB RAM-256GB ROM PTA APPROVED OFFICIAL BRAND WARRANTY', 'Samsung Galaxy A54 8GB-256GB ROM PTA APPROVED OFFICIAL BRAND WARRANTY', 'Galaxy A04s 4GB RAM-128GB ROM PTA APPROVED OFFICIAL BRAND WARRANNTY', 'Galaxy A04e 3GB RAM-32GB ROM PTA APPROVED OFFICIAL BRAND WARRANTY', 'Samsung Galaxy A04s 4GB+128GB', 'Samsung Galaxy A24 8GB+128GB', 'Infinix Note 30 Pro 8-256 GB PTA Approved With Official 1 Year Warranty', 'Samsung Galaxy A54 8GB+256GB', 'Itel S23 - 6.6\" Inch Display - 8GB + 8GB RAM - 128GB / 256GB ROM', 'Infinix Note 30 8GB/128GB - Android 13 - 6.78\" Display - 5000 mAh Battery', 'Xiaomi Redmi Note 12 || 8GB Ram 128GB Rom || 5000mAh Battery 33W Fast Charger', 'Infinix Note 30 , 8GB RAM 256GB ROM , 64MP Main Camera , Fingerprint , 5000mAh Fast Charging', 'vivo V29e 5G - 8+8GB Extended RAM - 256GB ROM - 50MP AF Group Selfie - 120Hz Amoled Display', 'Samsung A24 6GB+128GB - 6.5\" Display - Android 13 - 5000 mAh Battery', 'Redmi Note 12 || 8GB Ram 128GB Rom || 6.67 Inches AMOLED Display || 5000 mAh - Fast charging 33W wired ||', 'Itel A60s || 4GB + 128GB || 6.6 inches IPS Display || Battery Li-Po 5000 mAh', 'Tecno SPARK 10 PRO 8GB RAM - 128GB ROM PTA APPROVED OFFICIAL BRAND WARRANTY', 'Realme C51 RAM 4GB ROM 64GB Front Camera 5 MP Back Camera 50 MP + 0.08 MP Battery Type Li-Po 5000 mAh, non-removable', 'vivo Y02t - 4GB RAM - 64GB ROM - 6.51\" Display - 5000mAh Battery', 'Infinix Hot 30  || 8GB+8GB Ram 128GB Rom || 5000mAh Battery', 'Xiaomi Redmi 12 RAM 8 GB ROM 256 GB  Front Camera 8 MP Back Camera  50 MP + 8 MP + 2 MP  Battery Type\\t5000 mAh', 'Redmi 12 - 6.79\" Inch Display - 8GB RAM - 128GB & 256GB ROM ROM', 'iPhone X - Official PTA Approved - 64gb and 256gb - original battery with Face id Working 100% - Best Phone for Gaming and Photography', 'Motorola moto z3 - 4gb Ram - 64gb Rom - Ultra slim set With a glass back and Smooth Touch', 'Apple iPhone 15 Pro Max - 6.7\" Inch Display - Physical Sim & ESim - 1 Year Official Warranty (Mercantile) - PTA Approved', 'Infinix Hot 40 RAM 8 GB ROM 256 GB Front Camera 32 MP Back Camera 50 MP + 2 MP + 0.08 MP Battery Type\\t5000 mAh', 'Xiaomi Redmi 12 RAM 8 GB ROM 128 GB  Front Camera 8 MP Back Camera  50 MP + 8 MP + 2 MP  Battery Type\\t5000 mAh', 'Tecno Camon 20 RAM 8 GB ROM 256 GB Front Camera 32 MP Back Camera 64 MP + 2 MP + AI Cam  Battery Type\\tLi-Po 5000 mAh, non-removable', 'Infinix Hot 30 Play , 4GB RAM 64GB ROM , 16MP Main Camera , Fingersensor , 6000mAh Fast charging 18W']\n"
     ]
    }
   ],
   "source": [
    "url = \"https://www.daraz.pk/smartphones/?spm=a2a0e.searchlistcategory.pagination.3.1c8656711xP2eM&page=1\"\n",
    "driver = webdriver.Chrome()  # Use the appropriate webdriver for your browser\n",
    "\n",
    "driver.get(url)\n",
    "\n",
    "# Wait for dynamic content to load if necessary\n",
    "# (You may need to adjust the sleep duration based on your specific case)\n",
    "import time\n",
    "time.sleep(5)\n",
    "\n",
    "soup = BeautifulSoup(driver.page_source, 'html.parser')\n",
    "\n",
    "box = soup.find('div', class_=\"box--ujueT\")\n",
    "\n",
    "\n",
    "names = box.find_all('div' , class_ = 'title-wrapper--IaQ0m')\n",
    "Names = []\n",
    "for i in names: \n",
    "    Names.append(i.text)\n",
    "\n",
    "\n",
    "\n",
    "print(Names)\n",
    "driver.quit()"
   ]
  }
 ],
 "metadata": {
  "kernelspec": {
   "display_name": "base",
   "language": "python",
   "name": "python3"
  },
  "language_info": {
   "codemirror_mode": {
    "name": "ipython",
    "version": 3
   },
   "file_extension": ".py",
   "mimetype": "text/x-python",
   "name": "python",
   "nbconvert_exporter": "python",
   "pygments_lexer": "ipython3",
   "version": "3.10.9"
  }
 },
 "nbformat": 4,
 "nbformat_minor": 2
}
