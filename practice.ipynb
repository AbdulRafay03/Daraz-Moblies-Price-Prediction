{
 "cells": [
  {
   "cell_type": "markdown",
   "metadata": {},
   "source": [
    "- pip install requests\n",
    "- pip install beautifulsoup4\n",
    "- pip install selenium"
   ]
  },
  {
   "cell_type": "code",
   "execution_count": 11,
   "metadata": {},
   "outputs": [
    {
     "name": "stdout",
     "output_type": "stream",
     "text": [
      "200\n"
     ]
    }
   ],
   "source": [
    "import requests as req\n",
    "\n",
    "r = req.get(\"https://webscraper.io/test-sites/e-commerce/allinone/computers/tablets\")\n",
    "print(r.status_code)"
   ]
  },
  {
   "attachments": {
    "image.png": {
     "image/png": "[encoded data removed]"
    }
   },
   "cell_type": "markdown",
   "metadata": {},
   "source": [
    "![image.png](attachment:image.png)"
   ]
  },
  {
   "cell_type": "code",
   "execution_count": 12,
   "metadata": {},
   "outputs": [],
   "source": [
    "# print(r.text)"
   ]
  },
  {
   "cell_type": "code",
   "execution_count": 13,
   "metadata": {},
   "outputs": [],
   "source": [
    "from bs4 import BeautifulSoup\n",
    "soup = BeautifulSoup(r.text)\n",
    "# print(soup)"
   ]
  },
  {
   "cell_type": "code",
   "execution_count": 14,
   "metadata": {},
   "outputs": [],
   "source": [
    "soup = BeautifulSoup(r.text , \"lxml\")\n",
    "# print(soup)"
   ]
  },
  {
   "cell_type": "code",
   "execution_count": 15,
   "metadata": {},
   "outputs": [
    {
     "name": "stdout",
     "output_type": "stream",
     "text": [
      "<a data-bs-target=\".side-collapse\" data-bs-target-2=\".side-collapse-container\" data-bs-toggle=\"collapse-side\">\n",
      "<button aria-controls=\"navbar\" aria-expanded=\"false\" class=\"navbar-toggler float-end collapsed\" data-bs-target=\"#navbar\" data-bs-target-2=\".side-collapse-container\" data-bs-target-3=\".side-collapse\" data-bs-toggle=\"collapse\" type=\"button\">\n",
      "<span class=\"visually-hidden\">Toggle navigation</span>\n",
      "<span class=\"icon-bar top-bar\"></span>\n",
      "<span class=\"icon-bar middle-bar\"></span>\n",
      "<span class=\"icon-bar bottom-bar\"></span>\n",
      "<span class=\"icon-bar extra-bottom-bar\"></span>\n",
      "</button>\n",
      "</a>\n"
     ]
    }
   ],
   "source": [
    "# print(soup.div.ul)\n",
    "print(soup.div.a)"
   ]
  },
  {
   "cell_type": "code",
   "execution_count": 16,
   "metadata": {},
   "outputs": [
    {
     "name": "stdout",
     "output_type": "stream",
     "text": [
      "None\n"
     ]
    }
   ],
   "source": [
    "tag = soup.header.a \n",
    "print(tag.string)"
   ]
  },
  {
   "cell_type": "code",
   "execution_count": 17,
   "metadata": {},
   "outputs": [
    {
     "name": "stdout",
     "output_type": "stream",
     "text": [
      "$69.99\n"
     ]
    }
   ],
   "source": [
    "price = soup.find('h4' , {'class' : 'float-end price card-title pull-right'})\n",
    "print(price.string)"
   ]
  },
  {
   "cell_type": "code",
   "execution_count": 18,
   "metadata": {},
   "outputs": [
    {
     "name": "stdout",
     "output_type": "stream",
     "text": [
      "Lenovo IdeaTab\n"
     ]
    }
   ],
   "source": [
    "title = soup.find('a' , {'class' : 'title'})\n",
    "print(title.string)"
   ]
  },
  {
   "cell_type": "code",
   "execution_count": 19,
   "metadata": {},
   "outputs": [
    {
     "name": "stdout",
     "output_type": "stream",
     "text": [
      "7\" screen, Android\n"
     ]
    }
   ],
   "source": [
    "desc = soup.find('p' , {'class' : 'description card-text'})\n",
    "print(desc.string)"
   ]
  },
  {
   "cell_type": "code",
   "execution_count": 20,
   "metadata": {},
   "outputs": [
    {
     "name": "stdout",
     "output_type": "stream",
     "text": [
      "21\n",
      "$69.99\n",
      "$88.99\n",
      "$96.99\n",
      "$97.99\n",
      "$99.99\n",
      "$101.99\n",
      "$102.99\n",
      "$103.99\n",
      "$107.99\n",
      "$121.99\n",
      "$130.99\n",
      "$148.99\n",
      "$172.99\n",
      "$233.99\n",
      "$251.99\n",
      "$320.99\n",
      "$399.99\n",
      "$489.99\n",
      "$537.99\n",
      "$587.99\n",
      "$603.99\n"
     ]
    }
   ],
   "source": [
    "price = soup.find_all('h4' , {'class' : 'float-end price card-title pull-right'})\n",
    "print(len(price))\n",
    "for i in price:\n",
    "    print(i.string) "
   ]
  },
  {
   "cell_type": "code",
   "execution_count": 21,
   "metadata": {},
   "outputs": [
    {
     "name": "stdout",
     "output_type": "stream",
     "text": [
      "Lenovo IdeaTab\n",
      "IdeaTab A3500L\n",
      "Acer Iconia\n",
      "Galaxy Tab 3\n",
      "Iconia B1-730H...\n",
      "Memo Pad HD 7\n",
      "Asus MeMO Pad\n",
      "Amazon Kindle\n",
      "Galaxy Tab 3\n",
      "IdeaTab A8-50\n",
      "MeMO Pad 7\n",
      "IdeaTab A3500-...\n",
      "IdeaTab S5000\n",
      "Galaxy Tab 4\n",
      "Galaxy Tab\n",
      "MeMo PAD FHD 1...\n",
      "Galaxy Note\n",
      "Galaxy Note\n",
      "iPad Mini Reti...\n",
      "Galaxy Note 10...\n",
      "Apple iPad Air\n"
     ]
    }
   ],
   "source": [
    "title = soup.find_all('a' , {'class' : 'title'})\n",
    "for i in title:\n",
    "    print(i.string) "
   ]
  },
  {
   "cell_type": "code",
   "execution_count": 22,
   "metadata": {},
   "outputs": [
    {
     "name": "stdout",
     "output_type": "stream",
     "text": [
      "7\" screen, Android\n",
      "Black, 7\" IPS, Quad-Core 1.2GHz, 8GB, Android 4.2\n",
      "7\" screen, Android, 16GB\n",
      "7\", 8GB, Wi-Fi, Android 4.2, White\n",
      "Black, 7\", 1.6GHz Dual-Core, 8GB, Android 4.4\n",
      "IPS, Dual-Core 1.2GHz, 8GB, Android 4.3\n",
      "7\" screen, Android, 8GB\n",
      "6\" screen, wifi\n",
      "7\", 8GB, Wi-Fi, Android 4.2, Yellow\n",
      "Blue, 8\" IPS, Quad-Core 1.3GHz, 16GB, Android 4.2\n",
      "White, 7\", Atom 1.2GHz, 8GB, Android 4.4\n",
      "Blue, 7\" IPS, Quad-Core 1.3GHz, 8GB, 3G, Android 4.2\n",
      "Silver, 7\" IPS, Quad-Core 1.2Ghz, 16GB, 3G, Android 4.2\n",
      "LTE (SM-T235), Quad-Core 1.2GHz, 8GB, Black\n",
      "16GB, White\n",
      "White, 10.1\" IPS, 1.6GHz, 2GB, 16GB, Android 4.2\n",
      "10.1\", 3G, Android 4.0, Garnet Red\n",
      "12.2\", 32GB, WiFi, Android 4.4, White\n",
      "Wi-Fi + Cellular, 32GB, Silver\n",
      "10.1\", 32GB, Black\n",
      "Wi-Fi, 64GB, Silver\n"
     ]
    }
   ],
   "source": [
    "desc = soup.find_all('p' , {'class' : 'description card-text'})\n",
    "for i in desc:\n",
    "    print(i.string) "
   ]
  },
  {
   "cell_type": "code",
   "execution_count": 23,
   "metadata": {},
   "outputs": [
    {
     "name": "stdout",
     "output_type": "stream",
     "text": [
      "[]\n",
      "['Galaxy Tab 3', 'Galaxy Tab 3', 'Galaxy Tab 4', 'Galaxy Tab', 'Galaxy Note', 'Galaxy Note', 'Galaxy Note 10...']\n"
     ]
    }
   ],
   "source": [
    "data = soup.find_all(string= 'Galaxy')\n",
    "print(data)#empty even tho so many galaxy products\n",
    "\n",
    "import re\n",
    "data = soup.find_all(string= re.compile('Galaxy'))\n",
    "print(data)\n"
   ]
  },
  {
   "cell_type": "markdown",
   "metadata": {},
   "source": [
    "# Making data frame"
   ]
  },
  {
   "cell_type": "code",
   "execution_count": 24,
   "metadata": {},
   "outputs": [],
   "source": [
    "import pandas as pd \n",
    "#title , description , price , reviews , rating \n"
   ]
  },
  {
   "cell_type": "code",
   "execution_count": 25,
   "metadata": {},
   "outputs": [
    {
     "name": "stdout",
     "output_type": "stream",
     "text": [
      "['Lenovo IdeaTab', 'IdeaTab A3500L', 'Acer Iconia', 'Galaxy Tab 3', 'Iconia B1-730H...', 'Memo Pad HD 7', 'Asus MeMO Pad', 'Amazon Kindle', 'Galaxy Tab 3', 'IdeaTab A8-50', 'MeMO Pad 7', 'IdeaTab A3500-...', 'IdeaTab S5000', 'Galaxy Tab 4', 'Galaxy Tab', 'MeMo PAD FHD 1...', 'Galaxy Note', 'Galaxy Note', 'iPad Mini Reti...', 'Galaxy Note 10...', 'Apple iPad Air']\n",
      "['$69.99', '$88.99', '$96.99', '$97.99', '$99.99', '$101.99', '$102.99', '$103.99', '$107.99', '$121.99', '$130.99', '$148.99', '$172.99', '$233.99', '$251.99', '$320.99', '$399.99', '$489.99', '$537.99', '$587.99', '$603.99']\n",
      "['7\" screen, Android', 'Black, 7\" IPS, Quad-Core 1.2GHz, 8GB, Android 4.2', '7\" screen, Android, 16GB', '7\", 8GB, Wi-Fi, Android 4.2, White', 'Black, 7\", 1.6GHz Dual-Core, 8GB, Android 4.4', 'IPS, Dual-Core 1.2GHz, 8GB, Android 4.3', '7\" screen, Android, 8GB', '6\" screen, wifi', '7\", 8GB, Wi-Fi, Android 4.2, Yellow', 'Blue, 8\" IPS, Quad-Core 1.3GHz, 16GB, Android 4.2', 'White, 7\", Atom 1.2GHz, 8GB, Android 4.4', 'Blue, 7\" IPS, Quad-Core 1.3GHz, 8GB, 3G, Android 4.2', 'Silver, 7\" IPS, Quad-Core 1.2Ghz, 16GB, 3G, Android 4.2', 'LTE (SM-T235), Quad-Core 1.2GHz, 8GB, Black', '16GB, White', 'White, 10.1\" IPS, 1.6GHz, 2GB, 16GB, Android 4.2', '10.1\", 3G, Android 4.0, Garnet Red', '12.2\", 32GB, WiFi, Android 4.4, White', 'Wi-Fi + Cellular, 32GB, Silver', '10.1\", 32GB, Black', 'Wi-Fi, 64GB, Silver']\n",
      "['7 reviews', '7 reviews', '7 reviews', '2 reviews', '1 reviews', '10 reviews', '14 reviews', '3 reviews', '14 reviews', '13 reviews', '11 reviews', '9 reviews', '8 reviews', '1 reviews', '14 reviews', '7 reviews', '12 reviews', '9 reviews', '8 reviews', '6 reviews', '7 reviews']\n",
      "['3', '4', '1', '2', '3', '2', '4', '4', '2', '2', '1', '2', '3', '4', '3', '2', '4', '3', '2', '2', '3']\n"
     ]
    }
   ],
   "source": [
    "titles = soup.find_all('a' , {'class' : 'title'})\n",
    "product_names = []\n",
    "for i in titles:\n",
    "    product_names.append(i.string)\n",
    "\n",
    "print(product_names)\n",
    "\n",
    "prices = soup.find_all('h4' , {'class' : 'float-end price card-title pull-right'})\n",
    "product_prices = []\n",
    "for i in prices:\n",
    "    product_prices.append(i.string)\n",
    "\n",
    "print(product_prices)\n",
    "\n",
    "desc = soup.find_all('p' , {'class' : 'description card-text'})\n",
    "product_desc = []\n",
    "for i in desc:\n",
    "    product_desc.append(i.string)\n",
    "\n",
    "print(product_desc)\n",
    "\n",
    "review = soup.find_all('p' , {'class' : 'review-count'})\n",
    "product_rev = []\n",
    "for i in review:\n",
    "    product_rev.append(i.string)\n",
    "\n",
    "print(product_rev)\n",
    "\n",
    "rating = soup.find_all('p' , {'data-rating' : True})\n",
    "product_rat = []\n",
    "for i in rating:\n",
    "    product_rat.append(i['data-rating'])\n",
    "\n",
    "print(product_rat)\n"
   ]
  },
  {
   "cell_type": "code",
   "execution_count": 26,
   "metadata": {},
   "outputs": [
    {
     "data": {
      "text/html": [
       "<div>\n",
       "<style scoped>\n",
       "    .dataframe tbody tr th:only-of-type {\n",
       "        vertical-align: middle;\n",
       "    }\n",
       "\n",
       "    .dataframe tbody tr th {\n",
       "        vertical-align: top;\n",
       "    }\n",
       "\n",
       "    .dataframe thead th {\n",
       "        text-align: right;\n",
       "    }\n",
       "</style>\n",
       "<table border=\"1\" class=\"dataframe\">\n",
       "  <thead>\n",
       "    <tr style=\"text-align: right;\">\n",
       "      <th></th>\n",
       "      <th>Title</th>\n",
       "      <th>Description</th>\n",
       "      <th>Rating</th>\n",
       "      <th>Reviews</th>\n",
       "      <th>Price</th>\n",
       "    </tr>\n",
       "  </thead>\n",
       "  <tbody>\n",
       "    <tr>\n",
       "      <th>0</th>\n",
       "      <td>Lenovo IdeaTab</td>\n",
       "      <td>7\" screen, Android</td>\n",
       "      <td>3</td>\n",
       "      <td>7 reviews</td>\n",
       "      <td>$69.99</td>\n",
       "    </tr>\n",
       "    <tr>\n",
       "      <th>1</th>\n",
       "      <td>IdeaTab A3500L</td>\n",
       "      <td>Black, 7\" IPS, Quad-Core 1.2GHz, 8GB, Android 4.2</td>\n",
       "      <td>4</td>\n",
       "      <td>7 reviews</td>\n",
       "      <td>$88.99</td>\n",
       "    </tr>\n",
       "    <tr>\n",
       "      <th>2</th>\n",
       "      <td>Acer Iconia</td>\n",
       "      <td>7\" screen, Android, 16GB</td>\n",
       "      <td>1</td>\n",
       "      <td>7 reviews</td>\n",
       "      <td>$96.99</td>\n",
       "    </tr>\n",
       "    <tr>\n",
       "      <th>3</th>\n",
       "      <td>Galaxy Tab 3</td>\n",
       "      <td>7\", 8GB, Wi-Fi, Android 4.2, White</td>\n",
       "      <td>2</td>\n",
       "      <td>2 reviews</td>\n",
       "      <td>$97.99</td>\n",
       "    </tr>\n",
       "    <tr>\n",
       "      <th>4</th>\n",
       "      <td>Iconia B1-730H...</td>\n",
       "      <td>Black, 7\", 1.6GHz Dual-Core, 8GB, Android 4.4</td>\n",
       "      <td>3</td>\n",
       "      <td>1 reviews</td>\n",
       "      <td>$99.99</td>\n",
       "    </tr>\n",
       "    <tr>\n",
       "      <th>5</th>\n",
       "      <td>Memo Pad HD 7</td>\n",
       "      <td>IPS, Dual-Core 1.2GHz, 8GB, Android 4.3</td>\n",
       "      <td>2</td>\n",
       "      <td>10 reviews</td>\n",
       "      <td>$101.99</td>\n",
       "    </tr>\n",
       "    <tr>\n",
       "      <th>6</th>\n",
       "      <td>Asus MeMO Pad</td>\n",
       "      <td>7\" screen, Android, 8GB</td>\n",
       "      <td>4</td>\n",
       "      <td>14 reviews</td>\n",
       "      <td>$102.99</td>\n",
       "    </tr>\n",
       "    <tr>\n",
       "      <th>7</th>\n",
       "      <td>Amazon Kindle</td>\n",
       "      <td>6\" screen, wifi</td>\n",
       "      <td>4</td>\n",
       "      <td>3 reviews</td>\n",
       "      <td>$103.99</td>\n",
       "    </tr>\n",
       "    <tr>\n",
       "      <th>8</th>\n",
       "      <td>Galaxy Tab 3</td>\n",
       "      <td>7\", 8GB, Wi-Fi, Android 4.2, Yellow</td>\n",
       "      <td>2</td>\n",
       "      <td>14 reviews</td>\n",
       "      <td>$107.99</td>\n",
       "    </tr>\n",
       "    <tr>\n",
       "      <th>9</th>\n",
       "      <td>IdeaTab A8-50</td>\n",
       "      <td>Blue, 8\" IPS, Quad-Core 1.3GHz, 16GB, Android 4.2</td>\n",
       "      <td>2</td>\n",
       "      <td>13 reviews</td>\n",
       "      <td>$121.99</td>\n",
       "    </tr>\n",
       "    <tr>\n",
       "      <th>10</th>\n",
       "      <td>MeMO Pad 7</td>\n",
       "      <td>White, 7\", Atom 1.2GHz, 8GB, Android 4.4</td>\n",
       "      <td>1</td>\n",
       "      <td>11 reviews</td>\n",
       "      <td>$130.99</td>\n",
       "    </tr>\n",
       "    <tr>\n",
       "      <th>11</th>\n",
       "      <td>IdeaTab A3500-...</td>\n",
       "      <td>Blue, 7\" IPS, Quad-Core 1.3GHz, 8GB, 3G, Andro...</td>\n",
       "      <td>2</td>\n",
       "      <td>9 reviews</td>\n",
       "      <td>$148.99</td>\n",
       "    </tr>\n",
       "    <tr>\n",
       "      <th>12</th>\n",
       "      <td>IdeaTab S5000</td>\n",
       "      <td>Silver, 7\" IPS, Quad-Core 1.2Ghz, 16GB, 3G, An...</td>\n",
       "      <td>3</td>\n",
       "      <td>8 reviews</td>\n",
       "      <td>$172.99</td>\n",
       "    </tr>\n",
       "    <tr>\n",
       "      <th>13</th>\n",
       "      <td>Galaxy Tab 4</td>\n",
       "      <td>LTE (SM-T235), Quad-Core 1.2GHz, 8GB, Black</td>\n",
       "      <td>4</td>\n",
       "      <td>1 reviews</td>\n",
       "      <td>$233.99</td>\n",
       "    </tr>\n",
       "    <tr>\n",
       "      <th>14</th>\n",
       "      <td>Galaxy Tab</td>\n",
       "      <td>16GB, White</td>\n",
       "      <td>3</td>\n",
       "      <td>14 reviews</td>\n",
       "      <td>$251.99</td>\n",
       "    </tr>\n",
       "    <tr>\n",
       "      <th>15</th>\n",
       "      <td>MeMo PAD FHD 1...</td>\n",
       "      <td>White, 10.1\" IPS, 1.6GHz, 2GB, 16GB, Android 4.2</td>\n",
       "      <td>2</td>\n",
       "      <td>7 reviews</td>\n",
       "      <td>$320.99</td>\n",
       "    </tr>\n",
       "    <tr>\n",
       "      <th>16</th>\n",
       "      <td>Galaxy Note</td>\n",
       "      <td>10.1\", 3G, Android 4.0, Garnet Red</td>\n",
       "      <td>4</td>\n",
       "      <td>12 reviews</td>\n",
       "      <td>$399.99</td>\n",
       "    </tr>\n",
       "    <tr>\n",
       "      <th>17</th>\n",
       "      <td>Galaxy Note</td>\n",
       "      <td>12.2\", 32GB, WiFi, Android 4.4, White</td>\n",
       "      <td>3</td>\n",
       "      <td>9 reviews</td>\n",
       "      <td>$489.99</td>\n",
       "    </tr>\n",
       "    <tr>\n",
       "      <th>18</th>\n",
       "      <td>iPad Mini Reti...</td>\n",
       "      <td>Wi-Fi + Cellular, 32GB, Silver</td>\n",
       "      <td>2</td>\n",
       "      <td>8 reviews</td>\n",
       "      <td>$537.99</td>\n",
       "    </tr>\n",
       "    <tr>\n",
       "      <th>19</th>\n",
       "      <td>Galaxy Note 10...</td>\n",
       "      <td>10.1\", 32GB, Black</td>\n",
       "      <td>2</td>\n",
       "      <td>6 reviews</td>\n",
       "      <td>$587.99</td>\n",
       "    </tr>\n",
       "    <tr>\n",
       "      <th>20</th>\n",
       "      <td>Apple iPad Air</td>\n",
       "      <td>Wi-Fi, 64GB, Silver</td>\n",
       "      <td>3</td>\n",
       "      <td>7 reviews</td>\n",
       "      <td>$603.99</td>\n",
       "    </tr>\n",
       "  </tbody>\n",
       "</table>\n",
       "</div>"
      ],
      "text/plain": [
       "                Title                                        Description  \\\n",
       "0      Lenovo IdeaTab                                 7\" screen, Android   \n",
       "1      IdeaTab A3500L  Black, 7\" IPS, Quad-Core 1.2GHz, 8GB, Android 4.2   \n",
       "2         Acer Iconia                           7\" screen, Android, 16GB   \n",
       "3        Galaxy Tab 3                 7\", 8GB, Wi-Fi, Android 4.2, White   \n",
       "4   Iconia B1-730H...      Black, 7\", 1.6GHz Dual-Core, 8GB, Android 4.4   \n",
       "5       Memo Pad HD 7            IPS, Dual-Core 1.2GHz, 8GB, Android 4.3   \n",
       "6       Asus MeMO Pad                            7\" screen, Android, 8GB   \n",
       "7       Amazon Kindle                                    6\" screen, wifi   \n",
       "8        Galaxy Tab 3                7\", 8GB, Wi-Fi, Android 4.2, Yellow   \n",
       "9       IdeaTab A8-50  Blue, 8\" IPS, Quad-Core 1.3GHz, 16GB, Android 4.2   \n",
       "10         MeMO Pad 7           White, 7\", Atom 1.2GHz, 8GB, Android 4.4   \n",
       "11  IdeaTab A3500-...  Blue, 7\" IPS, Quad-Core 1.3GHz, 8GB, 3G, Andro...   \n",
       "12      IdeaTab S5000  Silver, 7\" IPS, Quad-Core 1.2Ghz, 16GB, 3G, An...   \n",
       "13       Galaxy Tab 4        LTE (SM-T235), Quad-Core 1.2GHz, 8GB, Black   \n",
       "14         Galaxy Tab                                        16GB, White   \n",
       "15  MeMo PAD FHD 1...   White, 10.1\" IPS, 1.6GHz, 2GB, 16GB, Android 4.2   \n",
       "16        Galaxy Note                 10.1\", 3G, Android 4.0, Garnet Red   \n",
       "17        Galaxy Note              12.2\", 32GB, WiFi, Android 4.4, White   \n",
       "18  iPad Mini Reti...                     Wi-Fi + Cellular, 32GB, Silver   \n",
       "19  Galaxy Note 10...                                 10.1\", 32GB, Black   \n",
       "20     Apple iPad Air                                Wi-Fi, 64GB, Silver   \n",
       "\n",
       "   Rating     Reviews    Price  \n",
       "0       3   7 reviews   $69.99  \n",
       "1       4   7 reviews   $88.99  \n",
       "2       1   7 reviews   $96.99  \n",
       "3       2   2 reviews   $97.99  \n",
       "4       3   1 reviews   $99.99  \n",
       "5       2  10 reviews  $101.99  \n",
       "6       4  14 reviews  $102.99  \n",
       "7       4   3 reviews  $103.99  \n",
       "8       2  14 reviews  $107.99  \n",
       "9       2  13 reviews  $121.99  \n",
       "10      1  11 reviews  $130.99  \n",
       "11      2   9 reviews  $148.99  \n",
       "12      3   8 reviews  $172.99  \n",
       "13      4   1 reviews  $233.99  \n",
       "14      3  14 reviews  $251.99  \n",
       "15      2   7 reviews  $320.99  \n",
       "16      4  12 reviews  $399.99  \n",
       "17      3   9 reviews  $489.99  \n",
       "18      2   8 reviews  $537.99  \n",
       "19      2   6 reviews  $587.99  \n",
       "20      3   7 reviews  $603.99  "
      ]
     },
     "execution_count": 26,
     "metadata": {},
     "output_type": "execute_result"
    }
   ],
   "source": [
    "df = {\n",
    "    'Title' : product_names , \n",
    "    'Description' : product_desc ,\n",
    "    'Rating' : product_rat,\n",
    "    'Reviews' : product_rev,\n",
    "    'Price' : product_prices \n",
    "}\n",
    "\n",
    "\n",
    "df = pd.DataFrame(df)\n",
    "df"
   ]
  },
  {
   "cell_type": "markdown",
   "metadata": {},
   "source": [
    "# Selenium\n"
   ]
  },
  {
   "cell_type": "code",
   "execution_count": 30,
   "metadata": {},
   "outputs": [
    {
     "name": "stdout",
     "output_type": "stream",
     "text": [
      "Redmi A2+ 3GB - 64GB 5000mAh 10W fast charging 6.52” HD+ Dot Drop display PTA  Approved  system active\n",
      "Redmi 13C  6GB RAM-128GB ROM  6.74\" Dot Drop display Battery & Charging: 5000mAh (typ)  PTA APPROVED OFFICIAL WARRANTY\n",
      "Redmi A2+ || 3GB Ram 64GB Rom || 5000mAh Battery Xiaomi Redmi A2 Plus\n",
      "Infinix Note 30 RAM 8GB+8GB & 256GB Storage 6.78\" FHD 5000mAh Mega Battery Pta Approved Official Warranty\n",
      "Tecno SPARK 10C  4GB RAM -128GB ROM 5000mAh PTA APPROVED OFFICIAL BRAND WARRANTY\n",
      "Infinix Note 30 , 8GB RAM 256GB ROM , 64MP Main Camera , Fingerprint , 5000mAh Fast Charging\n",
      "Samsung Galaxy A24 8GB+128GB\n",
      "Redmi 12  8GB RAM - 128GB ROM 6.79\" FHD+ DotDisplay  5000mAh battery  PTA Approved Official Brand Warranty\n",
      "Infinix Note 30 Pro 8-256 GB PTA Approved With Official 1 Year Warranty\n",
      "vivo Y17s - 6GB RAM - 128GB ROM - 5000mAh Battery - 50+2 MP Camera - Helio G85 Processor\n",
      "Xiaomi Redmi Note 12 || 8GB Ram 128GB Rom || 5000mAh Battery 33W Fast Charger\n",
      "Samsung Galaxy A54 8GB+256GB\n",
      "Samsung Galaxy A14 6GB-128GB ROM PTA APPROVED OFFICIAL BRAND WARRANTY SYSTEM ACTIVE\n",
      "Tecno CAMON 20 8GB RAM-256GB ROM 5000MAH BATTERY PTA APPROVED OFFICIAL BRAND WARRANTY\n",
      "Realme Narzo 50A Prime (4GB-128GB) PTA Approved With Official 1 Year Warranty\n",
      "Samsung Galaxy A04s 4GB - 128GB OFFICIAL PTA APPROVED OFFICIAL WARRANTY\n",
      "Redmi 12 || 8GB Ram 128GB Rom || 5000mAh Battery\n",
      "Samsung Galaxy A04s 4GB+128GB\n",
      "Imported ViVo Y85 with Box & Charger - Dual Sim Approved - ViVo Y85a - 4GB RAM Mobile - Snapdragon Mobile\n",
      "Oppo A57 - 5.2\" HD Display - 3GB RAM - 32GB ROM - Dual Sim - PTA Approved (Phone and Box Only, No Accessories- Mix Color)\n",
      "TECNO SPARK 20 256GB ROM+16GB RAM*(8GB+8GB Extended) 5000mAh(typ) BATTERY  6.6\" HD+ 90Hz Refresh Rate PTA APPROVED OFFICIAL BRAND WARRANTY\n",
      "Redmi Note 12  8GB Ram 128GB Rom, Display Size  6.67 Inches, Battery Capacity 5000 mAh , Fast charging 33W\n",
      "Samsung Galaxy A34 8GB+256GB\n",
      "Infinix Zero 30 4G , 8GB RAM 256GB ROM , 108MP Main Camera , Fingersensor ,  5000 mAh Battery\n",
      "Samsung Galaxy A04 - 6.5\" Inch Display - 3GB RAM - 32GB ROM\n",
      "Redmi A2 Plus , 3GB Ram 4GB Rom , 6.5 Inches IPS Display , 5000 mAh   - Battery\n",
      "Samsung Galaxy A14 6GB+128GB\n",
      "Samsung Galaxy A14 4GB+128GB\n",
      "Tecno Spark 10 Pro RAM 8 GB ROM 128 GB front Camera 32 MP Back Camera 50 MP Battery Type5000 mAh\n",
      "Oppo A57 - 5.2\" HD Display - 3GB RAM - 32GB ROM - Dual Sim - PTA Approved - Phone Only (Charger, Box and Accessories Not Included)\n",
      "SPARX NEO 7 ULTRA 6+128GB || 6.7\" DISPLAY || 5000mAh BATTERY || OCTA CORE PROCESSOR || FAST CHARGING || PTA APPROVED || ONE YEAR BRAND WARRANTY\n",
      "itel  A60s 4GB RAM* +128GB ROM 6.6″ HD+ Display 5000mAh Battery PTA approved Official Brand Warranty\n",
      "Itel S23 - 6.6\" Inch Display - 8GB + 8GB RAM - 128GB / 256GB ROM\n",
      "Xiaomi Redmi Note 12 Pro RAM 8 GB ROM 256 GB Front Camera 16 MP Back Camera 108 MP + 08 MP + 02 MP Battery Type\tLi-Po 5000 mAh, non-removable\n",
      "Redmi Note 12 || 8GB Ram 128GB Rom || 6.67 Inches AMOLED Display || 5000 mAh - Fast charging 33W wired ||\n",
      "Samsung Galaxy A04s 4GB+64GB\n",
      "Tecno  POVA 5 Pro 5G  256GB ROM + 8GB RAM  5000mAh Mega Battery Pta Approevd Official Brand Warranty\n",
      "Neo 5 Plus | 3GB/64GB | Display: 6.56\" | Camera: 13MP AF + CIF | 8MP Selfie | Battery: 5000mAh | Processor: Octa-Core | Sparx\n",
      "Tecno Spark 20 || 8GB Ram 256GB Rom || 5000mAh Battery\n",
      "Redmi 13C || 6GB Ram 128GB Rom || 5000mAh Battery\n"
     ]
    }
   ],
   "source": [
    "from selenium import webdriver\n",
    "from selenium.webdriver.common.by import By\n",
    "from selenium.webdriver.chrome.service import Service\n",
    "\n",
    "\n",
    "url = \"https://www.daraz.pk/smartphones/?spm=a2a0e.searchlistcategory.pagination.3.1c8656711xP2eM&page=1\"\n",
    "s = Service(\"C:/Users/Hp/Downloads/chromedriver-win64/chromedriver-win64/chromedriver.exe\")\n",
    "driver = webdriver.Chrome(service=s)\n",
    "driver.get(url)\n",
    "box = soup.find('div' , class_ = 'box--ujueT')\n",
    "soup  = BeautifulSoup(driver.page_source, 'html.parser')\n",
    "names = box.find_all('div' , class_ = 'title-wrapper--IaQ0m')\n",
    "for i in names:\n",
    "    print(i.text)\n",
    "driver.quit()"
   ]
  }
 ],
 "metadata": {
  "kernelspec": {
   "display_name": "base",
   "language": "python",
   "name": "python3"
  },
  "language_info": {
   "codemirror_mode": {
    "name": "ipython",
    "version": 3
   },
   "file_extension": ".py",
   "mimetype": "text/x-python",
   "name": "python",
   "nbconvert_exporter": "python",
   "pygments_lexer": "ipython3",
   "version": "3.10.9"
  }
 },
 "nbformat": 4,
 "nbformat_minor": 2
}
