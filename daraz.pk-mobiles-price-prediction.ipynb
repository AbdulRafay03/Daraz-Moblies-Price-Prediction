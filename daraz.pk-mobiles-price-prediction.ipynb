{
 "cells": [
  {
   "cell_type": "markdown",
   "id": "b3a3c959",
   "metadata": {
    "papermill": {
     "duration": 0.014872,
     "end_time": "2024-02-09T18:46:56.146775",
     "exception": false,
     "start_time": "2024-02-09T18:46:56.131903",
     "status": "completed"
    },
    "tags": []
   },
   "source": [
    "# Table of Contents\n",
    "- [Reading the Data](#rtd)\n",
    "- [Feature Extraction from Unstructed data](#FE)\n",
    "- [EDA](#EDA)\n",
    "- [Visualization](#viz)\n",
    "- [Data Wrangling](#dw)\n",
    "    - [Filling Missing Values](#na)\n",
    "    - [Outlier Detection and Removal](#out)\n",
    "- [Preprocessing](#pre)\n",
    "    - [Normalization](#norm)\n",
    "    - [Label Encoding](#le)\n",
    "    - [Feature Selection](#fe)\n",
    "    - [Scaling](#sc)\n",
    "- [Modeling](#mod)\n",
    "- [Results](#res)\n"
   ]
  },
  {
   "cell_type": "code",
   "execution_count": 1,
   "id": "8368263c",
   "metadata": {
    "execution": {
     "iopub.execute_input": "2024-02-09T18:46:56.176087Z",
     "iopub.status.busy": "2024-02-09T18:46:56.175596Z",
     "iopub.status.idle": "2024-02-09T18:46:59.190042Z",
     "shell.execute_reply": "2024-02-09T18:46:59.188755Z"
    },
    "papermill": {
     "duration": 3.032133,
     "end_time": "2024-02-09T18:46:59.192738",
     "exception": false,
     "start_time": "2024-02-09T18:46:56.160605",
     "status": "completed"
    },
    "tags": []
   },
   "outputs": [],
   "source": [
    "import pandas as pd\n",
    "import numpy as np\n",
    "import seaborn as sns\n",
    "import matplotlib.pyplot as plt\n",
    "import plotly.express as px\n",
    "import plotly.graph_objects as go\n",
    "from plotly.subplots import make_subplots\n",
    "import re"
   ]
  },
  {
   "cell_type": "markdown",
   "id": "d50f8d5c",
   "metadata": {
    "papermill": {
     "duration": 0.013181,
     "end_time": "2024-02-09T18:46:59.219748",
     "exception": false,
     "start_time": "2024-02-09T18:46:59.206567",
     "status": "completed"
    },
    "tags": []
   },
   "source": [
    "## Reading the Data\n",
    "<a id='rtd'></a>"
   ]
  },
  {
   "cell_type": "code",
   "execution_count": 2,
   "id": "2c4b93fb",
   "metadata": {
    "execution": {
     "iopub.execute_input": "2024-02-09T18:46:59.250721Z",
     "iopub.status.busy": "2024-02-09T18:46:59.250171Z",
     "iopub.status.idle": "2024-02-09T18:46:59.297605Z",
     "shell.execute_reply": "2024-02-09T18:46:59.296706Z"
    },
    "papermill": {
     "duration": 0.065566,
     "end_time": "2024-02-09T18:46:59.299874",
     "exception": false,
     "start_time": "2024-02-09T18:46:59.234308",
     "status": "completed"
    },
    "tags": []
   },
   "outputs": [
    {
     "data": {
      "text/html": [
       "<div>\n",
       "<style scoped>\n",
       "    .dataframe tbody tr th:only-of-type {\n",
       "        vertical-align: middle;\n",
       "    }\n",
       "\n",
       "    .dataframe tbody tr th {\n",
       "        vertical-align: top;\n",
       "    }\n",
       "\n",
       "    .dataframe thead th {\n",
       "        text-align: right;\n",
       "    }\n",
       "</style>\n",
       "<table border=\"1\" class=\"dataframe\">\n",
       "  <thead>\n",
       "    <tr style=\"text-align: right;\">\n",
       "      <th></th>\n",
       "      <th>Unnamed: 0</th>\n",
       "      <th>Name</th>\n",
       "      <th>Rating</th>\n",
       "      <th>Number of Ratings</th>\n",
       "      <th>Price</th>\n",
       "    </tr>\n",
       "  </thead>\n",
       "  <tbody>\n",
       "    <tr>\n",
       "      <th>0</th>\n",
       "      <td>0</td>\n",
       "      <td>Redmi A2+ 3GB - 64GB 5000mAh 10W fast charging...</td>\n",
       "      <td>4.7/5</td>\n",
       "      <td>(240)</td>\n",
       "      <td>19,299</td>\n",
       "    </tr>\n",
       "    <tr>\n",
       "      <th>1</th>\n",
       "      <td>1</td>\n",
       "      <td>Redmi 13C  6GB RAM-128GB ROM  6.74\" Dot Drop d...</td>\n",
       "      <td>4.8/5</td>\n",
       "      <td>(13)</td>\n",
       "      <td>32,999</td>\n",
       "    </tr>\n",
       "    <tr>\n",
       "      <th>2</th>\n",
       "      <td>2</td>\n",
       "      <td>Redmi A2+ || 3GB Ram 64GB Rom || 5000mAh Batte...</td>\n",
       "      <td>4.7/5</td>\n",
       "      <td>(156)</td>\n",
       "      <td>19,499</td>\n",
       "    </tr>\n",
       "    <tr>\n",
       "      <th>3</th>\n",
       "      <td>3</td>\n",
       "      <td>Infinix Note 30 RAM 8GB+8GB &amp; 256GB Storage 6....</td>\n",
       "      <td>4.5/5</td>\n",
       "      <td>(82)</td>\n",
       "      <td>40,899</td>\n",
       "    </tr>\n",
       "    <tr>\n",
       "      <th>4</th>\n",
       "      <td>4</td>\n",
       "      <td>Tecno SPARK 10C  4GB RAM -128GB ROM 5000mAh PT...</td>\n",
       "      <td>4.6/5</td>\n",
       "      <td>(118)</td>\n",
       "      <td>28,449</td>\n",
       "    </tr>\n",
       "    <tr>\n",
       "      <th>...</th>\n",
       "      <td>...</td>\n",
       "      <td>...</td>\n",
       "      <td>...</td>\n",
       "      <td>...</td>\n",
       "      <td>...</td>\n",
       "    </tr>\n",
       "    <tr>\n",
       "      <th>1490</th>\n",
       "      <td>1490</td>\n",
       "      <td>Redmi note 12 8GB RAM -128GB ROM PTA APPROVED ...</td>\n",
       "      <td>5/5</td>\n",
       "      <td>(1)</td>\n",
       "      <td>47,999</td>\n",
       "    </tr>\n",
       "    <tr>\n",
       "      <th>1491</th>\n",
       "      <td>1491</td>\n",
       "      <td>Tecno Pova 5 Pro 5G - 8+8GB RAM 256GB ROM 6.78...</td>\n",
       "      <td>5/5</td>\n",
       "      <td>(1)</td>\n",
       "      <td>59,980</td>\n",
       "    </tr>\n",
       "    <tr>\n",
       "      <th>1492</th>\n",
       "      <td>1492</td>\n",
       "      <td>Xiaomi Poco C 65 RAM 6 GB ROM 128 GB Front Cam...</td>\n",
       "      <td>5/5</td>\n",
       "      <td>(1)</td>\n",
       "      <td>39,999</td>\n",
       "    </tr>\n",
       "    <tr>\n",
       "      <th>1493</th>\n",
       "      <td>1493</td>\n",
       "      <td>Tecno Spark Go 2024 , 4GB RAM 64GB ROM , Back ...</td>\n",
       "      <td>5/5</td>\n",
       "      <td>(1)</td>\n",
       "      <td>26,499</td>\n",
       "    </tr>\n",
       "    <tr>\n",
       "      <th>1494</th>\n",
       "      <td>1494</td>\n",
       "      <td>Itel A27 4G || 2GB Ram 32GB Rom || 4000mAh Bat...</td>\n",
       "      <td>1/5</td>\n",
       "      <td>(1)</td>\n",
       "      <td>21,999</td>\n",
       "    </tr>\n",
       "  </tbody>\n",
       "</table>\n",
       "<p>1495 rows × 5 columns</p>\n",
       "</div>"
      ],
      "text/plain": [
       "      Unnamed: 0                                               Name Rating  \\\n",
       "0              0  Redmi A2+ 3GB - 64GB 5000mAh 10W fast charging...  4.7/5   \n",
       "1              1  Redmi 13C  6GB RAM-128GB ROM  6.74\" Dot Drop d...  4.8/5   \n",
       "2              2  Redmi A2+ || 3GB Ram 64GB Rom || 5000mAh Batte...  4.7/5   \n",
       "3              3  Infinix Note 30 RAM 8GB+8GB & 256GB Storage 6....  4.5/5   \n",
       "4              4  Tecno SPARK 10C  4GB RAM -128GB ROM 5000mAh PT...  4.6/5   \n",
       "...          ...                                                ...    ...   \n",
       "1490        1490  Redmi note 12 8GB RAM -128GB ROM PTA APPROVED ...    5/5   \n",
       "1491        1491  Tecno Pova 5 Pro 5G - 8+8GB RAM 256GB ROM 6.78...    5/5   \n",
       "1492        1492  Xiaomi Poco C 65 RAM 6 GB ROM 128 GB Front Cam...    5/5   \n",
       "1493        1493  Tecno Spark Go 2024 , 4GB RAM 64GB ROM , Back ...    5/5   \n",
       "1494        1494  Itel A27 4G || 2GB Ram 32GB Rom || 4000mAh Bat...    1/5   \n",
       "\n",
       "     Number of Ratings   Price  \n",
       "0                (240)  19,299  \n",
       "1                 (13)  32,999  \n",
       "2                (156)  19,499  \n",
       "3                 (82)  40,899  \n",
       "4                (118)  28,449  \n",
       "...                ...     ...  \n",
       "1490               (1)  47,999  \n",
       "1491               (1)  59,980  \n",
       "1492               (1)  39,999  \n",
       "1493               (1)  26,499  \n",
       "1494               (1)  21,999  \n",
       "\n",
       "[1495 rows x 5 columns]"
      ]
     },
     "execution_count": 2,
     "metadata": {},
     "output_type": "execute_result"
    }
   ],
   "source": [
    "df = pd.read_csv(r\"/kaggle/input/daraz-mobiles-data/daraz_data.csv\" )\n",
    "df"
   ]
  },
  {
   "cell_type": "code",
   "execution_count": 3,
   "id": "b2d6b316",
   "metadata": {
    "execution": {
     "iopub.execute_input": "2024-02-09T18:46:59.330597Z",
     "iopub.status.busy": "2024-02-09T18:46:59.329481Z",
     "iopub.status.idle": "2024-02-09T18:46:59.359109Z",
     "shell.execute_reply": "2024-02-09T18:46:59.358000Z"
    },
    "papermill": {
     "duration": 0.047495,
     "end_time": "2024-02-09T18:46:59.361596",
     "exception": false,
     "start_time": "2024-02-09T18:46:59.314101",
     "status": "completed"
    },
    "tags": []
   },
   "outputs": [
    {
     "name": "stdout",
     "output_type": "stream",
     "text": [
      "DataFrame Information:\n",
      "------------------------------\n",
      "DF Shape:  (1495, 5)\n",
      "number of Columns:  5\n",
      "number of Observations:  1495\n",
      "Number of values in df:  7475\n",
      "Total Number of Missing values in df:  0\n",
      "percentage of Missing values :  0.00 %\n",
      "Total Number of Duplicated records in df :  0\n",
      "percentage of Duplicated values :  0.00 %\n"
     ]
    }
   ],
   "source": [
    "print(\"DataFrame Information:\")\n",
    "print(\"-\" * 30)\n",
    "print('DF Shape: ' ,df.shape)\n",
    "print('number of Columns: ' ,len(df.columns))\n",
    "print('number of Observations: ' ,len(df))\n",
    "print('Number of values in df: ' , df.count().sum())\n",
    "print('Total Number of Missing values in df: ' , df.isna().sum().sum())\n",
    "print('percentage of Missing values : ' ,  \"{:.2f}\".format(df.isna().sum().sum()/df.count().sum() *100),'%')\n",
    "print('Total Number of Duplicated records in df : ' , df.duplicated().sum().sum())\n",
    "print('percentage of Duplicated values : ' ,  \"{:.2f}\".format(df.duplicated().sum().sum()/df.count().sum() *100),'%')"
   ]
  },
  {
   "cell_type": "markdown",
   "id": "d6b4d4c5",
   "metadata": {
    "papermill": {
     "duration": 0.014515,
     "end_time": "2024-02-09T18:46:59.390353",
     "exception": false,
     "start_time": "2024-02-09T18:46:59.375838",
     "status": "completed"
    },
    "tags": []
   },
   "source": [
    "# Feature Extraction from Unstructed data\n",
    "<a id='FE'></a>"
   ]
  },
  {
   "cell_type": "code",
   "execution_count": 4,
   "id": "edf89e43",
   "metadata": {
    "execution": {
     "iopub.execute_input": "2024-02-09T18:46:59.420969Z",
     "iopub.status.busy": "2024-02-09T18:46:59.420183Z",
     "iopub.status.idle": "2024-02-09T18:46:59.427874Z",
     "shell.execute_reply": "2024-02-09T18:46:59.426971Z"
    },
    "papermill": {
     "duration": 0.025597,
     "end_time": "2024-02-09T18:46:59.430159",
     "exception": false,
     "start_time": "2024-02-09T18:46:59.404562",
     "status": "completed"
    },
    "tags": []
   },
   "outputs": [],
   "source": [
    "df.drop('Unnamed: 0' , axis= 1 , inplace=True)"
   ]
  },
  {
   "cell_type": "code",
   "execution_count": 5,
   "id": "47a026a8",
   "metadata": {
    "execution": {
     "iopub.execute_input": "2024-02-09T18:46:59.460666Z",
     "iopub.status.busy": "2024-02-09T18:46:59.459994Z",
     "iopub.status.idle": "2024-02-09T18:46:59.466215Z",
     "shell.execute_reply": "2024-02-09T18:46:59.465437Z"
    },
    "papermill": {
     "duration": 0.023906,
     "end_time": "2024-02-09T18:46:59.468330",
     "exception": false,
     "start_time": "2024-02-09T18:46:59.444424",
     "status": "completed"
    },
    "tags": []
   },
   "outputs": [],
   "source": [
    "df['Name'] = df['Name'].str.lower()"
   ]
  },
  {
   "cell_type": "code",
   "execution_count": 6,
   "id": "84bf1683",
   "metadata": {
    "execution": {
     "iopub.execute_input": "2024-02-09T18:46:59.498833Z",
     "iopub.status.busy": "2024-02-09T18:46:59.497936Z",
     "iopub.status.idle": "2024-02-09T18:46:59.506421Z",
     "shell.execute_reply": "2024-02-09T18:46:59.505382Z"
    },
    "papermill": {
     "duration": 0.026,
     "end_time": "2024-02-09T18:46:59.508531",
     "exception": false,
     "start_time": "2024-02-09T18:46:59.482531",
     "status": "completed"
    },
    "tags": []
   },
   "outputs": [
    {
     "data": {
      "text/plain": [
       "0       redmi a2+ 3gb - 64gb 5000mah 10w fast charging...\n",
       "1       redmi 13c  6gb ram-128gb rom  6.74\" dot drop d...\n",
       "2       redmi a2+ || 3gb ram 64gb rom || 5000mah batte...\n",
       "3       infinix note 30 ram 8gb+8gb & 256gb storage 6....\n",
       "4       tecno spark 10c  4gb ram -128gb rom 5000mah pt...\n",
       "                              ...                        \n",
       "1490    redmi note 12 8gb ram -128gb rom pta approved ...\n",
       "1491    tecno pova 5 pro 5g - 8+8gb ram 256gb rom 6.78...\n",
       "1492    xiaomi poco c 65 ram 6 gb rom 128 gb front cam...\n",
       "1493    tecno spark go 2024 , 4gb ram 64gb rom , back ...\n",
       "1494    itel a27 4g || 2gb ram 32gb rom || 4000mah bat...\n",
       "Name: Name, Length: 1495, dtype: object"
      ]
     },
     "execution_count": 6,
     "metadata": {},
     "output_type": "execute_result"
    }
   ],
   "source": [
    "df['Name']"
   ]
  },
  {
   "cell_type": "code",
   "execution_count": 7,
   "id": "2f13fa02",
   "metadata": {
    "execution": {
     "iopub.execute_input": "2024-02-09T18:46:59.539463Z",
     "iopub.status.busy": "2024-02-09T18:46:59.538827Z",
     "iopub.status.idle": "2024-02-09T18:46:59.558303Z",
     "shell.execute_reply": "2024-02-09T18:46:59.557122Z"
    },
    "papermill": {
     "duration": 0.037863,
     "end_time": "2024-02-09T18:46:59.560722",
     "exception": false,
     "start_time": "2024-02-09T18:46:59.522859",
     "status": "completed"
    },
    "tags": []
   },
   "outputs": [
    {
     "data": {
      "text/plain": [
       "array(['redmi', 'infinix', 'tecno', 'samsung', 'vivo', 'xiaomi', 'realme',\n",
       "       'imported', 'oppo', 'sparx', 'itel', 'neo', 'vgotel', 'nokia',\n",
       "       'etachi', 'b', 'calme', 'zte', '(phone', 'decode', 'google',\n",
       "       'sony', 'motorola', 'digit', 'kxd', 'x', 'apple', 'honor',\n",
       "       'oneplus', 'gfive', 'vnus', 'qmobile', 'aquos', 'fujitsu',\n",
       "       'huawei', 'xsmart', 'poco'], dtype=object)"
      ]
     },
     "execution_count": 7,
     "metadata": {},
     "output_type": "execute_result"
    }
   ],
   "source": [
    "def brand(input):\n",
    "    x = re.sub(r'[.-]', '', input.split()[0])\n",
    "    if x in ['s9', 's6', 's3']:\n",
    "        return 'sparx'\n",
    "    elif x == 'moto':\n",
    "        return 'motorola'\n",
    "    elif x == 'iphone':\n",
    "        return 'apple'\n",
    "    elif x in ['spark', 'tecn']:\n",
    "        return 'tecno'\n",
    "    elif x == 'galaxy':\n",
    "        return 'samsung'\n",
    "    elif x in ['zero' , 'hot']:\n",
    "        return 'infinix'\n",
    "    elif x == 'n':\n",
    "        return 'neo'\n",
    "    elif x == 'itela60s':\n",
    "        return 'itel'\n",
    "    elif x == 'dcode':\n",
    "        return 'decode'\n",
    "    elif x == 'a17':\n",
    "        return 'oppo'\n",
    "    elif x == 'vgo':\n",
    "        return 'vgotel'\n",
    "    else:\n",
    "        return x\n",
    "\n",
    "df['Brand'] = df['Name'].apply(brand)\n",
    "df['Brand'].unique()"
   ]
  },
  {
   "cell_type": "code",
   "execution_count": 8,
   "id": "956278ea",
   "metadata": {
    "execution": {
     "iopub.execute_input": "2024-02-09T18:46:59.592090Z",
     "iopub.status.busy": "2024-02-09T18:46:59.591270Z",
     "iopub.status.idle": "2024-02-09T18:47:00.630535Z",
     "shell.execute_reply": "2024-02-09T18:47:00.629411Z"
    },
    "papermill": {
     "duration": 1.057715,
     "end_time": "2024-02-09T18:47:00.632884",
     "exception": false,
     "start_time": "2024-02-09T18:46:59.575169",
     "status": "completed"
    },
    "tags": []
   },
   "outputs": [
    {
     "name": "stderr",
     "output_type": "stream",
     "text": [
      "/tmp/ipykernel_18/3974260825.py:42: FutureWarning: Series.bool is now deprecated and will be removed in future version of pandas\n",
      "  if pd.Series(input).str.contains('warranty').bool():\n"
     ]
    },
    {
     "data": {
      "text/html": [
       "<div>\n",
       "<style scoped>\n",
       "    .dataframe tbody tr th:only-of-type {\n",
       "        vertical-align: middle;\n",
       "    }\n",
       "\n",
       "    .dataframe tbody tr th {\n",
       "        vertical-align: top;\n",
       "    }\n",
       "\n",
       "    .dataframe thead th {\n",
       "        text-align: right;\n",
       "    }\n",
       "</style>\n",
       "<table border=\"1\" class=\"dataframe\">\n",
       "  <thead>\n",
       "    <tr style=\"text-align: right;\">\n",
       "      <th></th>\n",
       "      <th>Name</th>\n",
       "      <th>Rating</th>\n",
       "      <th>Number of Ratings</th>\n",
       "      <th>Price</th>\n",
       "      <th>Brand</th>\n",
       "      <th>Screen_Size</th>\n",
       "      <th>Battery</th>\n",
       "      <th>ROM</th>\n",
       "      <th>RAM</th>\n",
       "      <th>Fast Charging</th>\n",
       "      <th>Warrnaty</th>\n",
       "    </tr>\n",
       "  </thead>\n",
       "  <tbody>\n",
       "    <tr>\n",
       "      <th>0</th>\n",
       "      <td>redmi a2+ 3gb - 64gb 5000mah 10w fast charging...</td>\n",
       "      <td>4.7</td>\n",
       "      <td>240</td>\n",
       "      <td>19299</td>\n",
       "      <td>redmi</td>\n",
       "      <td>NaN</td>\n",
       "      <td>5000.0</td>\n",
       "      <td>64.0</td>\n",
       "      <td>3.0</td>\n",
       "      <td>Yes</td>\n",
       "      <td>No</td>\n",
       "    </tr>\n",
       "    <tr>\n",
       "      <th>1</th>\n",
       "      <td>redmi 13c  6gb ram-128gb rom  6.74\" dot drop d...</td>\n",
       "      <td>4.8</td>\n",
       "      <td>13</td>\n",
       "      <td>32999</td>\n",
       "      <td>redmi</td>\n",
       "      <td>6.74</td>\n",
       "      <td>5000.0</td>\n",
       "      <td>128.0</td>\n",
       "      <td>6.0</td>\n",
       "      <td>No</td>\n",
       "      <td>Yes</td>\n",
       "    </tr>\n",
       "    <tr>\n",
       "      <th>2</th>\n",
       "      <td>redmi a2+ || 3gb ram 64gb rom || 5000mah batte...</td>\n",
       "      <td>4.7</td>\n",
       "      <td>156</td>\n",
       "      <td>19499</td>\n",
       "      <td>redmi</td>\n",
       "      <td>NaN</td>\n",
       "      <td>5000.0</td>\n",
       "      <td>64.0</td>\n",
       "      <td>3.0</td>\n",
       "      <td>No</td>\n",
       "      <td>No</td>\n",
       "    </tr>\n",
       "    <tr>\n",
       "      <th>3</th>\n",
       "      <td>infinix note 30 ram 8gb+8gb &amp; 256gb storage 6....</td>\n",
       "      <td>4.5</td>\n",
       "      <td>82</td>\n",
       "      <td>40899</td>\n",
       "      <td>infinix</td>\n",
       "      <td>6.78</td>\n",
       "      <td>5000.0</td>\n",
       "      <td>256.0</td>\n",
       "      <td>8.0</td>\n",
       "      <td>No</td>\n",
       "      <td>Yes</td>\n",
       "    </tr>\n",
       "    <tr>\n",
       "      <th>4</th>\n",
       "      <td>tecno spark 10c  4gb ram -128gb rom 5000mah pt...</td>\n",
       "      <td>4.6</td>\n",
       "      <td>118</td>\n",
       "      <td>28449</td>\n",
       "      <td>tecno</td>\n",
       "      <td>NaN</td>\n",
       "      <td>5000.0</td>\n",
       "      <td>128.0</td>\n",
       "      <td>4.0</td>\n",
       "      <td>No</td>\n",
       "      <td>Yes</td>\n",
       "    </tr>\n",
       "    <tr>\n",
       "      <th>...</th>\n",
       "      <td>...</td>\n",
       "      <td>...</td>\n",
       "      <td>...</td>\n",
       "      <td>...</td>\n",
       "      <td>...</td>\n",
       "      <td>...</td>\n",
       "      <td>...</td>\n",
       "      <td>...</td>\n",
       "      <td>...</td>\n",
       "      <td>...</td>\n",
       "      <td>...</td>\n",
       "    </tr>\n",
       "    <tr>\n",
       "      <th>1490</th>\n",
       "      <td>redmi note 12 8gb ram -128gb rom pta approved ...</td>\n",
       "      <td>5.0</td>\n",
       "      <td>1</td>\n",
       "      <td>47999</td>\n",
       "      <td>redmi</td>\n",
       "      <td>NaN</td>\n",
       "      <td>NaN</td>\n",
       "      <td>128.0</td>\n",
       "      <td>8.0</td>\n",
       "      <td>Yes</td>\n",
       "      <td>Yes</td>\n",
       "    </tr>\n",
       "    <tr>\n",
       "      <th>1491</th>\n",
       "      <td>tecno pova 5 pro 5g - 8+8gb ram 256gb rom 6.78...</td>\n",
       "      <td>5.0</td>\n",
       "      <td>1</td>\n",
       "      <td>59980</td>\n",
       "      <td>tecno</td>\n",
       "      <td>NaN</td>\n",
       "      <td>5000.0</td>\n",
       "      <td>256.0</td>\n",
       "      <td>8.0</td>\n",
       "      <td>Yes</td>\n",
       "      <td>No</td>\n",
       "    </tr>\n",
       "    <tr>\n",
       "      <th>1492</th>\n",
       "      <td>xiaomi poco c 65 ram 6 gb rom 128 gb front cam...</td>\n",
       "      <td>5.0</td>\n",
       "      <td>1</td>\n",
       "      <td>39999</td>\n",
       "      <td>xiaomi</td>\n",
       "      <td>NaN</td>\n",
       "      <td>5000.0</td>\n",
       "      <td>128.0</td>\n",
       "      <td>6.0</td>\n",
       "      <td>No</td>\n",
       "      <td>No</td>\n",
       "    </tr>\n",
       "    <tr>\n",
       "      <th>1493</th>\n",
       "      <td>tecno spark go 2024 , 4gb ram 64gb rom , back ...</td>\n",
       "      <td>5.0</td>\n",
       "      <td>1</td>\n",
       "      <td>26499</td>\n",
       "      <td>tecno</td>\n",
       "      <td>NaN</td>\n",
       "      <td>5000.0</td>\n",
       "      <td>64.0</td>\n",
       "      <td>4.0</td>\n",
       "      <td>No</td>\n",
       "      <td>No</td>\n",
       "    </tr>\n",
       "    <tr>\n",
       "      <th>1494</th>\n",
       "      <td>itel a27 4g || 2gb ram 32gb rom || 4000mah bat...</td>\n",
       "      <td>1.0</td>\n",
       "      <td>1</td>\n",
       "      <td>21999</td>\n",
       "      <td>itel</td>\n",
       "      <td>NaN</td>\n",
       "      <td>4000.0</td>\n",
       "      <td>32.0</td>\n",
       "      <td>2.0</td>\n",
       "      <td>No</td>\n",
       "      <td>No</td>\n",
       "    </tr>\n",
       "  </tbody>\n",
       "</table>\n",
       "<p>1495 rows × 11 columns</p>\n",
       "</div>"
      ],
      "text/plain": [
       "                                                   Name  Rating  \\\n",
       "0     redmi a2+ 3gb - 64gb 5000mah 10w fast charging...     4.7   \n",
       "1     redmi 13c  6gb ram-128gb rom  6.74\" dot drop d...     4.8   \n",
       "2     redmi a2+ || 3gb ram 64gb rom || 5000mah batte...     4.7   \n",
       "3     infinix note 30 ram 8gb+8gb & 256gb storage 6....     4.5   \n",
       "4     tecno spark 10c  4gb ram -128gb rom 5000mah pt...     4.6   \n",
       "...                                                 ...     ...   \n",
       "1490  redmi note 12 8gb ram -128gb rom pta approved ...     5.0   \n",
       "1491  tecno pova 5 pro 5g - 8+8gb ram 256gb rom 6.78...     5.0   \n",
       "1492  xiaomi poco c 65 ram 6 gb rom 128 gb front cam...     5.0   \n",
       "1493  tecno spark go 2024 , 4gb ram 64gb rom , back ...     5.0   \n",
       "1494  itel a27 4g || 2gb ram 32gb rom || 4000mah bat...     1.0   \n",
       "\n",
       "      Number of Ratings  Price    Brand  Screen_Size  Battery    ROM  RAM  \\\n",
       "0                   240  19299    redmi          NaN   5000.0   64.0  3.0   \n",
       "1                    13  32999    redmi         6.74   5000.0  128.0  6.0   \n",
       "2                   156  19499    redmi          NaN   5000.0   64.0  3.0   \n",
       "3                    82  40899  infinix         6.78   5000.0  256.0  8.0   \n",
       "4                   118  28449    tecno          NaN   5000.0  128.0  4.0   \n",
       "...                 ...    ...      ...          ...      ...    ...  ...   \n",
       "1490                  1  47999    redmi          NaN      NaN  128.0  8.0   \n",
       "1491                  1  59980    tecno          NaN   5000.0  256.0  8.0   \n",
       "1492                  1  39999   xiaomi          NaN   5000.0  128.0  6.0   \n",
       "1493                  1  26499    tecno          NaN   5000.0   64.0  4.0   \n",
       "1494                  1  21999     itel          NaN   4000.0   32.0  2.0   \n",
       "\n",
       "     Fast Charging Warrnaty  \n",
       "0              Yes       No  \n",
       "1               No      Yes  \n",
       "2               No       No  \n",
       "3               No      Yes  \n",
       "4               No      Yes  \n",
       "...            ...      ...  \n",
       "1490           Yes      Yes  \n",
       "1491           Yes       No  \n",
       "1492            No       No  \n",
       "1493            No       No  \n",
       "1494            No       No  \n",
       "\n",
       "[1495 rows x 11 columns]"
      ]
     },
     "execution_count": 8,
     "metadata": {},
     "output_type": "execute_result"
    }
   ],
   "source": [
    "def s_size(input):\n",
    "    pattern = r'(\\d+(\\.\\d{1,2})?)\"\\s*'\n",
    "    match = re.search(pattern, input)\n",
    "    if match:\n",
    "        f = match.group(1)\n",
    "        return float(f)\n",
    "    else:\n",
    "        return None\n",
    "    \n",
    "def rom(input):\n",
    "    pattern = r'(\\w+)\\s*gb'\n",
    "    match = re.findall(pattern, input.lower())\n",
    "    if match:\n",
    "        return float(max(match, key=len))\n",
    "    else:\n",
    "        return None\n",
    "\n",
    "def ram(input):\n",
    "    pattern = r'(\\w+)\\s*gb'\n",
    "    match = re.findall(pattern, input.lower())\n",
    "    if len(match) >= 2:\n",
    "        return float(min(match, key=len))\n",
    "    else:\n",
    "        return None\n",
    "    \n",
    "def battery(input):\n",
    "    pattern = r'(\\w+)\\s*mah'\n",
    "    match = re.search(pattern, input)\n",
    "    if match:\n",
    "        f = match.group(1)\n",
    "        pattern = r'\\d+'\n",
    "        match = re.search(pattern, f)\n",
    "        return float(match.group(0))\n",
    "    else:\n",
    "        return None\n",
    "def fast_charging(input):\n",
    "    if pd.Series(input).str.contains('fast|\\d+w').any():\n",
    "        return 'Yes'\n",
    "    else: return 'No'\n",
    "\n",
    "def warranty(input):\n",
    "    if pd.Series(input).str.contains('warranty').bool():\n",
    "        return 'Yes'\n",
    "    else: return 'No'\n",
    "    \n",
    "df['Screen_Size'] = df['Name'].apply(s_size)\n",
    "df['Battery'] = df['Name'].apply(battery)\n",
    "df['ROM'] = df['Name'].apply(rom)\n",
    "df['RAM'] = df['Name'].apply(ram)\n",
    "df['Fast Charging'] = df['Name'].apply(fast_charging)\n",
    "df['Warrnaty'] = df[\"Name\"].apply(warranty)\n",
    "df['Rating'] = df['Rating'].str.replace('/5', '').astype(float)\n",
    "df['Number of Ratings'] = df['Number of Ratings'].str.replace(r'\\(|\\)', '', regex=True).astype(int)\n",
    "df['Price'] = df['Price'].apply(lambda x: int(x.replace(',', '')))\n",
    "df\n"
   ]
  },
  {
   "cell_type": "markdown",
   "id": "09b02385",
   "metadata": {
    "papermill": {
     "duration": 0.014866,
     "end_time": "2024-02-09T18:47:00.663311",
     "exception": false,
     "start_time": "2024-02-09T18:47:00.648445",
     "status": "completed"
    },
    "tags": []
   },
   "source": [
    "## EDA<a id='EDA'></a>"
   ]
  },
  {
   "cell_type": "code",
   "execution_count": 9,
   "id": "8cbe4726",
   "metadata": {
    "execution": {
     "iopub.execute_input": "2024-02-09T18:47:00.695807Z",
     "iopub.status.busy": "2024-02-09T18:47:00.695150Z",
     "iopub.status.idle": "2024-02-09T18:47:00.719535Z",
     "shell.execute_reply": "2024-02-09T18:47:00.718406Z"
    },
    "papermill": {
     "duration": 0.043593,
     "end_time": "2024-02-09T18:47:00.722074",
     "exception": false,
     "start_time": "2024-02-09T18:47:00.678481",
     "status": "completed"
    },
    "tags": []
   },
   "outputs": [
    {
     "name": "stdout",
     "output_type": "stream",
     "text": [
      "DataFrame Information:\n",
      "------------------------------\n",
      "DF Shape:  (1495, 11)\n",
      "number of Columns:  11\n",
      "number of Observations:  1495\n",
      "Number of values in df:  14663\n",
      "Total Number of Missing values in df:  1782\n",
      "percentage of Missing values :  12.15 %\n",
      "Total Number of Duplicated records in df :  737\n",
      "percentage of Duplicated values :  5.03 %\n"
     ]
    }
   ],
   "source": [
    "print(\"DataFrame Information:\")\n",
    "print(\"-\" * 30)\n",
    "print('DF Shape: ' ,df.shape)\n",
    "print('number of Columns: ' ,len(df.columns))\n",
    "print('number of Observations: ' ,len(df))\n",
    "print('Number of values in df: ' , df.count().sum())\n",
    "print('Total Number of Missing values in df: ' , df.isna().sum().sum())\n",
    "print('percentage of Missing values : ' ,  \"{:.2f}\".format(df.isna().sum().sum()/df.count().sum() *100),'%')\n",
    "print('Total Number of Duplicated records in df : ' , df.duplicated().sum().sum())\n",
    "print('percentage of Duplicated values : ' ,  \"{:.2f}\".format(df.duplicated().sum().sum()/df.count().sum() *100),'%')"
   ]
  },
  {
   "cell_type": "code",
   "execution_count": 10,
   "id": "ecb25ad6",
   "metadata": {
    "execution": {
     "iopub.execute_input": "2024-02-09T18:47:00.755786Z",
     "iopub.status.busy": "2024-02-09T18:47:00.755063Z",
     "iopub.status.idle": "2024-02-09T18:47:00.773019Z",
     "shell.execute_reply": "2024-02-09T18:47:00.771942Z"
    },
    "papermill": {
     "duration": 0.037612,
     "end_time": "2024-02-09T18:47:00.775481",
     "exception": false,
     "start_time": "2024-02-09T18:47:00.737869",
     "status": "completed"
    },
    "tags": []
   },
   "outputs": [
    {
     "name": "stdout",
     "output_type": "stream",
     "text": [
      "<class 'pandas.core.frame.DataFrame'>\n",
      "RangeIndex: 1495 entries, 0 to 1494\n",
      "Data columns (total 11 columns):\n",
      " #   Column             Non-Null Count  Dtype  \n",
      "---  ------             --------------  -----  \n",
      " 0   Name               1495 non-null   object \n",
      " 1   Rating             1495 non-null   float64\n",
      " 2   Number of Ratings  1495 non-null   int64  \n",
      " 3   Price              1495 non-null   int64  \n",
      " 4   Brand              1495 non-null   object \n",
      " 5   Screen_Size        317 non-null    float64\n",
      " 6   Battery            1047 non-null   float64\n",
      " 7   ROM                1465 non-null   float64\n",
      " 8   RAM                1369 non-null   float64\n",
      " 9   Fast Charging      1495 non-null   object \n",
      " 10  Warrnaty           1495 non-null   object \n",
      "dtypes: float64(5), int64(2), object(4)\n",
      "memory usage: 128.6+ KB\n"
     ]
    }
   ],
   "source": [
    "df.info()"
   ]
  },
  {
   "cell_type": "code",
   "execution_count": 11,
   "id": "91d9d74d",
   "metadata": {
    "execution": {
     "iopub.execute_input": "2024-02-09T18:47:00.809133Z",
     "iopub.status.busy": "2024-02-09T18:47:00.808509Z",
     "iopub.status.idle": "2024-02-09T18:47:00.841502Z",
     "shell.execute_reply": "2024-02-09T18:47:00.840206Z"
    },
    "papermill": {
     "duration": 0.052784,
     "end_time": "2024-02-09T18:47:00.844061",
     "exception": false,
     "start_time": "2024-02-09T18:47:00.791277",
     "status": "completed"
    },
    "tags": []
   },
   "outputs": [
    {
     "data": {
      "text/html": [
       "<div>\n",
       "<style scoped>\n",
       "    .dataframe tbody tr th:only-of-type {\n",
       "        vertical-align: middle;\n",
       "    }\n",
       "\n",
       "    .dataframe tbody tr th {\n",
       "        vertical-align: top;\n",
       "    }\n",
       "\n",
       "    .dataframe thead th {\n",
       "        text-align: right;\n",
       "    }\n",
       "</style>\n",
       "<table border=\"1\" class=\"dataframe\">\n",
       "  <thead>\n",
       "    <tr style=\"text-align: right;\">\n",
       "      <th></th>\n",
       "      <th>Rating</th>\n",
       "      <th>Number of Ratings</th>\n",
       "      <th>Price</th>\n",
       "      <th>Screen_Size</th>\n",
       "      <th>Battery</th>\n",
       "      <th>ROM</th>\n",
       "      <th>RAM</th>\n",
       "    </tr>\n",
       "  </thead>\n",
       "  <tbody>\n",
       "    <tr>\n",
       "      <th>count</th>\n",
       "      <td>1495.000000</td>\n",
       "      <td>1495.000000</td>\n",
       "      <td>1495.000000</td>\n",
       "      <td>317.000000</td>\n",
       "      <td>1047.000000</td>\n",
       "      <td>1465.000000</td>\n",
       "      <td>1369.000000</td>\n",
       "    </tr>\n",
       "    <tr>\n",
       "      <th>mean</th>\n",
       "      <td>4.586488</td>\n",
       "      <td>27.418729</td>\n",
       "      <td>43487.989967</td>\n",
       "      <td>8.804479</td>\n",
       "      <td>4927.731614</td>\n",
       "      <td>125.907167</td>\n",
       "      <td>5.674215</td>\n",
       "    </tr>\n",
       "    <tr>\n",
       "      <th>std</th>\n",
       "      <td>0.717997</td>\n",
       "      <td>55.777742</td>\n",
       "      <td>33161.944505</td>\n",
       "      <td>41.481799</td>\n",
       "      <td>481.724056</td>\n",
       "      <td>78.990961</td>\n",
       "      <td>4.116603</td>\n",
       "    </tr>\n",
       "    <tr>\n",
       "      <th>min</th>\n",
       "      <td>1.000000</td>\n",
       "      <td>1.000000</td>\n",
       "      <td>2525.000000</td>\n",
       "      <td>5.000000</td>\n",
       "      <td>500.000000</td>\n",
       "      <td>1.000000</td>\n",
       "      <td>1.000000</td>\n",
       "    </tr>\n",
       "    <tr>\n",
       "      <th>25%</th>\n",
       "      <td>4.500000</td>\n",
       "      <td>2.000000</td>\n",
       "      <td>25499.000000</td>\n",
       "      <td>6.500000</td>\n",
       "      <td>5000.000000</td>\n",
       "      <td>64.000000</td>\n",
       "      <td>4.000000</td>\n",
       "    </tr>\n",
       "    <tr>\n",
       "      <th>50%</th>\n",
       "      <td>4.800000</td>\n",
       "      <td>5.000000</td>\n",
       "      <td>34999.000000</td>\n",
       "      <td>6.600000</td>\n",
       "      <td>5000.000000</td>\n",
       "      <td>128.000000</td>\n",
       "      <td>4.000000</td>\n",
       "    </tr>\n",
       "    <tr>\n",
       "      <th>75%</th>\n",
       "      <td>5.000000</td>\n",
       "      <td>23.500000</td>\n",
       "      <td>46999.000000</td>\n",
       "      <td>6.700000</td>\n",
       "      <td>5000.000000</td>\n",
       "      <td>128.000000</td>\n",
       "      <td>8.000000</td>\n",
       "    </tr>\n",
       "    <tr>\n",
       "      <th>max</th>\n",
       "      <td>5.000000</td>\n",
       "      <td>362.000000</td>\n",
       "      <td>329999.000000</td>\n",
       "      <td>745.000000</td>\n",
       "      <td>8000.000000</td>\n",
       "      <td>512.000000</td>\n",
       "      <td>128.000000</td>\n",
       "    </tr>\n",
       "  </tbody>\n",
       "</table>\n",
       "</div>"
      ],
      "text/plain": [
       "            Rating  Number of Ratings          Price  Screen_Size  \\\n",
       "count  1495.000000        1495.000000    1495.000000   317.000000   \n",
       "mean      4.586488          27.418729   43487.989967     8.804479   \n",
       "std       0.717997          55.777742   33161.944505    41.481799   \n",
       "min       1.000000           1.000000    2525.000000     5.000000   \n",
       "25%       4.500000           2.000000   25499.000000     6.500000   \n",
       "50%       4.800000           5.000000   34999.000000     6.600000   \n",
       "75%       5.000000          23.500000   46999.000000     6.700000   \n",
       "max       5.000000         362.000000  329999.000000   745.000000   \n",
       "\n",
       "           Battery          ROM          RAM  \n",
       "count  1047.000000  1465.000000  1369.000000  \n",
       "mean   4927.731614   125.907167     5.674215  \n",
       "std     481.724056    78.990961     4.116603  \n",
       "min     500.000000     1.000000     1.000000  \n",
       "25%    5000.000000    64.000000     4.000000  \n",
       "50%    5000.000000   128.000000     4.000000  \n",
       "75%    5000.000000   128.000000     8.000000  \n",
       "max    8000.000000   512.000000   128.000000  "
      ]
     },
     "execution_count": 11,
     "metadata": {},
     "output_type": "execute_result"
    }
   ],
   "source": [
    "df.describe()"
   ]
  },
  {
   "cell_type": "code",
   "execution_count": 12,
   "id": "d3f3ce85",
   "metadata": {
    "execution": {
     "iopub.execute_input": "2024-02-09T18:47:00.878049Z",
     "iopub.status.busy": "2024-02-09T18:47:00.877644Z",
     "iopub.status.idle": "2024-02-09T18:47:00.897467Z",
     "shell.execute_reply": "2024-02-09T18:47:00.896653Z"
    },
    "papermill": {
     "duration": 0.039335,
     "end_time": "2024-02-09T18:47:00.899587",
     "exception": false,
     "start_time": "2024-02-09T18:47:00.860252",
     "status": "completed"
    },
    "tags": []
   },
   "outputs": [
    {
     "data": {
      "text/html": [
       "<div>\n",
       "<style scoped>\n",
       "    .dataframe tbody tr th:only-of-type {\n",
       "        vertical-align: middle;\n",
       "    }\n",
       "\n",
       "    .dataframe tbody tr th {\n",
       "        vertical-align: top;\n",
       "    }\n",
       "\n",
       "    .dataframe thead th {\n",
       "        text-align: right;\n",
       "    }\n",
       "</style>\n",
       "<table border=\"1\" class=\"dataframe\">\n",
       "  <thead>\n",
       "    <tr style=\"text-align: right;\">\n",
       "      <th></th>\n",
       "      <th>Name</th>\n",
       "      <th>Brand</th>\n",
       "      <th>Fast Charging</th>\n",
       "      <th>Warrnaty</th>\n",
       "    </tr>\n",
       "  </thead>\n",
       "  <tbody>\n",
       "    <tr>\n",
       "      <th>count</th>\n",
       "      <td>1495</td>\n",
       "      <td>1495</td>\n",
       "      <td>1495</td>\n",
       "      <td>1495</td>\n",
       "    </tr>\n",
       "    <tr>\n",
       "      <th>unique</th>\n",
       "      <td>676</td>\n",
       "      <td>37</td>\n",
       "      <td>2</td>\n",
       "      <td>2</td>\n",
       "    </tr>\n",
       "    <tr>\n",
       "      <th>top</th>\n",
       "      <td>redmi note 12  8gb ram 128gb rom, display size...</td>\n",
       "      <td>infinix</td>\n",
       "      <td>No</td>\n",
       "      <td>No</td>\n",
       "    </tr>\n",
       "    <tr>\n",
       "      <th>freq</th>\n",
       "      <td>11</td>\n",
       "      <td>211</td>\n",
       "      <td>1264</td>\n",
       "      <td>1211</td>\n",
       "    </tr>\n",
       "  </tbody>\n",
       "</table>\n",
       "</div>"
      ],
      "text/plain": [
       "                                                     Name    Brand  \\\n",
       "count                                                1495     1495   \n",
       "unique                                                676       37   \n",
       "top     redmi note 12  8gb ram 128gb rom, display size...  infinix   \n",
       "freq                                                   11      211   \n",
       "\n",
       "       Fast Charging Warrnaty  \n",
       "count           1495     1495  \n",
       "unique             2        2  \n",
       "top               No       No  \n",
       "freq            1264     1211  "
      ]
     },
     "execution_count": 12,
     "metadata": {},
     "output_type": "execute_result"
    }
   ],
   "source": [
    "df.describe(include='O')"
   ]
  },
  {
   "cell_type": "code",
   "execution_count": 13,
   "id": "e062e423",
   "metadata": {
    "execution": {
     "iopub.execute_input": "2024-02-09T18:47:00.934823Z",
     "iopub.status.busy": "2024-02-09T18:47:00.933834Z",
     "iopub.status.idle": "2024-02-09T18:47:00.945240Z",
     "shell.execute_reply": "2024-02-09T18:47:00.944442Z"
    },
    "papermill": {
     "duration": 0.031382,
     "end_time": "2024-02-09T18:47:00.947414",
     "exception": false,
     "start_time": "2024-02-09T18:47:00.916032",
     "status": "completed"
    },
    "tags": []
   },
   "outputs": [
    {
     "data": {
      "text/plain": [
       "Name                 676\n",
       "Rating                24\n",
       "Number of Ratings     77\n",
       "Price                380\n",
       "Brand                 37\n",
       "Screen_Size           30\n",
       "Battery               25\n",
       "ROM                   13\n",
       "RAM                   10\n",
       "Fast Charging          2\n",
       "Warrnaty               2\n",
       "dtype: int64"
      ]
     },
     "execution_count": 13,
     "metadata": {},
     "output_type": "execute_result"
    }
   ],
   "source": [
    "df.nunique()"
   ]
  },
  {
   "cell_type": "markdown",
   "id": "77a276df",
   "metadata": {
    "papermill": {
     "duration": 0.016891,
     "end_time": "2024-02-09T18:47:00.981216",
     "exception": false,
     "start_time": "2024-02-09T18:47:00.964325",
     "status": "completed"
    },
    "tags": []
   },
   "source": [
    "# Visualiztion\n",
    "<a id='viz'></a>"
   ]
  },
  {
   "cell_type": "code",
   "execution_count": 14,
   "id": "8008645b",
   "metadata": {
    "execution": {
     "iopub.execute_input": "2024-02-09T18:47:01.016814Z",
     "iopub.status.busy": "2024-02-09T18:47:01.016229Z",
     "iopub.status.idle": "2024-02-09T18:47:01.587407Z",
     "shell.execute_reply": "2024-02-09T18:47:01.586518Z"
    },
    "papermill": {
     "duration": 0.591526,
     "end_time": "2024-02-09T18:47:01.589528",
     "exception": false,
     "start_time": "2024-02-09T18:47:00.998002",
     "status": "completed"
    },
    "tags": []
   },
   "outputs": [
    {
     "name": "stderr",
     "output_type": "stream",
     "text": [
      "/opt/conda/lib/python3.10/site-packages/seaborn/_oldcore.py:1119: FutureWarning: use_inf_as_na option is deprecated and will be removed in a future version. Convert inf values to NaN before operating instead.\n",
      "  with pd.option_context('mode.use_inf_as_na', True):\n",
      "/opt/conda/lib/python3.10/site-packages/seaborn/_oldcore.py:1075: FutureWarning: When grouping with a length-1 list-like, you will need to pass a length-1 tuple to get_group in a future version of pandas. Pass `(name,)` instead of `name` to silence this warning.\n",
      "  data_subset = grouped_data.get_group(pd_key)\n",
      "/opt/conda/lib/python3.10/site-packages/seaborn/_oldcore.py:1075: FutureWarning: When grouping with a length-1 list-like, you will need to pass a length-1 tuple to get_group in a future version of pandas. Pass `(name,)` instead of `name` to silence this warning.\n",
      "  data_subset = grouped_data.get_group(pd_key)\n",
      "/opt/conda/lib/python3.10/site-packages/seaborn/_oldcore.py:1075: FutureWarning: When grouping with a length-1 list-like, you will need to pass a length-1 tuple to get_group in a future version of pandas. Pass `(name,)` instead of `name` to silence this warning.\n",
      "  data_subset = grouped_data.get_group(pd_key)\n"
     ]
    },
    {
     "data": {
      "text/plain": [
       "<Figure size 1000x600 with 0 Axes>"
      ]
     },
     "metadata": {},
     "output_type": "display_data"
    },
    {
     "data": {
      "image/png": "[encoded data removed]",
      "text/plain": [
       "<Figure size 709.875x500 with 1 Axes>"
      ]
     },
     "metadata": {},
     "output_type": "display_data"
    }
   ],
   "source": [
    "plt.figure(figsize=(10,6))\n",
    "sns.displot(\n",
    "    data=df.isna().melt(value_name=\"missing\"),\n",
    "    y=\"variable\",\n",
    "    hue=\"missing\",\n",
    "    multiple=\"fill\",\n",
    "    aspect=1.25\n",
    ")\n",
    "plt.show()"
   ]
  },
  {
   "cell_type": "code",
   "execution_count": 15,
   "id": "871d860c",
   "metadata": {
    "execution": {
     "iopub.execute_input": "2024-02-09T18:47:01.627680Z",
     "iopub.status.busy": "2024-02-09T18:47:01.627099Z",
     "iopub.status.idle": "2024-02-09T18:47:03.850600Z",
     "shell.execute_reply": "2024-02-09T18:47:03.849426Z"
    },
    "papermill": {
     "duration": 2.245752,
     "end_time": "2024-02-09T18:47:03.853183",
     "exception": false,
     "start_time": "2024-02-09T18:47:01.607431",
     "status": "completed"
    },
    "tags": []
   },
   "outputs": [
    {
     "data": {
      "image/png": "[encoded data removed]",
      "text/plain": [
       "<Figure size 1200x1200 with 9 Axes>"
      ]
     },
     "metadata": {},
     "output_type": "display_data"
    }
   ],
   "source": [
    "df.hist(bins = 25, color='steelblue', edgecolor='black', grid=False , figsize = (12, 12) )\n",
    "# Add titles and labels\n",
    "plt.suptitle('Histograms of Data', fontsize=16)\n",
    "plt.tight_layout(rect=[0, 0, 1, 0.95])  # Adjust spacing between subplots\n",
    "plt.xlabel('Value', fontsize=12)\n",
    "plt.ylabel('Frequency', fontsize=12)\n",
    "\n",
    "# Modify tick font size\n",
    "plt.xticks(fontsize=10)\n",
    "plt.yticks(fontsize=10)\n",
    "\n",
    "# Remove outer spines\n",
    "for spine in plt.gca().spines.values():\n",
    "    spine.set_visible(False)\n",
    "\n",
    "\n",
    "plt.show()"
   ]
  },
  {
   "cell_type": "code",
   "execution_count": 16,
   "id": "2dc6c2ad",
   "metadata": {
    "execution": {
     "iopub.execute_input": "2024-02-09T18:47:03.892866Z",
     "iopub.status.busy": "2024-02-09T18:47:03.892453Z",
     "iopub.status.idle": "2024-02-09T18:47:04.446486Z",
     "shell.execute_reply": "2024-02-09T18:47:04.445412Z"
    },
    "papermill": {
     "duration": 0.577495,
     "end_time": "2024-02-09T18:47:04.449679",
     "exception": false,
     "start_time": "2024-02-09T18:47:03.872184",
     "status": "completed"
    },
    "tags": []
   },
   "outputs": [
    {
     "data": {
      "text/html": [
       "        <script type=\"text/javascript\">\n",
       "        window.PlotlyConfig = {MathJaxConfig: 'local'};\n",
       "        if (window.MathJax && window.MathJax.Hub && window.MathJax.Hub.Config) {window.MathJax.Hub.Config({SVG: {font: \"STIX-Web\"}});}\n",
       "        if (typeof require !== 'undefined') {\n",
       "        require.undef(\"plotly\");\n",
       "        requirejs.config({\n",
       "            paths: {\n",
       "                'plotly': ['https://cdn.plot.ly/plotly-2.27.0.min']\n",
       "            }\n",
       "        });\n",
       "        require(['plotly'], function(Plotly) {\n",
       "            window._Plotly = Plotly;\n",
       "        });\n",
       "        }\n",
       "        </script>\n",
       "        "
      ]
     },
     "metadata": {},
     "output_type": "display_data"
    },
    {
     "data": {
      "text/html": [
       "<div>                            <div id=\"10303a58-db22-417d-baa8-cb9fffe6db09\" class=\"plotly-graph-div\" style=\"height:525px; width:100%;\"></div>            <script type=\"text/javascript\">                require([\"plotly\"], function(Plotly) {                    window.PLOTLYENV=window.PLOTLYENV || {};                                    if (document.getElementById(\"10303a58-db22-417d-baa8-cb9fffe6db09\")) {                    Plotly.newPlot(                        \"10303a58-db22-417d-baa8-cb9fffe6db09\",                        [{\"x\":[\"redmi\",\"redmi\",\"redmi\",\"infinix\",\"tecno\",\"infinix\",\"samsung\",\"redmi\",\"infinix\",\"vivo\",\"samsung\",\"xiaomi\",\"samsung\",\"samsung\",\"tecno\",\"realme\",\"samsung\",\"redmi\",\"samsung\",\"imported\",\"oppo\",\"tecno\",\"redmi\",\"samsung\",\"infinix\",\"samsung\",\"redmi\",\"samsung\",\"samsung\",\"tecno\",\"oppo\",\"sparx\",\"itel\",\"itel\",\"xiaomi\",\"redmi\",\"samsung\",\"tecno\",\"neo\",\"tecno\",\"redmi\",\"redmi\",\"redmi\",\"infinix\",\"tecno\",\"infinix\",\"samsung\",\"redmi\",\"infinix\",\"vivo\",\"samsung\",\"xiaomi\",\"samsung\",\"samsung\",\"tecno\",\"realme\",\"samsung\",\"redmi\",\"samsung\",\"imported\",\"oppo\",\"tecno\",\"redmi\",\"samsung\",\"infinix\",\"samsung\",\"redmi\",\"samsung\",\"samsung\",\"tecno\",\"oppo\",\"sparx\",\"itel\",\"itel\",\"xiaomi\",\"redmi\",\"samsung\",\"tecno\",\"neo\",\"tecno\",\"redmi\",\"redmi\",\"redmi\",\"infinix\",\"tecno\",\"infinix\",\"samsung\",\"redmi\",\"infinix\",\"vivo\",\"samsung\",\"xiaomi\",\"samsung\",\"samsung\",\"tecno\",\"realme\",\"samsung\",\"redmi\",\"samsung\",\"imported\",\"oppo\",\"tecno\",\"redmi\",\"samsung\",\"infinix\",\"samsung\",\"redmi\",\"samsung\",\"samsung\",\"tecno\",\"oppo\",\"sparx\",\"itel\",\"itel\",\"xiaomi\",\"redmi\",\"samsung\",\"tecno\",\"neo\",\"tecno\",\"redmi\",\"redmi\",\"redmi\",\"infinix\",\"tecno\",\"infinix\",\"samsung\",\"redmi\",\"infinix\",\"vivo\",\"samsung\",\"xiaomi\",\"samsung\",\"samsung\",\"tecno\",\"realme\",\"samsung\",\"redmi\",\"samsung\",\"imported\",\"oppo\",\"tecno\",\"redmi\",\"samsung\",\"infinix\",\"samsung\",\"redmi\",\"samsung\",\"samsung\",\"tecno\",\"oppo\",\"sparx\",\"itel\",\"itel\",\"xiaomi\",\"redmi\",\"samsung\",\"tecno\",\"neo\",\"tecno\",\"redmi\",\"redmi\",\"redmi\",\"infinix\",\"tecno\",\"infinix\",\"samsung\",\"redmi\",\"infinix\",\"vivo\",\"samsung\",\"xiaomi\",\"samsung\",\"samsung\",\"tecno\",\"realme\",\"samsung\",\"redmi\",\"samsung\",\"imported\",\"oppo\",\"tecno\",\"redmi\",\"samsung\",\"infinix\",\"samsung\",\"redmi\",\"samsung\",\"samsung\",\"tecno\",\"oppo\",\"sparx\",\"itel\",\"itel\",\"xiaomi\",\"redmi\",\"samsung\",\"tecno\",\"neo\",\"tecno\",\"redmi\",\"redmi\",\"redmi\",\"infinix\",\"tecno\",\"infinix\",\"samsung\",\"redmi\",\"infinix\",\"vivo\",\"samsung\",\"xiaomi\",\"samsung\",\"samsung\",\"tecno\",\"realme\",\"samsung\",\"redmi\",\"samsung\",\"imported\",\"oppo\",\"tecno\",\"redmi\",\"samsung\",\"infinix\",\"samsung\",\"redmi\",\"samsung\",\"samsung\",\"tecno\",\"oppo\",\"sparx\",\"itel\",\"itel\",\"xiaomi\",\"redmi\",\"samsung\",\"tecno\",\"neo\",\"tecno\",\"redmi\",\"itel\",\"infinix\",\"itel\",\"realme\",\"redmi\",\"samsung\",\"redmi\",\"redmi\",\"itel\",\"samsung\",\"vgotel\",\"redmi\",\"samsung\",\"redmi\",\"xiaomi\",\"neo\",\"itel\",\"neo\",\"tecno\",\"samsung\",\"nokia\",\"infinix\",\"xiaomi\",\"realme\",\"neo\",\"vivo\",\"samsung\",\"oppo\",\"samsung\",\"neo\",\"redmi\",\"itel\",\"imported\",\"nokia\",\"redmi\",\"sparx\",\"xiaomi\",\"tecno\",\"neo\",\"samsung\",\"samsung\",\"neo\",\"etachi\",\"itel\",\"infinix\",\"infinix\",\"vgotel\",\"xiaomi\",\"redmi\",\"infinix\",\"sparx\",\"infinix\",\"infinix\",\"infinix\",\"realme\",\"redmi\",\"redmi\",\"sparx\",\"redmi\",\"sparx\",\"xiaomi\",\"vgotel\",\"vivo\",\"samsung\",\"infinix\",\"tecno\",\"redmi\",\"infinix\",\"infinix\",\"redmi\",\"infinix\",\"xiaomi\",\"infinix\",\"b\",\"redmi\",\"infinix\",\"calme\",\"infinix\",\"vivo\",\"sparx\",\"infinix\",\"realme\",\"nokia\",\"redmi\",\"redmi\",\"vgotel\",\"sparx\",\"infinix\",\"realme\",\"itel\",\"sparx\",\"zte\",\"redmi\",\"redmi\",\"tecno\",\"itel\",\"itel\",\"infinix\",\"infinix\",\"vivo\",\"(phone\",\"sparx\",\"tecno\",\"realme\",\"itel\",\"infinix\",\"oppo\",\"samsung\",\"infinix\",\"zte\",\"tecno\",\"oppo\",\"decode\",\"oppo\",\"infinix\",\"samsung\",\"calme\",\"tecno\",\"xiaomi\",\"infinix\",\"nokia\",\"samsung\",\"samsung\",\"infinix\",\"samsung\",\"itel\",\"imported\",\"redmi\",\"tecno\",\"infinix\",\"itel\",\"google\",\"infinix\",\"infinix\",\"sparx\",\"infinix\",\"infinix\",\"tecno\",\"vivo\",\"xiaomi\",\"infinix\",\"infinix\",\"samsung\",\"xiaomi\",\"vivo\",\"nokia\",\"infinix\",\"redmi\",\"redmi\",\"redmi\",\"infinix\",\"tecno\",\"infinix\",\"samsung\",\"redmi\",\"infinix\",\"vivo\",\"samsung\",\"xiaomi\",\"samsung\",\"samsung\",\"tecno\",\"realme\",\"samsung\",\"redmi\",\"samsung\",\"imported\",\"oppo\",\"tecno\",\"redmi\",\"samsung\",\"infinix\",\"samsung\",\"redmi\",\"samsung\",\"samsung\",\"tecno\",\"oppo\",\"sparx\",\"itel\",\"itel\",\"xiaomi\",\"redmi\",\"samsung\",\"tecno\",\"neo\",\"tecno\",\"xiaomi\",\"vgotel\",\"infinix\",\"sparx\",\"itel\",\"itel\",\"samsung\",\"vivo\",\"xiaomi\",\"vivo\",\"etachi\",\"realme\",\"vgotel\",\"xiaomi\",\"samsung\",\"infinix\",\"itel\",\"realme\",\"infinix\",\"samsung\",\"vivo\",\"oppo\",\"redmi\",\"tecno\",\"tecno\",\"infinix\",\"samsung\",\"imported\",\"samsung\",\"sony\",\"redmi\",\"samsung\",\"realme\",\"tecno\",\"redmi\",\"sparx\",\"samsung\",\"redmi\",\"infinix\",\"tecno\",\"sparx\",\"xiaomi\",\"itel\",\"itel\",\"infinix\",\"itel\",\"imported\",\"xiaomi\",\"xiaomi\",\"infinix\",\"sparx\",\"xiaomi\",\"google\",\"imported\",\"vivo\",\"sparx\",\"motorola\",\"tecno\",\"infinix\",\"redmi\",\"itel\",\"vivo\",\"redmi\",\"samsung\",\"digit\",\"redmi\",\"infinix\",\"sparx\",\"samsung\",\"realme\",\"sparx\",\"infinix\",\"infinix\",\"tecno\",\"redmi\",\"tecno\",\"zte\",\"zte\",\"sparx\",\"redmi\",\"vivo\",\"samsung\",\"vivo\",\"infinix\",\"tecno\",\"infinix\",\"vivo\",\"sparx\",\"realme\",\"vivo\",\"oppo\",\"infinix\",\"realme\",\"redmi\",\"xiaomi\",\"sparx\",\"realme\",\"redmi\",\"realme\",\"redmi\",\"vivo\",\"kxd\",\"x\",\"itel\",\"xiaomi\",\"nokia\",\"realme\",\"tecno\",\"motorola\",\"decode\",\"sparx\",\"itel\",\"tecno\",\"infinix\",\"vivo\",\"infinix\",\"infinix\",\"vivo\",\"vivo\",\"zte\",\"realme\",\"infinix\",\"samsung\",\"vivo\",\"infinix\",\"infinix\",\"samsung\",\"redmi\",\"samsung\",\"sparx\",\"xiaomi\",\"xiaomi\",\"samsung\",\"redmi\",\"realme\",\"nokia\",\"infinix\",\"samsung\",\"infinix\",\"nokia\",\"xiaomi\",\"tecno\",\"infinix\",\"samsung\",\"samsung\",\"infinix\",\"vivo\",\"vivo\",\"vivo\",\"infinix\",\"itel\",\"sparx\",\"nokia\",\"oppo\",\"infinix\",\"redmi\",\"apple\",\"oppo\",\"xiaomi\",\"infinix\",\"infinix\",\"infinix\",\"xiaomi\",\"infinix\",\"honor\",\"realme\",\"xiaomi\",\"sparx\",\"realme\",\"samsung\",\"tecno\",\"neo\",\"tecno\",\"sparx\",\"vivo\",\"samsung\",\"itel\",\"xiaomi\",\"xiaomi\",\"redmi\",\"tecno\",\"realme\",\"nokia\",\"xiaomi\",\"realme\",\"oneplus\",\"xiaomi\",\"infinix\",\"infinix\",\"oppo\",\"infinix\",\"xiaomi\",\"xiaomi\",\"redmi\",\"xiaomi\",\"infinix\",\"tecno\",\"tecno\",\"honor\",\"samsung\",\"infinix\",\"vgotel\",\"infinix\",\"xiaomi\",\"vivo\",\"infinix\",\"xiaomi\",\"tecno\",\"infinix\",\"redmi\",\"infinix\",\"sparx\",\"oneplus\",\"tecno\",\"vivo\",\"infinix\",\"oppo\",\"vivo\",\"realme\",\"realme\",\"xiaomi\",\"xiaomi\",\"samsung\",\"vivo\",\"zte\",\"calme\",\"nokia\",\"infinix\",\"vivo\",\"itel\",\"infinix\",\"samsung\",\"xiaomi\",\"infinix\",\"decode\",\"redmi\",\"samsung\",\"tecno\",\"itel\",\"tecno\",\"samsung\",\"vivo\",\"redmi\",\"oppo\",\"realme\",\"zte\",\"tecno\",\"infinix\",\"sparx\",\"gfive\",\"infinix\",\"realme\",\"infinix\",\"itel\",\"nokia\",\"redmi\",\"sparx\",\"samsung\",\"infinix\",\"zte\",\"vnus\",\"realme\",\"zte\",\"xiaomi\",\"vivo\",\"tecno\",\"itel\",\"samsung\",\"vgotel\",\"sparx\",\"itel\",\"realme\",\"vnus\",\"oneplus\",\"realme\",\"infinix\",\"samsung\",\"tecno\",\"tecno\",\"zte\",\"samsung\",\"xiaomi\",\"etachi\",\"infinix\",\"xiaomi\",\"vivo\",\"redmi\",\"apple\",\"tecno\",\"sparx\",\"nokia\",\"infinix\",\"vnus\",\"oppo\",\"vivo\",\"vivo\",\"realme\",\"vivo\",\"tecno\",\"tecno\",\"honor\",\"tecno\",\"digit\",\"tecno\",\"vgotel\",\"tecno\",\"samsung\",\"infinix\",\"itel\",\"sparx\",\"etachi\",\"vivo\",\"nokia\",\"sony\",\"tecno\",\"infinix\",\"qmobile\",\"vivo\",\"oppo\",\"realme\",\"vivo\",\"xiaomi\",\"xiaomi\",\"vivo\",\"xiaomi\",\"vivo\",\"redmi\",\"oppo\",\"itel\",\"redmi\",\"tecno\",\"oneplus\",\"realme\",\"nokia\",\"tecno\",\"realme\",\"redmi\",\"samsung\",\"apple\",\"tecno\",\"vivo\",\"sparx\",\"motorola\",\"xiaomi\",\"vivo\",\"aquos\",\"realme\",\"sparx\",\"realme\",\"realme\",\"sparx\",\"vivo\",\"samsung\",\"tecno\",\"fujitsu\",\"zte\",\"decode\",\"infinix\",\"xiaomi\",\"vgotel\",\"infinix\",\"sparx\",\"itel\",\"itel\",\"samsung\",\"vivo\",\"xiaomi\",\"vivo\",\"etachi\",\"realme\",\"vgotel\",\"xiaomi\",\"samsung\",\"infinix\",\"itel\",\"realme\",\"infinix\",\"samsung\",\"vivo\",\"oppo\",\"redmi\",\"tecno\",\"tecno\",\"infinix\",\"samsung\",\"imported\",\"samsung\",\"sony\",\"redmi\",\"samsung\",\"realme\",\"tecno\",\"redmi\",\"samsung\",\"realme\",\"sparx\",\"infinix\",\"infinix\",\"tecno\",\"redmi\",\"tecno\",\"zte\",\"zte\",\"sparx\",\"redmi\",\"vivo\",\"samsung\",\"vivo\",\"infinix\",\"tecno\",\"infinix\",\"vivo\",\"sparx\",\"realme\",\"vivo\",\"oppo\",\"infinix\",\"realme\",\"redmi\",\"xiaomi\",\"sparx\",\"realme\",\"realme\",\"redmi\",\"nokia\",\"samsung\",\"realme\",\"sparx\",\"infinix\",\"infinix\",\"infinix\",\"huawei\",\"xiaomi\",\"realme\",\"oppo\",\"infinix\",\"xiaomi\",\"sparx\",\"sparx\",\"samsung\",\"sparx\",\"vivo\",\"infinix\",\"xiaomi\",\"itel\",\"realme\",\"itel\",\"zte\",\"tecno\",\"redmi\",\"itel\",\"infinix\",\"itel\",\"realme\",\"redmi\",\"samsung\",\"redmi\",\"redmi\",\"itel\",\"samsung\",\"vgotel\",\"redmi\",\"samsung\",\"redmi\",\"xiaomi\",\"neo\",\"itel\",\"neo\",\"tecno\",\"samsung\",\"nokia\",\"infinix\",\"xiaomi\",\"realme\",\"neo\",\"vivo\",\"samsung\",\"oppo\",\"samsung\",\"neo\",\"redmi\",\"itel\",\"imported\",\"nokia\",\"redmi\",\"sparx\",\"xiaomi\",\"tecno\",\"xiaomi\",\"realme\",\"oneplus\",\"xiaomi\",\"infinix\",\"infinix\",\"oppo\",\"infinix\",\"xiaomi\",\"xiaomi\",\"redmi\",\"xiaomi\",\"infinix\",\"tecno\",\"tecno\",\"honor\",\"samsung\",\"infinix\",\"vgotel\",\"infinix\",\"xiaomi\",\"vivo\",\"infinix\",\"xiaomi\",\"tecno\",\"infinix\",\"redmi\",\"infinix\",\"tecno\",\"itel\",\"tecno\",\"samsung\",\"vivo\",\"redmi\",\"oppo\",\"realme\",\"zte\",\"tecno\",\"infinix\",\"sparx\",\"gfive\",\"infinix\",\"realme\",\"infinix\",\"itel\",\"nokia\",\"redmi\",\"sparx\",\"samsung\",\"motorola\",\"xiaomi\",\"vivo\",\"aquos\",\"realme\",\"sparx\",\"realme\",\"realme\",\"sparx\",\"vivo\",\"samsung\",\"tecno\",\"fujitsu\",\"zte\",\"decode\",\"infinix\",\"neo\",\"samsung\",\"samsung\",\"neo\",\"etachi\",\"itel\",\"infinix\",\"infinix\",\"vgotel\",\"xiaomi\",\"redmi\",\"infinix\",\"sparx\",\"infinix\",\"infinix\",\"infinix\",\"realme\",\"redmi\",\"redmi\",\"sparx\",\"redmi\",\"sparx\",\"xiaomi\",\"vgotel\",\"vivo\",\"samsung\",\"infinix\",\"tecno\",\"redmi\",\"infinix\",\"infinix\",\"redmi\",\"infinix\",\"xiaomi\",\"infinix\",\"b\",\"redmi\",\"xiaomi\",\"realme\",\"infinix\",\"neo\",\"infinix\",\"samsung\",\"sparx\",\"honor\",\"oneplus\",\"samsung\",\"sparx\",\"redmi\",\"motorola\",\"infinix\",\"nokia\",\"samsung\",\"itel\",\"sparx\",\"sparx\",\"samsung\",\"xiaomi\",\"vivo\",\"samsung\",\"zte\",\"itel\",\"samsung\",\"vnus\",\"infinix\",\"sparx\",\"redmi\",\"vivo\",\"realme\",\"neo\",\"sparx\",\"redmi\",\"realme\",\"xiaomi\",\"vivo\",\"sparx\",\"samsung\",\"oppo\",\"sparx\",\"infinix\",\"tecno\",\"redmi\",\"tecno\",\"sparx\",\"nokia\",\"apple\",\"zte\",\"redmi\",\"realme\",\"realme\",\"sparx\",\"sparx\",\"nokia\",\"infinix\",\"realme\",\"realme\",\"tecno\",\"vivo\",\"redmi\",\"itel\",\"xiaomi\",\"vivo\",\"vgotel\",\"vivo\",\"tecno\",\"infinix\",\"tecno\",\"decode\",\"realme\",\"honor\",\"kxd\",\"samsung\",\"tecno\",\"samsung\",\"xiaomi\",\"samsung\",\"xsmart\",\"infinix\",\"tecno\",\"realme\",\"tecno\",\"zte\",\"decode\",\"itel\",\"sparx\",\"oneplus\",\"tecno\",\"vivo\",\"infinix\",\"oppo\",\"vivo\",\"realme\",\"realme\",\"xiaomi\",\"xiaomi\",\"samsung\",\"vivo\",\"zte\",\"calme\",\"nokia\",\"infinix\",\"vivo\",\"itel\",\"infinix\",\"samsung\",\"xiaomi\",\"infinix\",\"decode\",\"redmi\",\"samsung\",\"itel\",\"itel\",\"xiaomi\",\"huawei\",\"itel\",\"xiaomi\",\"samsung\",\"infinix\",\"sparx\",\"vgotel\",\"zte\",\"vivo\",\"infinix\",\"itel\",\"infinix\",\"xiaomi\",\"itel\",\"realme\",\"nokia\",\"realme\",\"poco\",\"redmi\",\"tecno\",\"motorola\",\"decode\",\"samsung\",\"realme\",\"sparx\",\"infinix\",\"itel\",\"tecno\",\"samsung\",\"vivo\",\"zte\",\"infinix\",\"redmi\",\"redmi\",\"samsung\",\"infinix\",\"redmi\",\"zte\",\"sparx\",\"sparx\",\"samsung\",\"tecno\",\"samsung\",\"samsung\",\"tecno\",\"tecno\",\"tecno\",\"vivo\",\"vivo\",\"sparx\",\"infinix\",\"infinix\",\"vivo\",\"vivo\",\"zte\",\"samsung\",\"redmi\",\"tecno\",\"xiaomi\",\"tecno\",\"itel\",\"vivo\",\"infinix\",\"tecno\",\"apple\",\"decode\",\"tecno\",\"itel\",\"vivo\",\"samsung\",\"infinix\",\"sparx\",\"itel\",\"aquos\",\"xiaomi\",\"xiaomi\",\"sparx\",\"samsung\",\"vivo\",\"x\",\"redmi\",\"itel\",\"motorola\",\"infinix\",\"realme\",\"zte\",\"tecno\",\"samsung\",\"vivo\",\"xiaomi\",\"oppo\",\"samsung\",\"samsung\",\"vivo\",\"infinix\",\"kxd\",\"samsung\",\"tecno\",\"samsung\",\"xiaomi\",\"samsung\",\"xsmart\",\"infinix\",\"tecno\",\"realme\",\"tecno\",\"zte\",\"decode\",\"itel\",\"redmi\",\"redmi\",\"redmi\",\"infinix\",\"tecno\",\"infinix\",\"samsung\",\"redmi\",\"infinix\",\"vivo\",\"xiaomi\",\"samsung\",\"samsung\",\"tecno\",\"realme\",\"samsung\",\"redmi\",\"samsung\",\"imported\",\"oppo\",\"tecno\",\"redmi\",\"samsung\",\"infinix\",\"samsung\",\"redmi\",\"samsung\",\"samsung\",\"tecno\",\"oppo\",\"sparx\",\"itel\",\"itel\",\"xiaomi\",\"redmi\",\"samsung\",\"tecno\",\"neo\",\"tecno\",\"xiaomi\",\"vgotel\",\"infinix\",\"sparx\",\"itel\",\"itel\",\"samsung\",\"vivo\",\"xiaomi\",\"vivo\",\"etachi\",\"realme\",\"vgotel\",\"xiaomi\",\"samsung\",\"infinix\",\"itel\",\"realme\",\"infinix\",\"samsung\",\"vivo\",\"oppo\",\"redmi\",\"tecno\",\"tecno\",\"infinix\",\"samsung\",\"imported\",\"samsung\",\"sony\",\"redmi\",\"samsung\",\"realme\",\"tecno\",\"redmi\",\"redmi\",\"samsung\",\"redmi\",\"samsung\",\"sparx\",\"xiaomi\",\"xiaomi\",\"samsung\",\"redmi\",\"realme\",\"nokia\",\"infinix\",\"samsung\",\"infinix\",\"nokia\",\"xiaomi\",\"tecno\",\"infinix\",\"samsung\",\"samsung\",\"infinix\",\"vivo\",\"vivo\",\"vivo\",\"infinix\",\"itel\",\"sparx\",\"nokia\",\"itel\",\"itel\",\"xiaomi\",\"huawei\",\"itel\",\"xiaomi\",\"samsung\",\"infinix\",\"sparx\",\"vgotel\",\"zte\",\"vivo\",\"infinix\",\"zte\",\"vnus\",\"realme\",\"zte\",\"xiaomi\",\"vivo\",\"tecno\",\"itel\",\"samsung\",\"vgotel\",\"sparx\",\"itel\",\"realme\",\"vnus\",\"oneplus\",\"realme\",\"infinix\",\"samsung\",\"tecno\",\"tecno\",\"zte\",\"samsung\",\"xiaomi\",\"etachi\",\"infinix\",\"xiaomi\",\"vivo\",\"xiaomi\",\"vivo\",\"redmi\",\"oppo\",\"itel\",\"redmi\",\"tecno\",\"oneplus\",\"realme\",\"nokia\",\"tecno\",\"realme\",\"redmi\",\"samsung\",\"apple\",\"tecno\",\"vivo\",\"sparx\",\"honor\",\"infinix\",\"calme\",\"infinix\",\"vivo\",\"sparx\",\"infinix\",\"realme\",\"nokia\",\"redmi\",\"redmi\",\"vgotel\",\"sparx\",\"infinix\",\"realme\",\"itel\",\"sparx\",\"zte\",\"redmi\",\"redmi\",\"tecno\",\"itel\",\"itel\",\"infinix\",\"infinix\",\"vivo\",\"(phone\",\"sparx\",\"tecno\",\"realme\",\"itel\",\"infinix\",\"oppo\",\"samsung\",\"infinix\",\"zte\",\"sparx\",\"sparx\",\"samsung\",\"xiaomi\",\"vivo\",\"samsung\",\"zte\",\"itel\",\"samsung\",\"vnus\",\"infinix\",\"sparx\",\"redmi\",\"vivo\",\"realme\",\"neo\",\"realme\",\"redmi\",\"nokia\",\"samsung\",\"realme\",\"sparx\",\"infinix\",\"infinix\",\"infinix\",\"huawei\",\"xiaomi\",\"realme\",\"oppo\",\"infinix\",\"xiaomi\",\"sparx\",\"sparx\",\"samsung\",\"sparx\",\"vivo\",\"infinix\",\"xiaomi\",\"itel\",\"realme\",\"itel\",\"zte\",\"tecno\",\"vivo\",\"sparx\",\"infinix\",\"infinix\",\"vivo\",\"vivo\",\"zte\",\"samsung\",\"redmi\",\"tecno\",\"xiaomi\",\"tecno\",\"itel\"],\"type\":\"histogram\",\"xaxis\":\"x\",\"yaxis\":\"y\"},{\"x\":[\"Yes\",\"No\",\"No\",\"No\",\"No\",\"Yes\",\"No\",\"No\",\"No\",\"No\",\"No\",\"Yes\",\"No\",\"No\",\"No\",\"No\",\"No\",\"No\",\"No\",\"No\",\"No\",\"No\",\"Yes\",\"No\",\"No\",\"No\",\"No\",\"No\",\"No\",\"No\",\"No\",\"Yes\",\"No\",\"No\",\"No\",\"Yes\",\"No\",\"No\",\"No\",\"No\",\"Yes\",\"No\",\"No\",\"No\",\"No\",\"Yes\",\"No\",\"No\",\"No\",\"No\",\"No\",\"Yes\",\"No\",\"No\",\"No\",\"No\",\"No\",\"No\",\"No\",\"No\",\"No\",\"No\",\"Yes\",\"No\",\"No\",\"No\",\"No\",\"No\",\"No\",\"No\",\"No\",\"Yes\",\"No\",\"No\",\"No\",\"Yes\",\"No\",\"No\",\"No\",\"No\",\"Yes\",\"No\",\"No\",\"No\",\"No\",\"Yes\",\"No\",\"No\",\"No\",\"No\",\"No\",\"Yes\",\"No\",\"No\",\"No\",\"No\",\"No\",\"No\",\"No\",\"No\",\"No\",\"No\",\"Yes\",\"No\",\"No\",\"No\",\"No\",\"No\",\"No\",\"No\",\"No\",\"Yes\",\"No\",\"No\",\"No\",\"Yes\",\"No\",\"No\",\"No\",\"No\",\"Yes\",\"No\",\"No\",\"No\",\"No\",\"Yes\",\"No\",\"No\",\"No\",\"No\",\"No\",\"Yes\",\"No\",\"No\",\"No\",\"No\",\"No\",\"No\",\"No\",\"No\",\"No\",\"No\",\"Yes\",\"No\",\"No\",\"No\",\"No\",\"No\",\"No\",\"No\",\"No\",\"Yes\",\"No\",\"No\",\"No\",\"Yes\",\"No\",\"No\",\"No\",\"No\",\"Yes\",\"No\",\"No\",\"No\",\"No\",\"Yes\",\"No\",\"No\",\"No\",\"No\",\"No\",\"Yes\",\"No\",\"No\",\"No\",\"No\",\"No\",\"No\",\"No\",\"No\",\"No\",\"No\",\"Yes\",\"No\",\"No\",\"No\",\"No\",\"No\",\"No\",\"No\",\"No\",\"Yes\",\"No\",\"No\",\"No\",\"Yes\",\"No\",\"No\",\"No\",\"No\",\"Yes\",\"No\",\"No\",\"No\",\"No\",\"Yes\",\"No\",\"No\",\"No\",\"No\",\"No\",\"Yes\",\"No\",\"No\",\"No\",\"No\",\"No\",\"No\",\"No\",\"No\",\"No\",\"No\",\"Yes\",\"No\",\"No\",\"No\",\"No\",\"No\",\"No\",\"No\",\"No\",\"Yes\",\"No\",\"No\",\"No\",\"Yes\",\"No\",\"No\",\"No\",\"No\",\"No\",\"No\",\"Yes\",\"No\",\"No\",\"No\",\"No\",\"No\",\"No\",\"No\",\"No\",\"No\",\"No\",\"No\",\"Yes\",\"No\",\"No\",\"No\",\"No\",\"No\",\"No\",\"No\",\"No\",\"No\",\"No\",\"No\",\"Yes\",\"No\",\"No\",\"No\",\"Yes\",\"Yes\",\"No\",\"No\",\"No\",\"No\",\"No\",\"No\",\"No\",\"No\",\"No\",\"No\",\"No\",\"No\",\"No\",\"No\",\"No\",\"No\",\"No\",\"No\",\"No\",\"No\",\"Yes\",\"No\",\"No\",\"No\",\"No\",\"No\",\"No\",\"No\",\"No\",\"No\",\"No\",\"No\",\"No\",\"No\",\"Yes\",\"No\",\"No\",\"No\",\"No\",\"No\",\"No\",\"No\",\"No\",\"Yes\",\"No\",\"No\",\"No\",\"No\",\"No\",\"No\",\"Yes\",\"No\",\"No\",\"No\",\"No\",\"No\",\"Yes\",\"No\",\"No\",\"No\",\"No\",\"No\",\"No\",\"No\",\"No\",\"No\",\"No\",\"No\",\"Yes\",\"No\",\"No\",\"No\",\"No\",\"No\",\"No\",\"No\",\"No\",\"Yes\",\"Yes\",\"Yes\",\"No\",\"No\",\"No\",\"No\",\"No\",\"No\",\"Yes\",\"No\",\"No\",\"No\",\"No\",\"No\",\"No\",\"No\",\"No\",\"No\",\"No\",\"No\",\"Yes\",\"No\",\"No\",\"No\",\"No\",\"No\",\"No\",\"No\",\"No\",\"No\",\"No\",\"No\",\"No\",\"No\",\"No\",\"No\",\"No\",\"No\",\"Yes\",\"No\",\"No\",\"No\",\"No\",\"Yes\",\"No\",\"No\",\"No\",\"No\",\"No\",\"Yes\",\"No\",\"No\",\"No\",\"No\",\"No\",\"No\",\"No\",\"No\",\"No\",\"No\",\"Yes\",\"No\",\"No\",\"No\",\"No\",\"No\",\"No\",\"No\",\"No\",\"Yes\",\"No\",\"No\",\"No\",\"Yes\",\"No\",\"No\",\"No\",\"No\",\"No\",\"No\",\"No\",\"No\",\"No\",\"No\",\"Yes\",\"Yes\",\"No\",\"No\",\"No\",\"No\",\"No\",\"No\",\"Yes\",\"No\",\"No\",\"No\",\"No\",\"No\",\"No\",\"No\",\"Yes\",\"Yes\",\"Yes\",\"No\",\"No\",\"No\",\"Yes\",\"No\",\"No\",\"Yes\",\"No\",\"No\",\"No\",\"No\",\"Yes\",\"No\",\"No\",\"No\",\"No\",\"No\",\"No\",\"No\",\"No\",\"No\",\"No\",\"No\",\"No\",\"No\",\"No\",\"Yes\",\"No\",\"No\",\"No\",\"No\",\"No\",\"No\",\"No\",\"Yes\",\"Yes\",\"No\",\"Yes\",\"No\",\"No\",\"Yes\",\"Yes\",\"No\",\"No\",\"No\",\"No\",\"Yes\",\"No\",\"No\",\"No\",\"No\",\"No\",\"No\",\"No\",\"Yes\",\"No\",\"No\",\"No\",\"No\",\"No\",\"Yes\",\"No\",\"No\",\"No\",\"No\",\"No\",\"No\",\"No\",\"No\",\"No\",\"No\",\"No\",\"No\",\"No\",\"No\",\"No\",\"No\",\"No\",\"No\",\"No\",\"Yes\",\"No\",\"Yes\",\"No\",\"No\",\"No\",\"No\",\"Yes\",\"No\",\"No\",\"Yes\",\"No\",\"No\",\"Yes\",\"No\",\"No\",\"No\",\"No\",\"No\",\"No\",\"No\",\"No\",\"No\",\"No\",\"No\",\"No\",\"No\",\"No\",\"Yes\",\"No\",\"No\",\"No\",\"No\",\"No\",\"No\",\"No\",\"No\",\"No\",\"No\",\"No\",\"No\",\"No\",\"No\",\"No\",\"No\",\"No\",\"No\",\"No\",\"No\",\"Yes\",\"No\",\"No\",\"No\",\"Yes\",\"No\",\"No\",\"No\",\"No\",\"No\",\"No\",\"Yes\",\"No\",\"Yes\",\"No\",\"No\",\"Yes\",\"Yes\",\"No\",\"Yes\",\"No\",\"No\",\"No\",\"No\",\"No\",\"Yes\",\"No\",\"No\",\"No\",\"Yes\",\"No\",\"No\",\"No\",\"No\",\"No\",\"Yes\",\"No\",\"No\",\"No\",\"No\",\"No\",\"Yes\",\"No\",\"Yes\",\"No\",\"No\",\"No\",\"No\",\"No\",\"Yes\",\"No\",\"Yes\",\"Yes\",\"No\",\"No\",\"No\",\"Yes\",\"No\",\"No\",\"Yes\",\"No\",\"No\",\"No\",\"No\",\"No\",\"No\",\"No\",\"No\",\"No\",\"No\",\"No\",\"No\",\"No\",\"No\",\"No\",\"No\",\"Yes\",\"No\",\"Yes\",\"No\",\"No\",\"No\",\"Yes\",\"Yes\",\"No\",\"No\",\"No\",\"No\",\"Yes\",\"Yes\",\"No\",\"No\",\"Yes\",\"No\",\"No\",\"No\",\"No\",\"Yes\",\"No\",\"No\",\"No\",\"No\",\"No\",\"No\",\"No\",\"No\",\"No\",\"No\",\"No\",\"No\",\"No\",\"Yes\",\"No\",\"No\",\"No\",\"No\",\"No\",\"No\",\"No\",\"No\",\"No\",\"No\",\"No\",\"No\",\"No\",\"No\",\"No\",\"No\",\"No\",\"No\",\"No\",\"Yes\",\"No\",\"No\",\"No\",\"No\",\"No\",\"Yes\",\"No\",\"No\",\"No\",\"No\",\"No\",\"No\",\"No\",\"No\",\"No\",\"No\",\"No\",\"No\",\"No\",\"No\",\"No\",\"No\",\"Yes\",\"No\",\"No\",\"Yes\",\"No\",\"No\",\"No\",\"No\",\"No\",\"Yes\",\"No\",\"No\",\"No\",\"No\",\"No\",\"No\",\"No\",\"Yes\",\"Yes\",\"No\",\"No\",\"No\",\"No\",\"No\",\"No\",\"Yes\",\"No\",\"No\",\"Yes\",\"No\",\"No\",\"No\",\"No\",\"No\",\"No\",\"No\",\"No\",\"No\",\"Yes\",\"No\",\"No\",\"No\",\"No\",\"No\",\"Yes\",\"No\",\"No\",\"No\",\"No\",\"No\",\"No\",\"No\",\"No\",\"No\",\"No\",\"No\",\"Yes\",\"Yes\",\"No\",\"No\",\"No\",\"No\",\"No\",\"No\",\"Yes\",\"No\",\"No\",\"No\",\"No\",\"No\",\"No\",\"No\",\"Yes\",\"Yes\",\"Yes\",\"No\",\"No\",\"No\",\"Yes\",\"No\",\"No\",\"Yes\",\"No\",\"No\",\"No\",\"No\",\"No\",\"No\",\"Yes\",\"No\",\"No\",\"No\",\"No\",\"No\",\"No\",\"No\",\"Yes\",\"No\",\"No\",\"No\",\"No\",\"No\",\"Yes\",\"No\",\"No\",\"No\",\"No\",\"No\",\"No\",\"No\",\"No\",\"No\",\"No\",\"No\",\"No\",\"Yes\",\"No\",\"Yes\",\"No\",\"No\",\"No\",\"No\",\"No\",\"No\",\"No\",\"No\",\"No\",\"No\",\"No\",\"No\",\"No\",\"No\",\"No\",\"No\",\"No\",\"No\",\"No\",\"Yes\",\"Yes\",\"No\",\"No\",\"No\",\"No\",\"Yes\",\"No\",\"No\",\"No\",\"No\",\"No\",\"No\",\"No\",\"No\",\"No\",\"No\",\"No\",\"Yes\",\"No\",\"No\",\"No\",\"No\",\"No\",\"No\",\"No\",\"No\",\"No\",\"No\",\"No\",\"Yes\",\"No\",\"No\",\"No\",\"Yes\",\"Yes\",\"No\",\"No\",\"No\",\"No\",\"No\",\"No\",\"No\",\"Yes\",\"No\",\"No\",\"No\",\"No\",\"No\",\"Yes\",\"No\",\"No\",\"No\",\"No\",\"No\",\"Yes\",\"No\",\"Yes\",\"No\",\"No\",\"No\",\"No\",\"No\",\"Yes\",\"No\",\"Yes\",\"Yes\",\"No\",\"No\",\"No\",\"Yes\",\"Yes\",\"No\",\"No\",\"No\",\"No\",\"Yes\",\"Yes\",\"No\",\"No\",\"Yes\",\"No\",\"No\",\"No\",\"No\",\"Yes\",\"No\",\"No\",\"No\",\"No\",\"No\",\"No\",\"No\",\"No\",\"No\",\"No\",\"Yes\",\"No\",\"No\",\"No\",\"No\",\"No\",\"Yes\",\"No\",\"No\",\"No\",\"No\",\"No\",\"No\",\"No\",\"No\",\"No\",\"No\",\"No\",\"No\",\"No\",\"No\",\"No\",\"No\",\"No\",\"No\",\"Yes\",\"No\",\"No\",\"No\",\"No\",\"No\",\"No\",\"No\",\"No\",\"No\",\"No\",\"No\",\"No\",\"No\",\"Yes\",\"No\",\"No\",\"No\",\"No\",\"No\",\"No\",\"No\",\"No\",\"Yes\",\"No\",\"No\",\"Yes\",\"No\",\"No\",\"No\",\"No\",\"No\",\"No\",\"No\",\"Yes\",\"Yes\",\"No\",\"No\",\"No\",\"No\",\"No\",\"No\",\"No\",\"Yes\",\"No\",\"No\",\"No\",\"No\",\"No\",\"No\",\"No\",\"Yes\",\"No\",\"No\",\"No\",\"No\",\"No\",\"No\",\"No\",\"No\",\"No\",\"No\",\"No\",\"Yes\",\"No\",\"No\",\"No\",\"No\",\"No\",\"Yes\",\"No\",\"No\",\"No\",\"No\",\"Yes\",\"No\",\"No\",\"No\",\"No\",\"No\",\"No\",\"No\",\"No\",\"No\",\"Yes\",\"No\",\"No\",\"No\",\"No\",\"No\",\"No\",\"No\",\"Yes\",\"Yes\",\"No\",\"Yes\",\"No\",\"No\",\"No\",\"Yes\",\"Yes\",\"No\",\"No\",\"No\",\"No\",\"No\",\"No\",\"Yes\",\"No\",\"No\",\"No\",\"No\",\"No\",\"Yes\",\"No\",\"No\",\"No\",\"No\",\"No\",\"No\",\"No\",\"No\",\"No\",\"No\",\"No\",\"No\",\"No\",\"No\",\"No\",\"No\",\"Yes\",\"No\",\"Yes\",\"No\",\"No\",\"No\",\"Yes\",\"No\",\"No\",\"No\",\"No\",\"No\",\"No\",\"No\",\"Yes\",\"No\",\"No\",\"No\",\"No\",\"No\",\"No\",\"Yes\",\"No\",\"No\",\"No\",\"No\",\"No\",\"No\",\"No\",\"No\",\"No\",\"No\",\"Yes\",\"Yes\",\"No\",\"No\",\"Yes\",\"No\",\"No\",\"No\",\"No\",\"No\",\"Yes\",\"No\",\"No\",\"No\",\"Yes\",\"No\",\"No\",\"No\",\"Yes\",\"No\",\"Yes\",\"No\",\"Yes\",\"No\",\"No\",\"No\",\"No\",\"No\",\"No\",\"No\",\"No\",\"No\",\"No\",\"Yes\",\"Yes\",\"Yes\",\"No\",\"No\",\"No\",\"No\",\"No\",\"No\",\"No\",\"No\",\"No\",\"No\",\"No\",\"No\",\"No\",\"No\",\"No\",\"No\",\"No\",\"No\",\"No\",\"No\",\"Yes\",\"No\",\"No\",\"No\",\"No\",\"No\",\"No\",\"No\",\"No\",\"No\",\"No\",\"No\",\"Yes\",\"Yes\",\"No\",\"Yes\",\"No\",\"No\",\"No\",\"Yes\",\"Yes\",\"No\",\"No\",\"No\",\"No\",\"No\",\"No\",\"Yes\",\"No\",\"No\",\"No\",\"Yes\",\"No\",\"No\",\"No\",\"No\",\"Yes\",\"No\",\"No\",\"No\",\"No\",\"Yes\",\"No\",\"No\",\"No\",\"No\",\"No\",\"No\",\"No\",\"No\",\"No\",\"No\",\"Yes\",\"No\",\"No\",\"No\",\"No\",\"No\",\"No\",\"No\",\"No\",\"Yes\",\"No\",\"No\",\"No\",\"Yes\",\"No\",\"No\",\"No\",\"No\",\"No\",\"No\",\"No\",\"No\",\"No\",\"No\",\"Yes\",\"Yes\",\"No\",\"No\",\"No\",\"No\",\"No\",\"No\",\"Yes\",\"No\",\"No\",\"No\",\"No\",\"No\",\"No\",\"No\",\"Yes\",\"Yes\",\"Yes\",\"No\",\"No\",\"No\",\"Yes\",\"No\",\"No\",\"Yes\",\"No\",\"No\",\"No\",\"No\",\"No\",\"No\",\"No\",\"No\",\"No\",\"No\",\"No\",\"Yes\",\"No\",\"No\",\"No\",\"No\",\"No\",\"No\",\"No\",\"No\",\"No\",\"No\",\"No\",\"No\",\"No\",\"No\",\"No\",\"No\",\"No\",\"No\",\"No\",\"No\",\"No\",\"No\",\"No\",\"No\",\"No\",\"No\",\"Yes\",\"No\",\"No\",\"No\",\"No\",\"No\",\"No\",\"No\",\"No\",\"No\",\"No\",\"No\",\"Yes\",\"No\",\"No\",\"No\",\"No\",\"No\",\"No\",\"No\",\"No\",\"No\",\"No\",\"No\",\"No\",\"No\",\"No\",\"No\",\"No\",\"No\",\"No\",\"No\",\"No\",\"No\",\"Yes\",\"Yes\",\"No\",\"No\",\"No\",\"No\",\"No\",\"No\",\"Yes\",\"No\",\"No\",\"Yes\",\"No\",\"No\",\"No\",\"No\",\"No\",\"No\",\"No\",\"No\",\"No\",\"No\",\"No\",\"No\",\"Yes\",\"No\",\"No\",\"No\",\"No\",\"No\",\"Yes\",\"No\",\"No\",\"No\",\"No\",\"No\",\"No\",\"No\",\"No\",\"No\",\"No\",\"No\",\"Yes\",\"No\",\"No\",\"No\",\"No\",\"No\",\"No\",\"No\",\"No\",\"Yes\",\"Yes\",\"No\",\"No\",\"Yes\",\"No\",\"No\",\"No\",\"No\",\"No\",\"No\",\"No\",\"Yes\",\"No\",\"No\",\"No\",\"No\",\"No\",\"No\",\"Yes\",\"No\",\"Yes\",\"No\",\"No\",\"No\",\"No\",\"No\",\"No\",\"No\",\"No\",\"No\",\"No\",\"No\",\"No\",\"No\",\"No\",\"No\",\"No\",\"No\",\"No\",\"No\",\"Yes\",\"Yes\",\"No\",\"No\",\"No\",\"No\",\"No\",\"No\",\"No\",\"No\",\"No\",\"Yes\",\"Yes\",\"Yes\",\"No\",\"No\",\"No\"],\"type\":\"histogram\",\"xaxis\":\"x2\",\"yaxis\":\"y2\"},{\"x\":[\"No\",\"Yes\",\"No\",\"Yes\",\"Yes\",\"No\",\"No\",\"Yes\",\"Yes\",\"No\",\"No\",\"No\",\"No\",\"Yes\",\"Yes\",\"Yes\",\"Yes\",\"No\",\"No\",\"No\",\"No\",\"Yes\",\"No\",\"No\",\"No\",\"No\",\"No\",\"No\",\"No\",\"No\",\"No\",\"Yes\",\"Yes\",\"No\",\"No\",\"No\",\"No\",\"Yes\",\"No\",\"No\",\"No\",\"Yes\",\"No\",\"Yes\",\"Yes\",\"No\",\"No\",\"Yes\",\"Yes\",\"No\",\"No\",\"No\",\"No\",\"Yes\",\"Yes\",\"Yes\",\"Yes\",\"No\",\"No\",\"No\",\"No\",\"Yes\",\"No\",\"No\",\"No\",\"No\",\"No\",\"No\",\"No\",\"No\",\"No\",\"Yes\",\"Yes\",\"No\",\"No\",\"No\",\"No\",\"Yes\",\"No\",\"No\",\"No\",\"Yes\",\"No\",\"Yes\",\"Yes\",\"No\",\"No\",\"Yes\",\"Yes\",\"No\",\"No\",\"No\",\"No\",\"Yes\",\"Yes\",\"Yes\",\"Yes\",\"No\",\"No\",\"No\",\"No\",\"Yes\",\"No\",\"No\",\"No\",\"No\",\"No\",\"No\",\"No\",\"No\",\"No\",\"Yes\",\"Yes\",\"No\",\"No\",\"No\",\"No\",\"Yes\",\"No\",\"No\",\"No\",\"Yes\",\"No\",\"Yes\",\"Yes\",\"No\",\"No\",\"Yes\",\"Yes\",\"No\",\"No\",\"No\",\"No\",\"Yes\",\"Yes\",\"Yes\",\"Yes\",\"No\",\"No\",\"No\",\"No\",\"Yes\",\"No\",\"No\",\"No\",\"No\",\"No\",\"No\",\"No\",\"No\",\"No\",\"Yes\",\"Yes\",\"No\",\"No\",\"No\",\"No\",\"Yes\",\"No\",\"No\",\"No\",\"Yes\",\"No\",\"Yes\",\"Yes\",\"No\",\"No\",\"Yes\",\"Yes\",\"No\",\"No\",\"No\",\"No\",\"Yes\",\"Yes\",\"Yes\",\"Yes\",\"No\",\"No\",\"No\",\"No\",\"Yes\",\"No\",\"No\",\"No\",\"No\",\"No\",\"No\",\"No\",\"No\",\"No\",\"Yes\",\"Yes\",\"No\",\"No\",\"No\",\"No\",\"Yes\",\"No\",\"No\",\"No\",\"Yes\",\"No\",\"Yes\",\"Yes\",\"No\",\"No\",\"Yes\",\"Yes\",\"No\",\"No\",\"No\",\"No\",\"Yes\",\"Yes\",\"Yes\",\"Yes\",\"No\",\"No\",\"No\",\"No\",\"Yes\",\"No\",\"No\",\"No\",\"No\",\"No\",\"No\",\"No\",\"No\",\"No\",\"Yes\",\"Yes\",\"No\",\"No\",\"No\",\"No\",\"Yes\",\"No\",\"No\",\"No\",\"Yes\",\"No\",\"No\",\"No\",\"No\",\"No\",\"Yes\",\"Yes\",\"No\",\"No\",\"No\",\"No\",\"No\",\"No\",\"No\",\"No\",\"Yes\",\"No\",\"No\",\"No\",\"No\",\"No\",\"No\",\"Yes\",\"No\",\"No\",\"No\",\"No\",\"Yes\",\"No\",\"No\",\"Yes\",\"No\",\"No\",\"Yes\",\"Yes\",\"No\",\"No\",\"No\",\"Yes\",\"No\",\"No\",\"No\",\"No\",\"No\",\"Yes\",\"No\",\"Yes\",\"Yes\",\"Yes\",\"Yes\",\"No\",\"No\",\"No\",\"No\",\"No\",\"Yes\",\"Yes\",\"No\",\"Yes\",\"No\",\"No\",\"No\",\"No\",\"No\",\"No\",\"Yes\",\"No\",\"No\",\"No\",\"No\",\"No\",\"Yes\",\"No\",\"No\",\"No\",\"Yes\",\"Yes\",\"No\",\"Yes\",\"No\",\"No\",\"Yes\",\"No\",\"Yes\",\"No\",\"Yes\",\"No\",\"No\",\"No\",\"No\",\"No\",\"No\",\"Yes\",\"No\",\"No\",\"No\",\"No\",\"No\",\"No\",\"No\",\"Yes\",\"No\",\"No\",\"No\",\"Yes\",\"No\",\"No\",\"No\",\"No\",\"No\",\"No\",\"No\",\"No\",\"No\",\"No\",\"Yes\",\"No\",\"Yes\",\"No\",\"No\",\"Yes\",\"No\",\"No\",\"Yes\",\"No\",\"No\",\"No\",\"No\",\"No\",\"No\",\"No\",\"No\",\"No\",\"No\",\"No\",\"No\",\"No\",\"No\",\"No\",\"Yes\",\"No\",\"No\",\"No\",\"No\",\"Yes\",\"No\",\"No\",\"Yes\",\"No\",\"Yes\",\"Yes\",\"No\",\"No\",\"Yes\",\"Yes\",\"No\",\"No\",\"No\",\"No\",\"Yes\",\"Yes\",\"Yes\",\"Yes\",\"No\",\"No\",\"No\",\"No\",\"Yes\",\"No\",\"No\",\"No\",\"No\",\"No\",\"No\",\"No\",\"No\",\"No\",\"Yes\",\"Yes\",\"No\",\"No\",\"No\",\"No\",\"Yes\",\"No\",\"No\",\"Yes\",\"No\",\"No\",\"Yes\",\"No\",\"No\",\"No\",\"No\",\"No\",\"No\",\"No\",\"No\",\"No\",\"No\",\"No\",\"No\",\"No\",\"No\",\"Yes\",\"Yes\",\"No\",\"No\",\"No\",\"No\",\"No\",\"No\",\"Yes\",\"No\",\"No\",\"No\",\"Yes\",\"No\",\"No\",\"No\",\"No\",\"Yes\",\"No\",\"No\",\"No\",\"No\",\"No\",\"No\",\"Yes\",\"No\",\"No\",\"No\",\"No\",\"No\",\"No\",\"No\",\"No\",\"No\",\"No\",\"No\",\"No\",\"Yes\",\"No\",\"No\",\"No\",\"No\",\"No\",\"No\",\"No\",\"Yes\",\"Yes\",\"No\",\"No\",\"No\",\"Yes\",\"No\",\"Yes\",\"No\",\"No\",\"No\",\"No\",\"No\",\"No\",\"No\",\"Yes\",\"No\",\"No\",\"Yes\",\"Yes\",\"No\",\"Yes\",\"No\",\"No\",\"No\",\"No\",\"No\",\"No\",\"No\",\"No\",\"No\",\"No\",\"Yes\",\"No\",\"No\",\"No\",\"No\",\"No\",\"Yes\",\"Yes\",\"Yes\",\"No\",\"No\",\"No\",\"No\",\"No\",\"No\",\"Yes\",\"Yes\",\"No\",\"No\",\"No\",\"No\",\"No\",\"No\",\"Yes\",\"Yes\",\"No\",\"No\",\"No\",\"No\",\"No\",\"No\",\"Yes\",\"No\",\"No\",\"Yes\",\"No\",\"No\",\"No\",\"No\",\"No\",\"No\",\"Yes\",\"No\",\"No\",\"No\",\"No\",\"Yes\",\"No\",\"Yes\",\"No\",\"No\",\"No\",\"No\",\"Yes\",\"No\",\"No\",\"No\",\"No\",\"Yes\",\"No\",\"No\",\"No\",\"No\",\"Yes\",\"No\",\"No\",\"No\",\"No\",\"No\",\"No\",\"No\",\"No\",\"No\",\"No\",\"No\",\"No\",\"Yes\",\"No\",\"Yes\",\"No\",\"No\",\"No\",\"No\",\"No\",\"No\",\"No\",\"No\",\"Yes\",\"No\",\"No\",\"No\",\"No\",\"No\",\"No\",\"No\",\"No\",\"No\",\"No\",\"Yes\",\"No\",\"No\",\"No\",\"No\",\"Yes\",\"No\",\"No\",\"No\",\"No\",\"No\",\"No\",\"Yes\",\"No\",\"Yes\",\"No\",\"Yes\",\"No\",\"No\",\"No\",\"No\",\"No\",\"Yes\",\"No\",\"No\",\"No\",\"No\",\"No\",\"No\",\"No\",\"Yes\",\"Yes\",\"Yes\",\"No\",\"No\",\"No\",\"No\",\"Yes\",\"No\",\"No\",\"No\",\"No\",\"No\",\"No\",\"No\",\"Yes\",\"No\",\"No\",\"No\",\"No\",\"No\",\"No\",\"No\",\"No\",\"No\",\"No\",\"Yes\",\"Yes\",\"No\",\"No\",\"No\",\"No\",\"No\",\"No\",\"No\",\"No\",\"No\",\"No\",\"No\",\"No\",\"No\",\"No\",\"No\",\"No\",\"No\",\"No\",\"No\",\"No\",\"No\",\"No\",\"No\",\"No\",\"No\",\"No\",\"No\",\"No\",\"No\",\"Yes\",\"No\",\"Yes\",\"No\",\"No\",\"No\",\"No\",\"Yes\",\"No\",\"No\",\"No\",\"No\",\"Yes\",\"No\",\"Yes\",\"No\",\"No\",\"No\",\"No\",\"No\",\"No\",\"No\",\"No\",\"No\",\"No\",\"No\",\"No\",\"No\",\"No\",\"Yes\",\"No\",\"No\",\"No\",\"No\",\"Yes\",\"No\",\"No\",\"No\",\"No\",\"No\",\"No\",\"No\",\"No\",\"No\",\"No\",\"No\",\"No\",\"No\",\"No\",\"No\",\"No\",\"No\",\"No\",\"No\",\"No\",\"No\",\"No\",\"No\",\"Yes\",\"No\",\"No\",\"No\",\"No\",\"No\",\"No\",\"No\",\"No\",\"No\",\"No\",\"No\",\"No\",\"No\",\"No\",\"No\",\"No\",\"No\",\"No\",\"No\",\"Yes\",\"No\",\"No\",\"Yes\",\"No\",\"No\",\"No\",\"No\",\"No\",\"No\",\"No\",\"No\",\"No\",\"No\",\"No\",\"No\",\"No\",\"No\",\"Yes\",\"Yes\",\"No\",\"No\",\"No\",\"No\",\"No\",\"No\",\"Yes\",\"No\",\"No\",\"No\",\"Yes\",\"No\",\"No\",\"No\",\"No\",\"Yes\",\"No\",\"Yes\",\"No\",\"No\",\"No\",\"No\",\"No\",\"No\",\"No\",\"Yes\",\"No\",\"No\",\"Yes\",\"Yes\",\"No\",\"Yes\",\"No\",\"No\",\"No\",\"No\",\"No\",\"No\",\"No\",\"No\",\"No\",\"No\",\"Yes\",\"No\",\"No\",\"No\",\"No\",\"No\",\"No\",\"Yes\",\"No\",\"No\",\"No\",\"No\",\"No\",\"No\",\"No\",\"No\",\"No\",\"No\",\"No\",\"No\",\"No\",\"No\",\"No\",\"No\",\"No\",\"No\",\"No\",\"No\",\"No\",\"No\",\"Yes\",\"No\",\"No\",\"No\",\"No\",\"No\",\"Yes\",\"Yes\",\"No\",\"No\",\"No\",\"No\",\"No\",\"No\",\"No\",\"No\",\"Yes\",\"No\",\"No\",\"No\",\"No\",\"No\",\"No\",\"Yes\",\"No\",\"No\",\"No\",\"No\",\"Yes\",\"No\",\"No\",\"Yes\",\"No\",\"No\",\"Yes\",\"Yes\",\"No\",\"No\",\"No\",\"No\",\"No\",\"No\",\"No\",\"No\",\"No\",\"No\",\"No\",\"No\",\"Yes\",\"No\",\"No\",\"No\",\"No\",\"Yes\",\"No\",\"No\",\"No\",\"No\",\"No\",\"No\",\"Yes\",\"No\",\"Yes\",\"No\",\"Yes\",\"No\",\"No\",\"Yes\",\"No\",\"No\",\"No\",\"No\",\"No\",\"No\",\"No\",\"No\",\"No\",\"No\",\"Yes\",\"Yes\",\"No\",\"No\",\"No\",\"No\",\"No\",\"No\",\"No\",\"No\",\"No\",\"No\",\"No\",\"No\",\"No\",\"No\",\"No\",\"No\",\"No\",\"No\",\"No\",\"No\",\"No\",\"No\",\"No\",\"No\",\"Yes\",\"No\",\"No\",\"No\",\"No\",\"No\",\"Yes\",\"No\",\"Yes\",\"Yes\",\"Yes\",\"Yes\",\"No\",\"No\",\"No\",\"No\",\"No\",\"Yes\",\"Yes\",\"No\",\"Yes\",\"No\",\"No\",\"No\",\"No\",\"No\",\"No\",\"Yes\",\"No\",\"No\",\"No\",\"No\",\"No\",\"Yes\",\"No\",\"No\",\"No\",\"No\",\"No\",\"No\",\"No\",\"No\",\"No\",\"No\",\"No\",\"No\",\"No\",\"No\",\"No\",\"No\",\"No\",\"No\",\"No\",\"No\",\"No\",\"No\",\"No\",\"No\",\"No\",\"No\",\"No\",\"No\",\"No\",\"No\",\"No\",\"No\",\"No\",\"No\",\"No\",\"No\",\"No\",\"No\",\"No\",\"No\",\"No\",\"No\",\"No\",\"No\",\"No\",\"No\",\"No\",\"No\",\"No\",\"No\",\"Yes\",\"No\",\"No\",\"No\",\"No\",\"No\",\"No\",\"No\",\"No\",\"No\",\"No\",\"No\",\"No\",\"No\",\"No\",\"No\",\"No\",\"No\",\"No\",\"No\",\"No\",\"No\",\"No\",\"No\",\"No\",\"No\",\"No\",\"No\",\"No\",\"No\",\"No\",\"No\",\"No\",\"No\",\"No\",\"No\",\"No\",\"No\",\"No\",\"No\",\"No\",\"No\",\"No\",\"Yes\",\"No\",\"No\",\"No\",\"No\",\"No\",\"No\",\"No\",\"Yes\",\"Yes\",\"Yes\",\"No\",\"No\",\"No\",\"No\",\"Yes\",\"No\",\"No\",\"No\",\"No\",\"No\",\"No\",\"No\",\"Yes\",\"No\",\"No\",\"No\",\"No\",\"No\",\"No\",\"No\",\"No\",\"No\",\"No\",\"No\",\"No\",\"Yes\",\"Yes\",\"No\",\"No\",\"No\",\"No\",\"No\",\"Yes\",\"No\",\"No\",\"No\",\"No\",\"No\",\"No\",\"No\",\"No\",\"No\",\"No\",\"No\",\"No\",\"No\",\"No\",\"No\",\"No\",\"No\",\"No\",\"No\",\"No\",\"No\",\"No\",\"No\",\"No\",\"No\",\"No\",\"No\",\"No\",\"Yes\",\"No\",\"No\",\"Yes\",\"No\",\"Yes\",\"No\",\"No\",\"No\",\"Yes\",\"No\",\"No\",\"No\",\"No\",\"Yes\",\"No\",\"No\",\"No\",\"No\",\"No\",\"No\",\"No\",\"No\",\"No\",\"No\",\"No\",\"No\",\"No\",\"No\",\"No\",\"No\",\"Yes\",\"Yes\",\"No\",\"No\",\"No\",\"No\",\"No\",\"No\",\"No\",\"No\",\"No\",\"No\",\"No\",\"No\",\"No\",\"No\",\"No\",\"No\",\"No\",\"No\",\"No\",\"No\",\"No\",\"No\",\"No\",\"No\",\"No\",\"No\",\"No\",\"No\",\"No\",\"No\",\"Yes\",\"No\",\"Yes\",\"Yes\",\"No\",\"No\",\"Yes\",\"Yes\",\"No\",\"No\",\"No\",\"Yes\",\"Yes\",\"Yes\",\"Yes\",\"No\",\"No\",\"No\",\"No\",\"Yes\",\"No\",\"No\",\"No\",\"No\",\"No\",\"No\",\"No\",\"No\",\"No\",\"Yes\",\"Yes\",\"No\",\"No\",\"No\",\"No\",\"Yes\",\"No\",\"No\",\"Yes\",\"No\",\"No\",\"Yes\",\"No\",\"No\",\"No\",\"No\",\"No\",\"No\",\"No\",\"No\",\"No\",\"No\",\"No\",\"No\",\"No\",\"No\",\"Yes\",\"Yes\",\"No\",\"No\",\"No\",\"No\",\"No\",\"No\",\"Yes\",\"No\",\"No\",\"No\",\"Yes\",\"No\",\"No\",\"No\",\"No\",\"No\",\"Yes\",\"No\",\"No\",\"Yes\",\"No\",\"No\",\"No\",\"No\",\"No\",\"No\",\"Yes\",\"No\",\"No\",\"No\",\"No\",\"Yes\",\"No\",\"Yes\",\"No\",\"No\",\"No\",\"No\",\"Yes\",\"No\",\"No\",\"No\",\"No\",\"No\",\"Yes\",\"No\",\"No\",\"No\",\"No\",\"No\",\"No\",\"No\",\"No\",\"No\",\"No\",\"No\",\"No\",\"No\",\"No\",\"No\",\"No\",\"No\",\"No\",\"No\",\"No\",\"No\",\"No\",\"No\",\"No\",\"No\",\"No\",\"No\",\"No\",\"No\",\"No\",\"No\",\"No\",\"Yes\",\"No\",\"Yes\",\"No\",\"No\",\"No\",\"No\",\"No\",\"No\",\"No\",\"No\",\"No\",\"No\",\"No\",\"No\",\"No\",\"No\",\"No\",\"No\",\"No\",\"Yes\",\"No\",\"No\",\"No\",\"No\",\"No\",\"Yes\",\"Yes\",\"No\",\"Yes\",\"No\",\"No\",\"Yes\",\"No\",\"Yes\",\"No\",\"Yes\",\"No\",\"No\",\"No\",\"No\",\"No\",\"No\",\"Yes\",\"No\",\"No\",\"No\",\"No\",\"No\",\"No\",\"No\",\"Yes\",\"No\",\"No\",\"No\",\"Yes\",\"No\",\"No\",\"No\",\"No\",\"No\",\"No\",\"No\",\"No\",\"No\",\"No\",\"No\",\"No\",\"No\",\"No\",\"No\",\"No\",\"No\",\"No\",\"No\",\"No\",\"No\",\"No\",\"No\",\"No\",\"No\",\"Yes\",\"No\",\"No\",\"No\",\"No\",\"No\",\"No\",\"No\",\"No\",\"No\",\"No\",\"No\",\"No\",\"No\",\"No\",\"No\",\"No\",\"No\",\"No\",\"No\",\"No\",\"No\",\"No\",\"No\",\"Yes\",\"No\",\"Yes\",\"No\",\"No\",\"No\",\"Yes\",\"No\",\"No\",\"No\",\"No\"],\"type\":\"histogram\",\"xaxis\":\"x3\",\"yaxis\":\"y3\"}],                        {\"template\":{\"data\":{\"histogram2dcontour\":[{\"type\":\"histogram2dcontour\",\"colorbar\":{\"outlinewidth\":0,\"ticks\":\"\"},\"colorscale\":[[0.0,\"#0d0887\"],[0.1111111111111111,\"#46039f\"],[0.2222222222222222,\"#7201a8\"],[0.3333333333333333,\"#9c179e\"],[0.4444444444444444,\"#bd3786\"],[0.5555555555555556,\"#d8576b\"],[0.6666666666666666,\"#ed7953\"],[0.7777777777777778,\"#fb9f3a\"],[0.8888888888888888,\"#fdca26\"],[1.0,\"#f0f921\"]]}],\"choropleth\":[{\"type\":\"choropleth\",\"colorbar\":{\"outlinewidth\":0,\"ticks\":\"\"}}],\"histogram2d\":[{\"type\":\"histogram2d\",\"colorbar\":{\"outlinewidth\":0,\"ticks\":\"\"},\"colorscale\":[[0.0,\"#0d0887\"],[0.1111111111111111,\"#46039f\"],[0.2222222222222222,\"#7201a8\"],[0.3333333333333333,\"#9c179e\"],[0.4444444444444444,\"#bd3786\"],[0.5555555555555556,\"#d8576b\"],[0.6666666666666666,\"#ed7953\"],[0.7777777777777778,\"#fb9f3a\"],[0.8888888888888888,\"#fdca26\"],[1.0,\"#f0f921\"]]}],\"heatmap\":[{\"type\":\"heatmap\",\"colorbar\":{\"outlinewidth\":0,\"ticks\":\"\"},\"colorscale\":[[0.0,\"#0d0887\"],[0.1111111111111111,\"#46039f\"],[0.2222222222222222,\"#7201a8\"],[0.3333333333333333,\"#9c179e\"],[0.4444444444444444,\"#bd3786\"],[0.5555555555555556,\"#d8576b\"],[0.6666666666666666,\"#ed7953\"],[0.7777777777777778,\"#fb9f3a\"],[0.8888888888888888,\"#fdca26\"],[1.0,\"#f0f921\"]]}],\"heatmapgl\":[{\"type\":\"heatmapgl\",\"colorbar\":{\"outlinewidth\":0,\"ticks\":\"\"},\"colorscale\":[[0.0,\"#0d0887\"],[0.1111111111111111,\"#46039f\"],[0.2222222222222222,\"#7201a8\"],[0.3333333333333333,\"#9c179e\"],[0.4444444444444444,\"#bd3786\"],[0.5555555555555556,\"#d8576b\"],[0.6666666666666666,\"#ed7953\"],[0.7777777777777778,\"#fb9f3a\"],[0.8888888888888888,\"#fdca26\"],[1.0,\"#f0f921\"]]}],\"contourcarpet\":[{\"type\":\"contourcarpet\",\"colorbar\":{\"outlinewidth\":0,\"ticks\":\"\"}}],\"contour\":[{\"type\":\"contour\",\"colorbar\":{\"outlinewidth\":0,\"ticks\":\"\"},\"colorscale\":[[0.0,\"#0d0887\"],[0.1111111111111111,\"#46039f\"],[0.2222222222222222,\"#7201a8\"],[0.3333333333333333,\"#9c179e\"],[0.4444444444444444,\"#bd3786\"],[0.5555555555555556,\"#d8576b\"],[0.6666666666666666,\"#ed7953\"],[0.7777777777777778,\"#fb9f3a\"],[0.8888888888888888,\"#fdca26\"],[1.0,\"#f0f921\"]]}],\"surface\":[{\"type\":\"surface\",\"colorbar\":{\"outlinewidth\":0,\"ticks\":\"\"},\"colorscale\":[[0.0,\"#0d0887\"],[0.1111111111111111,\"#46039f\"],[0.2222222222222222,\"#7201a8\"],[0.3333333333333333,\"#9c179e\"],[0.4444444444444444,\"#bd3786\"],[0.5555555555555556,\"#d8576b\"],[0.6666666666666666,\"#ed7953\"],[0.7777777777777778,\"#fb9f3a\"],[0.8888888888888888,\"#fdca26\"],[1.0,\"#f0f921\"]]}],\"mesh3d\":[{\"type\":\"mesh3d\",\"colorbar\":{\"outlinewidth\":0,\"ticks\":\"\"}}],\"scatter\":[{\"fillpattern\":{\"fillmode\":\"overlay\",\"size\":10,\"solidity\":0.2},\"type\":\"scatter\"}],\"parcoords\":[{\"type\":\"parcoords\",\"line\":{\"colorbar\":{\"outlinewidth\":0,\"ticks\":\"\"}}}],\"scatterpolargl\":[{\"type\":\"scatterpolargl\",\"marker\":{\"colorbar\":{\"outlinewidth\":0,\"ticks\":\"\"}}}],\"bar\":[{\"error_x\":{\"color\":\"#2a3f5f\"},\"error_y\":{\"color\":\"#2a3f5f\"},\"marker\":{\"line\":{\"color\":\"#E5ECF6\",\"width\":0.5},\"pattern\":{\"fillmode\":\"overlay\",\"size\":10,\"solidity\":0.2}},\"type\":\"bar\"}],\"scattergeo\":[{\"type\":\"scattergeo\",\"marker\":{\"colorbar\":{\"outlinewidth\":0,\"ticks\":\"\"}}}],\"scatterpolar\":[{\"type\":\"scatterpolar\",\"marker\":{\"colorbar\":{\"outlinewidth\":0,\"ticks\":\"\"}}}],\"histogram\":[{\"marker\":{\"pattern\":{\"fillmode\":\"overlay\",\"size\":10,\"solidity\":0.2}},\"type\":\"histogram\"}],\"scattergl\":[{\"type\":\"scattergl\",\"marker\":{\"colorbar\":{\"outlinewidth\":0,\"ticks\":\"\"}}}],\"scatter3d\":[{\"type\":\"scatter3d\",\"line\":{\"colorbar\":{\"outlinewidth\":0,\"ticks\":\"\"}},\"marker\":{\"colorbar\":{\"outlinewidth\":0,\"ticks\":\"\"}}}],\"scattermapbox\":[{\"type\":\"scattermapbox\",\"marker\":{\"colorbar\":{\"outlinewidth\":0,\"ticks\":\"\"}}}],\"scatterternary\":[{\"type\":\"scatterternary\",\"marker\":{\"colorbar\":{\"outlinewidth\":0,\"ticks\":\"\"}}}],\"scattercarpet\":[{\"type\":\"scattercarpet\",\"marker\":{\"colorbar\":{\"outlinewidth\":0,\"ticks\":\"\"}}}],\"carpet\":[{\"aaxis\":{\"endlinecolor\":\"#2a3f5f\",\"gridcolor\":\"white\",\"linecolor\":\"white\",\"minorgridcolor\":\"white\",\"startlinecolor\":\"#2a3f5f\"},\"baxis\":{\"endlinecolor\":\"#2a3f5f\",\"gridcolor\":\"white\",\"linecolor\":\"white\",\"minorgridcolor\":\"white\",\"startlinecolor\":\"#2a3f5f\"},\"type\":\"carpet\"}],\"table\":[{\"cells\":{\"fill\":{\"color\":\"#EBF0F8\"},\"line\":{\"color\":\"white\"}},\"header\":{\"fill\":{\"color\":\"#C8D4E3\"},\"line\":{\"color\":\"white\"}},\"type\":\"table\"}],\"barpolar\":[{\"marker\":{\"line\":{\"color\":\"#E5ECF6\",\"width\":0.5},\"pattern\":{\"fillmode\":\"overlay\",\"size\":10,\"solidity\":0.2}},\"type\":\"barpolar\"}],\"pie\":[{\"automargin\":true,\"type\":\"pie\"}]},\"layout\":{\"autotypenumbers\":\"strict\",\"colorway\":[\"#636efa\",\"#EF553B\",\"#00cc96\",\"#ab63fa\",\"#FFA15A\",\"#19d3f3\",\"#FF6692\",\"#B6E880\",\"#FF97FF\",\"#FECB52\"],\"font\":{\"color\":\"#2a3f5f\"},\"hovermode\":\"closest\",\"hoverlabel\":{\"align\":\"left\"},\"paper_bgcolor\":\"white\",\"plot_bgcolor\":\"#E5ECF6\",\"polar\":{\"bgcolor\":\"#E5ECF6\",\"angularaxis\":{\"gridcolor\":\"white\",\"linecolor\":\"white\",\"ticks\":\"\"},\"radialaxis\":{\"gridcolor\":\"white\",\"linecolor\":\"white\",\"ticks\":\"\"}},\"ternary\":{\"bgcolor\":\"#E5ECF6\",\"aaxis\":{\"gridcolor\":\"white\",\"linecolor\":\"white\",\"ticks\":\"\"},\"baxis\":{\"gridcolor\":\"white\",\"linecolor\":\"white\",\"ticks\":\"\"},\"caxis\":{\"gridcolor\":\"white\",\"linecolor\":\"white\",\"ticks\":\"\"}},\"coloraxis\":{\"colorbar\":{\"outlinewidth\":0,\"ticks\":\"\"}},\"colorscale\":{\"sequential\":[[0.0,\"#0d0887\"],[0.1111111111111111,\"#46039f\"],[0.2222222222222222,\"#7201a8\"],[0.3333333333333333,\"#9c179e\"],[0.4444444444444444,\"#bd3786\"],[0.5555555555555556,\"#d8576b\"],[0.6666666666666666,\"#ed7953\"],[0.7777777777777778,\"#fb9f3a\"],[0.8888888888888888,\"#fdca26\"],[1.0,\"#f0f921\"]],\"sequentialminus\":[[0.0,\"#0d0887\"],[0.1111111111111111,\"#46039f\"],[0.2222222222222222,\"#7201a8\"],[0.3333333333333333,\"#9c179e\"],[0.4444444444444444,\"#bd3786\"],[0.5555555555555556,\"#d8576b\"],[0.6666666666666666,\"#ed7953\"],[0.7777777777777778,\"#fb9f3a\"],[0.8888888888888888,\"#fdca26\"],[1.0,\"#f0f921\"]],\"diverging\":[[0,\"#8e0152\"],[0.1,\"#c51b7d\"],[0.2,\"#de77ae\"],[0.3,\"#f1b6da\"],[0.4,\"#fde0ef\"],[0.5,\"#f7f7f7\"],[0.6,\"#e6f5d0\"],[0.7,\"#b8e186\"],[0.8,\"#7fbc41\"],[0.9,\"#4d9221\"],[1,\"#276419\"]]},\"xaxis\":{\"gridcolor\":\"white\",\"linecolor\":\"white\",\"ticks\":\"\",\"title\":{\"standoff\":15},\"zerolinecolor\":\"white\",\"automargin\":true,\"zerolinewidth\":2},\"yaxis\":{\"gridcolor\":\"white\",\"linecolor\":\"white\",\"ticks\":\"\",\"title\":{\"standoff\":15},\"zerolinecolor\":\"white\",\"automargin\":true,\"zerolinewidth\":2},\"scene\":{\"xaxis\":{\"backgroundcolor\":\"#E5ECF6\",\"gridcolor\":\"white\",\"linecolor\":\"white\",\"showbackground\":true,\"ticks\":\"\",\"zerolinecolor\":\"white\",\"gridwidth\":2},\"yaxis\":{\"backgroundcolor\":\"#E5ECF6\",\"gridcolor\":\"white\",\"linecolor\":\"white\",\"showbackground\":true,\"ticks\":\"\",\"zerolinecolor\":\"white\",\"gridwidth\":2},\"zaxis\":{\"backgroundcolor\":\"#E5ECF6\",\"gridcolor\":\"white\",\"linecolor\":\"white\",\"showbackground\":true,\"ticks\":\"\",\"zerolinecolor\":\"white\",\"gridwidth\":2}},\"shapedefaults\":{\"line\":{\"color\":\"#2a3f5f\"}},\"annotationdefaults\":{\"arrowcolor\":\"#2a3f5f\",\"arrowhead\":0,\"arrowwidth\":1},\"geo\":{\"bgcolor\":\"white\",\"landcolor\":\"#E5ECF6\",\"subunitcolor\":\"white\",\"showland\":true,\"showlakes\":true,\"lakecolor\":\"white\"},\"title\":{\"x\":0.05},\"mapbox\":{\"style\":\"light\"}}},\"xaxis\":{\"anchor\":\"y\",\"domain\":[0.0,0.2888888888888889]},\"yaxis\":{\"anchor\":\"x\",\"domain\":[0.0,1.0]},\"xaxis2\":{\"anchor\":\"y2\",\"domain\":[0.35555555555555557,0.6444444444444445]},\"yaxis2\":{\"anchor\":\"x2\",\"domain\":[0.0,1.0]},\"xaxis3\":{\"anchor\":\"y3\",\"domain\":[0.7111111111111111,1.0]},\"yaxis3\":{\"anchor\":\"x3\",\"domain\":[0.0,1.0]},\"annotations\":[{\"font\":{\"size\":16},\"showarrow\":false,\"text\":\"Brand\",\"x\":0.14444444444444446,\"xanchor\":\"center\",\"xref\":\"paper\",\"y\":1.0,\"yanchor\":\"bottom\",\"yref\":\"paper\"},{\"font\":{\"size\":16},\"showarrow\":false,\"text\":\"Fast Charging\",\"x\":0.5,\"xanchor\":\"center\",\"xref\":\"paper\",\"y\":1.0,\"yanchor\":\"bottom\",\"yref\":\"paper\"},{\"font\":{\"size\":16},\"showarrow\":false,\"text\":\"Warrnaty\",\"x\":0.8555555555555556,\"xanchor\":\"center\",\"xref\":\"paper\",\"y\":1.0,\"yanchor\":\"bottom\",\"yref\":\"paper\"}]},                        {\"responsive\": true}                    ).then(function(){\n",
       "                            \n",
       "var gd = document.getElementById('10303a58-db22-417d-baa8-cb9fffe6db09');\n",
       "var x = new MutationObserver(function (mutations, observer) {{\n",
       "        var display = window.getComputedStyle(gd).display;\n",
       "        if (!display || display === 'none') {{\n",
       "            console.log([gd, 'removed!']);\n",
       "            Plotly.purge(gd);\n",
       "            observer.disconnect();\n",
       "        }}\n",
       "}});\n",
       "\n",
       "// Listen for the removal of the full notebook cells\n",
       "var notebookContainer = gd.closest('#notebook-container');\n",
       "if (notebookContainer) {{\n",
       "    x.observe(notebookContainer, {childList: true});\n",
       "}}\n",
       "\n",
       "// Listen for the clearing of the current output cell\n",
       "var outputEl = gd.closest('.output');\n",
       "if (outputEl) {{\n",
       "    x.observe(outputEl, {childList: true});\n",
       "}}\n",
       "\n",
       "                        })                };                });            </script>        </div>"
      ]
     },
     "metadata": {},
     "output_type": "display_data"
    }
   ],
   "source": [
    "fig = make_subplots(rows=1, cols=3 ,subplot_titles=['Brand','Fast Charging','Warrnaty'])\n",
    "\n",
    "# Add histograms\n",
    "fig.add_trace(go.Histogram(x=df['Brand']), row=1, col=1)\n",
    "fig.add_trace(go.Histogram(x=df['Fast Charging']), row=1, col=2)\n",
    "fig.add_trace(go.Histogram(x=df['Warrnaty']), row=1, col=3)\n",
    "\n",
    "# Show the plot\n",
    "fig.show()"
   ]
  },
  {
   "cell_type": "markdown",
   "id": "03ac67b3",
   "metadata": {
    "papermill": {
     "duration": 0.019874,
     "end_time": "2024-02-09T18:47:04.490094",
     "exception": false,
     "start_time": "2024-02-09T18:47:04.470220",
     "status": "completed"
    },
    "tags": []
   },
   "source": [
    "# Data Wrangling\n",
    "<a id='dw'></a>"
   ]
  },
  {
   "cell_type": "markdown",
   "id": "db294205",
   "metadata": {
    "papermill": {
     "duration": 0.021449,
     "end_time": "2024-02-09T18:47:04.590851",
     "exception": false,
     "start_time": "2024-02-09T18:47:04.569402",
     "status": "completed"
    },
    "tags": []
   },
   "source": [
    "### Filling Missing Values\n",
    "<a id='na'></a>"
   ]
  },
  {
   "cell_type": "code",
   "execution_count": 17,
   "id": "ddc1a682",
   "metadata": {
    "execution": {
     "iopub.execute_input": "2024-02-09T18:47:04.634228Z",
     "iopub.status.busy": "2024-02-09T18:47:04.633815Z",
     "iopub.status.idle": "2024-02-09T18:47:05.236009Z",
     "shell.execute_reply": "2024-02-09T18:47:05.234857Z"
    },
    "papermill": {
     "duration": 0.627074,
     "end_time": "2024-02-09T18:47:05.238561",
     "exception": false,
     "start_time": "2024-02-09T18:47:04.611487",
     "status": "completed"
    },
    "tags": []
   },
   "outputs": [
    {
     "data": {
      "text/html": [
       "<div>\n",
       "<style scoped>\n",
       "    .dataframe tbody tr th:only-of-type {\n",
       "        vertical-align: middle;\n",
       "    }\n",
       "\n",
       "    .dataframe tbody tr th {\n",
       "        vertical-align: top;\n",
       "    }\n",
       "\n",
       "    .dataframe thead th {\n",
       "        text-align: right;\n",
       "    }\n",
       "</style>\n",
       "<table border=\"1\" class=\"dataframe\">\n",
       "  <thead>\n",
       "    <tr style=\"text-align: right;\">\n",
       "      <th></th>\n",
       "      <th>Name</th>\n",
       "      <th>Rating</th>\n",
       "      <th>Number of Ratings</th>\n",
       "      <th>Price</th>\n",
       "      <th>Brand</th>\n",
       "      <th>Screen_Size</th>\n",
       "      <th>Battery</th>\n",
       "      <th>ROM</th>\n",
       "      <th>RAM</th>\n",
       "      <th>Fast Charging</th>\n",
       "      <th>Warrnaty</th>\n",
       "    </tr>\n",
       "  </thead>\n",
       "  <tbody>\n",
       "    <tr>\n",
       "      <th>0</th>\n",
       "      <td>redmi a2+ 3gb - 64gb 5000mah 10w fast charging...</td>\n",
       "      <td>4.7</td>\n",
       "      <td>240.0</td>\n",
       "      <td>19299.0</td>\n",
       "      <td>redmi</td>\n",
       "      <td>6.520</td>\n",
       "      <td>5000.0</td>\n",
       "      <td>64.0</td>\n",
       "      <td>3.0</td>\n",
       "      <td>Yes</td>\n",
       "      <td>No</td>\n",
       "    </tr>\n",
       "    <tr>\n",
       "      <th>1</th>\n",
       "      <td>redmi 13c  6gb ram-128gb rom  6.74\" dot drop d...</td>\n",
       "      <td>4.8</td>\n",
       "      <td>13.0</td>\n",
       "      <td>32999.0</td>\n",
       "      <td>redmi</td>\n",
       "      <td>6.740</td>\n",
       "      <td>5000.0</td>\n",
       "      <td>128.0</td>\n",
       "      <td>6.0</td>\n",
       "      <td>No</td>\n",
       "      <td>Yes</td>\n",
       "    </tr>\n",
       "    <tr>\n",
       "      <th>2</th>\n",
       "      <td>redmi a2+ || 3gb ram 64gb rom || 5000mah batte...</td>\n",
       "      <td>4.7</td>\n",
       "      <td>156.0</td>\n",
       "      <td>19499.0</td>\n",
       "      <td>redmi</td>\n",
       "      <td>6.520</td>\n",
       "      <td>5000.0</td>\n",
       "      <td>64.0</td>\n",
       "      <td>3.0</td>\n",
       "      <td>No</td>\n",
       "      <td>No</td>\n",
       "    </tr>\n",
       "    <tr>\n",
       "      <th>3</th>\n",
       "      <td>infinix note 30 ram 8gb+8gb &amp; 256gb storage 6....</td>\n",
       "      <td>4.5</td>\n",
       "      <td>82.0</td>\n",
       "      <td>40899.0</td>\n",
       "      <td>infinix</td>\n",
       "      <td>6.780</td>\n",
       "      <td>5000.0</td>\n",
       "      <td>256.0</td>\n",
       "      <td>8.0</td>\n",
       "      <td>No</td>\n",
       "      <td>Yes</td>\n",
       "    </tr>\n",
       "    <tr>\n",
       "      <th>4</th>\n",
       "      <td>tecno spark 10c  4gb ram -128gb rom 5000mah pt...</td>\n",
       "      <td>4.6</td>\n",
       "      <td>118.0</td>\n",
       "      <td>28449.0</td>\n",
       "      <td>tecno</td>\n",
       "      <td>6.600</td>\n",
       "      <td>5000.0</td>\n",
       "      <td>128.0</td>\n",
       "      <td>4.0</td>\n",
       "      <td>No</td>\n",
       "      <td>Yes</td>\n",
       "    </tr>\n",
       "    <tr>\n",
       "      <th>...</th>\n",
       "      <td>...</td>\n",
       "      <td>...</td>\n",
       "      <td>...</td>\n",
       "      <td>...</td>\n",
       "      <td>...</td>\n",
       "      <td>...</td>\n",
       "      <td>...</td>\n",
       "      <td>...</td>\n",
       "      <td>...</td>\n",
       "      <td>...</td>\n",
       "      <td>...</td>\n",
       "    </tr>\n",
       "    <tr>\n",
       "      <th>1490</th>\n",
       "      <td>redmi note 12 8gb ram -128gb rom pta approved ...</td>\n",
       "      <td>5.0</td>\n",
       "      <td>1.0</td>\n",
       "      <td>47999.0</td>\n",
       "      <td>redmi</td>\n",
       "      <td>6.725</td>\n",
       "      <td>5000.0</td>\n",
       "      <td>128.0</td>\n",
       "      <td>8.0</td>\n",
       "      <td>Yes</td>\n",
       "      <td>Yes</td>\n",
       "    </tr>\n",
       "    <tr>\n",
       "      <th>1491</th>\n",
       "      <td>tecno pova 5 pro 5g - 8+8gb ram 256gb rom 6.78...</td>\n",
       "      <td>5.0</td>\n",
       "      <td>1.0</td>\n",
       "      <td>59980.0</td>\n",
       "      <td>tecno</td>\n",
       "      <td>6.650</td>\n",
       "      <td>5000.0</td>\n",
       "      <td>256.0</td>\n",
       "      <td>8.0</td>\n",
       "      <td>Yes</td>\n",
       "      <td>No</td>\n",
       "    </tr>\n",
       "    <tr>\n",
       "      <th>1492</th>\n",
       "      <td>xiaomi poco c 65 ram 6 gb rom 128 gb front cam...</td>\n",
       "      <td>5.0</td>\n",
       "      <td>1.0</td>\n",
       "      <td>39999.0</td>\n",
       "      <td>xiaomi</td>\n",
       "      <td>6.790</td>\n",
       "      <td>5000.0</td>\n",
       "      <td>128.0</td>\n",
       "      <td>6.0</td>\n",
       "      <td>No</td>\n",
       "      <td>No</td>\n",
       "    </tr>\n",
       "    <tr>\n",
       "      <th>1493</th>\n",
       "      <td>tecno spark go 2024 , 4gb ram 64gb rom , back ...</td>\n",
       "      <td>5.0</td>\n",
       "      <td>1.0</td>\n",
       "      <td>26499.0</td>\n",
       "      <td>tecno</td>\n",
       "      <td>6.550</td>\n",
       "      <td>5000.0</td>\n",
       "      <td>64.0</td>\n",
       "      <td>4.0</td>\n",
       "      <td>No</td>\n",
       "      <td>No</td>\n",
       "    </tr>\n",
       "    <tr>\n",
       "      <th>1494</th>\n",
       "      <td>itel a27 4g || 2gb ram 32gb rom || 4000mah bat...</td>\n",
       "      <td>1.0</td>\n",
       "      <td>1.0</td>\n",
       "      <td>21999.0</td>\n",
       "      <td>itel</td>\n",
       "      <td>6.500</td>\n",
       "      <td>4000.0</td>\n",
       "      <td>32.0</td>\n",
       "      <td>2.0</td>\n",
       "      <td>No</td>\n",
       "      <td>No</td>\n",
       "    </tr>\n",
       "  </tbody>\n",
       "</table>\n",
       "<p>1495 rows × 11 columns</p>\n",
       "</div>"
      ],
      "text/plain": [
       "                                                   Name  Rating  \\\n",
       "0     redmi a2+ 3gb - 64gb 5000mah 10w fast charging...     4.7   \n",
       "1     redmi 13c  6gb ram-128gb rom  6.74\" dot drop d...     4.8   \n",
       "2     redmi a2+ || 3gb ram 64gb rom || 5000mah batte...     4.7   \n",
       "3     infinix note 30 ram 8gb+8gb & 256gb storage 6....     4.5   \n",
       "4     tecno spark 10c  4gb ram -128gb rom 5000mah pt...     4.6   \n",
       "...                                                 ...     ...   \n",
       "1490  redmi note 12 8gb ram -128gb rom pta approved ...     5.0   \n",
       "1491  tecno pova 5 pro 5g - 8+8gb ram 256gb rom 6.78...     5.0   \n",
       "1492  xiaomi poco c 65 ram 6 gb rom 128 gb front cam...     5.0   \n",
       "1493  tecno spark go 2024 , 4gb ram 64gb rom , back ...     5.0   \n",
       "1494  itel a27 4g || 2gb ram 32gb rom || 4000mah bat...     1.0   \n",
       "\n",
       "      Number of Ratings    Price    Brand  Screen_Size  Battery    ROM  RAM  \\\n",
       "0                 240.0  19299.0    redmi        6.520   5000.0   64.0  3.0   \n",
       "1                  13.0  32999.0    redmi        6.740   5000.0  128.0  6.0   \n",
       "2                 156.0  19499.0    redmi        6.520   5000.0   64.0  3.0   \n",
       "3                  82.0  40899.0  infinix        6.780   5000.0  256.0  8.0   \n",
       "4                 118.0  28449.0    tecno        6.600   5000.0  128.0  4.0   \n",
       "...                 ...      ...      ...          ...      ...    ...  ...   \n",
       "1490                1.0  47999.0    redmi        6.725   5000.0  128.0  8.0   \n",
       "1491                1.0  59980.0    tecno        6.650   5000.0  256.0  8.0   \n",
       "1492                1.0  39999.0   xiaomi        6.790   5000.0  128.0  6.0   \n",
       "1493                1.0  26499.0    tecno        6.550   5000.0   64.0  4.0   \n",
       "1494                1.0  21999.0     itel        6.500   4000.0   32.0  2.0   \n",
       "\n",
       "     Fast Charging Warrnaty  \n",
       "0              Yes       No  \n",
       "1               No      Yes  \n",
       "2               No       No  \n",
       "3               No      Yes  \n",
       "4               No      Yes  \n",
       "...            ...      ...  \n",
       "1490           Yes      Yes  \n",
       "1491           Yes       No  \n",
       "1492            No       No  \n",
       "1493            No       No  \n",
       "1494            No       No  \n",
       "\n",
       "[1495 rows x 11 columns]"
      ]
     },
     "execution_count": 17,
     "metadata": {},
     "output_type": "execute_result"
    }
   ],
   "source": [
    "from sklearn.impute import KNNImputer\n",
    "import pandas as pd\n",
    "\n",
    "# Assuming df is your original DataFrame\n",
    "feature = ['Rating', 'Number of Ratings', 'Price', 'Screen_Size', 'Battery', 'ROM', 'RAM']\n",
    "\n",
    "# Creating KNNImputer\n",
    "imputer = KNNImputer(n_neighbors=2)\n",
    "\n",
    "# Performing imputation and converting the result back to DataFrame\n",
    "df[feature] = imputer.fit_transform(df[feature])\n",
    "df = pd.DataFrame(df, columns=df.columns)  # Convert the NumPy array back to a DataFrame\n",
    "df"
   ]
  },
  {
   "cell_type": "markdown",
   "id": "8dfd7ab8",
   "metadata": {
    "papermill": {
     "duration": 0.020174,
     "end_time": "2024-02-09T18:47:05.279304",
     "exception": false,
     "start_time": "2024-02-09T18:47:05.259130",
     "status": "completed"
    },
    "tags": []
   },
   "source": [
    "### Outlier Detection and Removal\n",
    "<a id='out'></a>"
   ]
  },
  {
   "cell_type": "code",
   "execution_count": 18,
   "id": "626b4340",
   "metadata": {
    "execution": {
     "iopub.execute_input": "2024-02-09T18:47:05.324513Z",
     "iopub.status.busy": "2024-02-09T18:47:05.323821Z",
     "iopub.status.idle": "2024-02-09T18:47:05.931658Z",
     "shell.execute_reply": "2024-02-09T18:47:05.930491Z"
    },
    "papermill": {
     "duration": 0.633088,
     "end_time": "2024-02-09T18:47:05.934495",
     "exception": false,
     "start_time": "2024-02-09T18:47:05.301407",
     "status": "completed"
    },
    "tags": []
   },
   "outputs": [
    {
     "name": "stderr",
     "output_type": "stream",
     "text": [
      "/opt/conda/lib/python3.10/site-packages/sklearn/base.py:439: UserWarning:\n",
      "\n",
      "X does not have valid feature names, but IsolationForest was fitted with feature names\n",
      "\n"
     ]
    }
   ],
   "source": [
    "from sklearn.ensemble import IsolationForest\n",
    "IF = IsolationForest(contamination=0.1 , random_state=42)\n",
    "IF.fit(df[feature])\n",
    "df['anomaly_scores'] = IF.decision_function(df[feature])\n",
    "df['anomaly'] = IF.predict(df[feature])"
   ]
  },
  {
   "cell_type": "code",
   "execution_count": 19,
   "id": "88f90688",
   "metadata": {
    "execution": {
     "iopub.execute_input": "2024-02-09T18:47:05.978102Z",
     "iopub.status.busy": "2024-02-09T18:47:05.977699Z",
     "iopub.status.idle": "2024-02-09T18:47:05.987184Z",
     "shell.execute_reply": "2024-02-09T18:47:05.986408Z"
    },
    "papermill": {
     "duration": 0.033726,
     "end_time": "2024-02-09T18:47:05.989286",
     "exception": false,
     "start_time": "2024-02-09T18:47:05.955560",
     "status": "completed"
    },
    "tags": []
   },
   "outputs": [
    {
     "data": {
      "text/plain": [
       "anomaly\n",
       " 1    1346\n",
       "-1     149\n",
       "Name: count, dtype: int64"
      ]
     },
     "execution_count": 19,
     "metadata": {},
     "output_type": "execute_result"
    }
   ],
   "source": [
    "df['anomaly'].value_counts()"
   ]
  },
  {
   "cell_type": "code",
   "execution_count": 20,
   "id": "18cd0d95",
   "metadata": {
    "execution": {
     "iopub.execute_input": "2024-02-09T18:47:06.033057Z",
     "iopub.status.busy": "2024-02-09T18:47:06.032069Z",
     "iopub.status.idle": "2024-02-09T18:47:06.062586Z",
     "shell.execute_reply": "2024-02-09T18:47:06.061429Z"
    },
    "papermill": {
     "duration": 0.055164,
     "end_time": "2024-02-09T18:47:06.065266",
     "exception": false,
     "start_time": "2024-02-09T18:47:06.010102",
     "status": "completed"
    },
    "tags": []
   },
   "outputs": [
    {
     "data": {
      "text/html": [
       "<div>\n",
       "<style scoped>\n",
       "    .dataframe tbody tr th:only-of-type {\n",
       "        vertical-align: middle;\n",
       "    }\n",
       "\n",
       "    .dataframe tbody tr th {\n",
       "        vertical-align: top;\n",
       "    }\n",
       "\n",
       "    .dataframe thead th {\n",
       "        text-align: right;\n",
       "    }\n",
       "</style>\n",
       "<table border=\"1\" class=\"dataframe\">\n",
       "  <thead>\n",
       "    <tr style=\"text-align: right;\">\n",
       "      <th></th>\n",
       "      <th>Name</th>\n",
       "      <th>Rating</th>\n",
       "      <th>Number of Ratings</th>\n",
       "      <th>Price</th>\n",
       "      <th>Brand</th>\n",
       "      <th>Screen_Size</th>\n",
       "      <th>Battery</th>\n",
       "      <th>ROM</th>\n",
       "      <th>RAM</th>\n",
       "      <th>Fast Charging</th>\n",
       "      <th>Warrnaty</th>\n",
       "    </tr>\n",
       "  </thead>\n",
       "  <tbody>\n",
       "    <tr>\n",
       "      <th>0</th>\n",
       "      <td>redmi a2+ 3gb - 64gb 5000mah 10w fast charging...</td>\n",
       "      <td>4.7</td>\n",
       "      <td>240.0</td>\n",
       "      <td>19299.0</td>\n",
       "      <td>redmi</td>\n",
       "      <td>6.520</td>\n",
       "      <td>5000.0</td>\n",
       "      <td>64.0</td>\n",
       "      <td>3.0</td>\n",
       "      <td>Yes</td>\n",
       "      <td>No</td>\n",
       "    </tr>\n",
       "    <tr>\n",
       "      <th>1</th>\n",
       "      <td>redmi 13c  6gb ram-128gb rom  6.74\" dot drop d...</td>\n",
       "      <td>4.8</td>\n",
       "      <td>13.0</td>\n",
       "      <td>32999.0</td>\n",
       "      <td>redmi</td>\n",
       "      <td>6.740</td>\n",
       "      <td>5000.0</td>\n",
       "      <td>128.0</td>\n",
       "      <td>6.0</td>\n",
       "      <td>No</td>\n",
       "      <td>Yes</td>\n",
       "    </tr>\n",
       "    <tr>\n",
       "      <th>2</th>\n",
       "      <td>redmi a2+ || 3gb ram 64gb rom || 5000mah batte...</td>\n",
       "      <td>4.7</td>\n",
       "      <td>156.0</td>\n",
       "      <td>19499.0</td>\n",
       "      <td>redmi</td>\n",
       "      <td>6.520</td>\n",
       "      <td>5000.0</td>\n",
       "      <td>64.0</td>\n",
       "      <td>3.0</td>\n",
       "      <td>No</td>\n",
       "      <td>No</td>\n",
       "    </tr>\n",
       "    <tr>\n",
       "      <th>3</th>\n",
       "      <td>infinix note 30 ram 8gb+8gb &amp; 256gb storage 6....</td>\n",
       "      <td>4.5</td>\n",
       "      <td>82.0</td>\n",
       "      <td>40899.0</td>\n",
       "      <td>infinix</td>\n",
       "      <td>6.780</td>\n",
       "      <td>5000.0</td>\n",
       "      <td>256.0</td>\n",
       "      <td>8.0</td>\n",
       "      <td>No</td>\n",
       "      <td>Yes</td>\n",
       "    </tr>\n",
       "    <tr>\n",
       "      <th>4</th>\n",
       "      <td>tecno spark 10c  4gb ram -128gb rom 5000mah pt...</td>\n",
       "      <td>4.6</td>\n",
       "      <td>118.0</td>\n",
       "      <td>28449.0</td>\n",
       "      <td>tecno</td>\n",
       "      <td>6.600</td>\n",
       "      <td>5000.0</td>\n",
       "      <td>128.0</td>\n",
       "      <td>4.0</td>\n",
       "      <td>No</td>\n",
       "      <td>Yes</td>\n",
       "    </tr>\n",
       "    <tr>\n",
       "      <th>...</th>\n",
       "      <td>...</td>\n",
       "      <td>...</td>\n",
       "      <td>...</td>\n",
       "      <td>...</td>\n",
       "      <td>...</td>\n",
       "      <td>...</td>\n",
       "      <td>...</td>\n",
       "      <td>...</td>\n",
       "      <td>...</td>\n",
       "      <td>...</td>\n",
       "      <td>...</td>\n",
       "    </tr>\n",
       "    <tr>\n",
       "      <th>1489</th>\n",
       "      <td>samsung galaxy a13 || 4gb ram 128gb rom || 6.6...</td>\n",
       "      <td>5.0</td>\n",
       "      <td>1.0</td>\n",
       "      <td>59999.0</td>\n",
       "      <td>samsung</td>\n",
       "      <td>6.650</td>\n",
       "      <td>5000.0</td>\n",
       "      <td>128.0</td>\n",
       "      <td>4.0</td>\n",
       "      <td>Yes</td>\n",
       "      <td>No</td>\n",
       "    </tr>\n",
       "    <tr>\n",
       "      <th>1490</th>\n",
       "      <td>redmi note 12 8gb ram -128gb rom pta approved ...</td>\n",
       "      <td>5.0</td>\n",
       "      <td>1.0</td>\n",
       "      <td>47999.0</td>\n",
       "      <td>redmi</td>\n",
       "      <td>6.725</td>\n",
       "      <td>5000.0</td>\n",
       "      <td>128.0</td>\n",
       "      <td>8.0</td>\n",
       "      <td>Yes</td>\n",
       "      <td>Yes</td>\n",
       "    </tr>\n",
       "    <tr>\n",
       "      <th>1491</th>\n",
       "      <td>tecno pova 5 pro 5g - 8+8gb ram 256gb rom 6.78...</td>\n",
       "      <td>5.0</td>\n",
       "      <td>1.0</td>\n",
       "      <td>59980.0</td>\n",
       "      <td>tecno</td>\n",
       "      <td>6.650</td>\n",
       "      <td>5000.0</td>\n",
       "      <td>256.0</td>\n",
       "      <td>8.0</td>\n",
       "      <td>Yes</td>\n",
       "      <td>No</td>\n",
       "    </tr>\n",
       "    <tr>\n",
       "      <th>1492</th>\n",
       "      <td>xiaomi poco c 65 ram 6 gb rom 128 gb front cam...</td>\n",
       "      <td>5.0</td>\n",
       "      <td>1.0</td>\n",
       "      <td>39999.0</td>\n",
       "      <td>xiaomi</td>\n",
       "      <td>6.790</td>\n",
       "      <td>5000.0</td>\n",
       "      <td>128.0</td>\n",
       "      <td>6.0</td>\n",
       "      <td>No</td>\n",
       "      <td>No</td>\n",
       "    </tr>\n",
       "    <tr>\n",
       "      <th>1493</th>\n",
       "      <td>tecno spark go 2024 , 4gb ram 64gb rom , back ...</td>\n",
       "      <td>5.0</td>\n",
       "      <td>1.0</td>\n",
       "      <td>26499.0</td>\n",
       "      <td>tecno</td>\n",
       "      <td>6.550</td>\n",
       "      <td>5000.0</td>\n",
       "      <td>64.0</td>\n",
       "      <td>4.0</td>\n",
       "      <td>No</td>\n",
       "      <td>No</td>\n",
       "    </tr>\n",
       "  </tbody>\n",
       "</table>\n",
       "<p>1346 rows × 11 columns</p>\n",
       "</div>"
      ],
      "text/plain": [
       "                                                   Name  Rating  \\\n",
       "0     redmi a2+ 3gb - 64gb 5000mah 10w fast charging...     4.7   \n",
       "1     redmi 13c  6gb ram-128gb rom  6.74\" dot drop d...     4.8   \n",
       "2     redmi a2+ || 3gb ram 64gb rom || 5000mah batte...     4.7   \n",
       "3     infinix note 30 ram 8gb+8gb & 256gb storage 6....     4.5   \n",
       "4     tecno spark 10c  4gb ram -128gb rom 5000mah pt...     4.6   \n",
       "...                                                 ...     ...   \n",
       "1489  samsung galaxy a13 || 4gb ram 128gb rom || 6.6...     5.0   \n",
       "1490  redmi note 12 8gb ram -128gb rom pta approved ...     5.0   \n",
       "1491  tecno pova 5 pro 5g - 8+8gb ram 256gb rom 6.78...     5.0   \n",
       "1492  xiaomi poco c 65 ram 6 gb rom 128 gb front cam...     5.0   \n",
       "1493  tecno spark go 2024 , 4gb ram 64gb rom , back ...     5.0   \n",
       "\n",
       "      Number of Ratings    Price    Brand  Screen_Size  Battery    ROM  RAM  \\\n",
       "0                 240.0  19299.0    redmi        6.520   5000.0   64.0  3.0   \n",
       "1                  13.0  32999.0    redmi        6.740   5000.0  128.0  6.0   \n",
       "2                 156.0  19499.0    redmi        6.520   5000.0   64.0  3.0   \n",
       "3                  82.0  40899.0  infinix        6.780   5000.0  256.0  8.0   \n",
       "4                 118.0  28449.0    tecno        6.600   5000.0  128.0  4.0   \n",
       "...                 ...      ...      ...          ...      ...    ...  ...   \n",
       "1489                1.0  59999.0  samsung        6.650   5000.0  128.0  4.0   \n",
       "1490                1.0  47999.0    redmi        6.725   5000.0  128.0  8.0   \n",
       "1491                1.0  59980.0    tecno        6.650   5000.0  256.0  8.0   \n",
       "1492                1.0  39999.0   xiaomi        6.790   5000.0  128.0  6.0   \n",
       "1493                1.0  26499.0    tecno        6.550   5000.0   64.0  4.0   \n",
       "\n",
       "     Fast Charging Warrnaty  \n",
       "0              Yes       No  \n",
       "1               No      Yes  \n",
       "2               No       No  \n",
       "3               No      Yes  \n",
       "4               No      Yes  \n",
       "...            ...      ...  \n",
       "1489           Yes       No  \n",
       "1490           Yes      Yes  \n",
       "1491           Yes       No  \n",
       "1492            No       No  \n",
       "1493            No       No  \n",
       "\n",
       "[1346 rows x 11 columns]"
      ]
     },
     "execution_count": 20,
     "metadata": {},
     "output_type": "execute_result"
    }
   ],
   "source": [
    "df.drop(df.loc[df['anomaly']==-1].index, inplace=True)\n",
    "df.reset_index()\n",
    "df.drop(['anomaly' , 'anomaly_scores' ], axis = 1 , inplace= True)\n",
    "df"
   ]
  },
  {
   "cell_type": "markdown",
   "id": "5625a99f",
   "metadata": {
    "papermill": {
     "duration": 0.021156,
     "end_time": "2024-02-09T18:47:06.108053",
     "exception": false,
     "start_time": "2024-02-09T18:47:06.086897",
     "status": "completed"
    },
    "tags": []
   },
   "source": [
    "## Preprocessing\n",
    "<a id='pre'></a>"
   ]
  },
  {
   "cell_type": "markdown",
   "id": "741fcf5c",
   "metadata": {
    "papermill": {
     "duration": 0.020927,
     "end_time": "2024-02-09T18:47:06.150328",
     "exception": false,
     "start_time": "2024-02-09T18:47:06.129401",
     "status": "completed"
    },
    "tags": []
   },
   "source": [
    "### Normalization\n",
    "<a id='norm'></a>"
   ]
  },
  {
   "cell_type": "code",
   "execution_count": 21,
   "id": "476bfb86",
   "metadata": {
    "execution": {
     "iopub.execute_input": "2024-02-09T18:47:06.195244Z",
     "iopub.status.busy": "2024-02-09T18:47:06.194069Z",
     "iopub.status.idle": "2024-02-09T18:47:06.203980Z",
     "shell.execute_reply": "2024-02-09T18:47:06.203243Z"
    },
    "papermill": {
     "duration": 0.034485,
     "end_time": "2024-02-09T18:47:06.206025",
     "exception": false,
     "start_time": "2024-02-09T18:47:06.171540",
     "status": "completed"
    },
    "tags": []
   },
   "outputs": [
    {
     "data": {
      "text/plain": [
       "Rating               -3.303556\n",
       "Number of Ratings     3.235660\n",
       "Price                 2.068909\n",
       "Screen_Size          36.682174\n",
       "Battery              -1.895770\n",
       "ROM                   0.627967\n",
       "RAM                  20.660751\n",
       "dtype: float64"
      ]
     },
     "execution_count": 21,
     "metadata": {},
     "output_type": "execute_result"
    }
   ],
   "source": [
    "df[feature].skew()"
   ]
  },
  {
   "cell_type": "code",
   "execution_count": 22,
   "id": "0f64278e",
   "metadata": {
    "execution": {
     "iopub.execute_input": "2024-02-09T18:47:06.251888Z",
     "iopub.status.busy": "2024-02-09T18:47:06.250828Z",
     "iopub.status.idle": "2024-02-09T18:47:06.271392Z",
     "shell.execute_reply": "2024-02-09T18:47:06.270563Z"
    },
    "papermill": {
     "duration": 0.046211,
     "end_time": "2024-02-09T18:47:06.273770",
     "exception": false,
     "start_time": "2024-02-09T18:47:06.227559",
     "status": "completed"
    },
    "tags": []
   },
   "outputs": [],
   "source": [
    "for i in df.columns:\n",
    "    if df[i].dtype != object  and i != 'Price':\n",
    "        if df[i].skew() > 0.5: \n",
    "            df[i] = df[i].apply(lambda x: np.log(x))"
   ]
  },
  {
   "cell_type": "code",
   "execution_count": 23,
   "id": "fcf619b3",
   "metadata": {
    "execution": {
     "iopub.execute_input": "2024-02-09T18:47:06.320772Z",
     "iopub.status.busy": "2024-02-09T18:47:06.320144Z",
     "iopub.status.idle": "2024-02-09T18:47:06.330683Z",
     "shell.execute_reply": "2024-02-09T18:47:06.329894Z"
    },
    "papermill": {
     "duration": 0.03545,
     "end_time": "2024-02-09T18:47:06.332725",
     "exception": false,
     "start_time": "2024-02-09T18:47:06.297275",
     "status": "completed"
    },
    "tags": []
   },
   "outputs": [
    {
     "data": {
      "text/plain": [
       "Rating               -3.303556\n",
       "Number of Ratings     0.566990\n",
       "Price                 2.068909\n",
       "Screen_Size          33.268964\n",
       "Battery              -1.895770\n",
       "ROM                  -1.683949\n",
       "RAM                  -0.162800\n",
       "dtype: float64"
      ]
     },
     "execution_count": 23,
     "metadata": {},
     "output_type": "execute_result"
    }
   ],
   "source": [
    "df[feature].skew()"
   ]
  },
  {
   "cell_type": "code",
   "execution_count": 24,
   "id": "dbc14637",
   "metadata": {
    "execution": {
     "iopub.execute_input": "2024-02-09T18:47:06.379055Z",
     "iopub.status.busy": "2024-02-09T18:47:06.378343Z",
     "iopub.status.idle": "2024-02-09T18:47:06.409195Z",
     "shell.execute_reply": "2024-02-09T18:47:06.407517Z"
    },
    "papermill": {
     "duration": 0.057067,
     "end_time": "2024-02-09T18:47:06.411887",
     "exception": false,
     "start_time": "2024-02-09T18:47:06.354820",
     "status": "completed"
    },
    "tags": []
   },
   "outputs": [
    {
     "data": {
      "text/html": [
       "<div>\n",
       "<style scoped>\n",
       "    .dataframe tbody tr th:only-of-type {\n",
       "        vertical-align: middle;\n",
       "    }\n",
       "\n",
       "    .dataframe tbody tr th {\n",
       "        vertical-align: top;\n",
       "    }\n",
       "\n",
       "    .dataframe thead th {\n",
       "        text-align: right;\n",
       "    }\n",
       "</style>\n",
       "<table border=\"1\" class=\"dataframe\">\n",
       "  <thead>\n",
       "    <tr style=\"text-align: right;\">\n",
       "      <th></th>\n",
       "      <th>Rating</th>\n",
       "      <th>Number of Ratings</th>\n",
       "      <th>Price</th>\n",
       "      <th>Screen_Size</th>\n",
       "      <th>Battery</th>\n",
       "      <th>ROM</th>\n",
       "      <th>RAM</th>\n",
       "    </tr>\n",
       "  </thead>\n",
       "  <tbody>\n",
       "    <tr>\n",
       "      <th>count</th>\n",
       "      <td>1346.000000</td>\n",
       "      <td>1346.000000</td>\n",
       "      <td>1346.000000</td>\n",
       "      <td>1346.000000</td>\n",
       "      <td>1346.000000</td>\n",
       "      <td>1346.000000</td>\n",
       "      <td>1346.000000</td>\n",
       "    </tr>\n",
       "    <tr>\n",
       "      <th>mean</th>\n",
       "      <td>4.635067</td>\n",
       "      <td>1.803248</td>\n",
       "      <td>39686.212481</td>\n",
       "      <td>1.885853</td>\n",
       "      <td>4935.705795</td>\n",
       "      <td>4.549200</td>\n",
       "      <td>1.602834</td>\n",
       "    </tr>\n",
       "    <tr>\n",
       "      <th>std</th>\n",
       "      <td>0.624782</td>\n",
       "      <td>1.552728</td>\n",
       "      <td>22219.077654</td>\n",
       "      <td>0.133141</td>\n",
       "      <td>401.626090</td>\n",
       "      <td>0.864147</td>\n",
       "      <td>0.465810</td>\n",
       "    </tr>\n",
       "    <tr>\n",
       "      <th>min</th>\n",
       "      <td>1.000000</td>\n",
       "      <td>0.000000</td>\n",
       "      <td>2525.000000</td>\n",
       "      <td>1.695616</td>\n",
       "      <td>2400.000000</td>\n",
       "      <td>0.000000</td>\n",
       "      <td>0.000000</td>\n",
       "    </tr>\n",
       "    <tr>\n",
       "      <th>25%</th>\n",
       "      <td>4.500000</td>\n",
       "      <td>0.693147</td>\n",
       "      <td>25999.000000</td>\n",
       "      <td>1.874874</td>\n",
       "      <td>5000.000000</td>\n",
       "      <td>4.158883</td>\n",
       "      <td>1.386294</td>\n",
       "    </tr>\n",
       "    <tr>\n",
       "      <th>50%</th>\n",
       "      <td>4.800000</td>\n",
       "      <td>1.609438</td>\n",
       "      <td>34999.000000</td>\n",
       "      <td>1.887070</td>\n",
       "      <td>5000.000000</td>\n",
       "      <td>4.852030</td>\n",
       "      <td>1.386294</td>\n",
       "    </tr>\n",
       "    <tr>\n",
       "      <th>75%</th>\n",
       "      <td>5.000000</td>\n",
       "      <td>2.890372</td>\n",
       "      <td>46299.000000</td>\n",
       "      <td>1.897620</td>\n",
       "      <td>5000.000000</td>\n",
       "      <td>4.852030</td>\n",
       "      <td>2.079442</td>\n",
       "    </tr>\n",
       "    <tr>\n",
       "      <th>max</th>\n",
       "      <td>5.000000</td>\n",
       "      <td>5.620401</td>\n",
       "      <td>185750.000000</td>\n",
       "      <td>6.613384</td>\n",
       "      <td>8000.000000</td>\n",
       "      <td>5.545177</td>\n",
       "      <td>4.852030</td>\n",
       "    </tr>\n",
       "  </tbody>\n",
       "</table>\n",
       "</div>"
      ],
      "text/plain": [
       "            Rating  Number of Ratings          Price  Screen_Size  \\\n",
       "count  1346.000000        1346.000000    1346.000000  1346.000000   \n",
       "mean      4.635067           1.803248   39686.212481     1.885853   \n",
       "std       0.624782           1.552728   22219.077654     0.133141   \n",
       "min       1.000000           0.000000    2525.000000     1.695616   \n",
       "25%       4.500000           0.693147   25999.000000     1.874874   \n",
       "50%       4.800000           1.609438   34999.000000     1.887070   \n",
       "75%       5.000000           2.890372   46299.000000     1.897620   \n",
       "max       5.000000           5.620401  185750.000000     6.613384   \n",
       "\n",
       "           Battery          ROM          RAM  \n",
       "count  1346.000000  1346.000000  1346.000000  \n",
       "mean   4935.705795     4.549200     1.602834  \n",
       "std     401.626090     0.864147     0.465810  \n",
       "min    2400.000000     0.000000     0.000000  \n",
       "25%    5000.000000     4.158883     1.386294  \n",
       "50%    5000.000000     4.852030     1.386294  \n",
       "75%    5000.000000     4.852030     2.079442  \n",
       "max    8000.000000     5.545177     4.852030  "
      ]
     },
     "execution_count": 24,
     "metadata": {},
     "output_type": "execute_result"
    }
   ],
   "source": [
    "df.describe()"
   ]
  },
  {
   "cell_type": "markdown",
   "id": "6c91e5f0",
   "metadata": {
    "papermill": {
     "duration": 0.021926,
     "end_time": "2024-02-09T18:47:06.456171",
     "exception": false,
     "start_time": "2024-02-09T18:47:06.434245",
     "status": "completed"
    },
    "tags": []
   },
   "source": [
    "### Label Encoding\n",
    "<a id='le'></a>"
   ]
  },
  {
   "cell_type": "code",
   "execution_count": 25,
   "id": "2311c02a",
   "metadata": {
    "execution": {
     "iopub.execute_input": "2024-02-09T18:47:06.502651Z",
     "iopub.status.busy": "2024-02-09T18:47:06.501973Z",
     "iopub.status.idle": "2024-02-09T18:47:06.510722Z",
     "shell.execute_reply": "2024-02-09T18:47:06.509735Z"
    },
    "papermill": {
     "duration": 0.034646,
     "end_time": "2024-02-09T18:47:06.512995",
     "exception": false,
     "start_time": "2024-02-09T18:47:06.478349",
     "status": "completed"
    },
    "tags": []
   },
   "outputs": [],
   "source": [
    "from sklearn.preprocessing import LabelEncoder\n",
    "le = LabelEncoder()\n",
    "for i in ['Brand','Fast Charging','Warrnaty']:\n",
    "    df[i] = le.fit_transform(df[i])\n",
    "\n",
    "df.drop('Name' , axis= 1 , inplace=True)\n"
   ]
  },
  {
   "cell_type": "markdown",
   "id": "5bd4624b",
   "metadata": {
    "papermill": {
     "duration": 0.022031,
     "end_time": "2024-02-09T18:47:06.557385",
     "exception": false,
     "start_time": "2024-02-09T18:47:06.535354",
     "status": "completed"
    },
    "tags": []
   },
   "source": [
    "### Feature Selection\n",
    "<a id='fs'></a>"
   ]
  },
  {
   "cell_type": "code",
   "execution_count": 26,
   "id": "2bedd953",
   "metadata": {
    "execution": {
     "iopub.execute_input": "2024-02-09T18:47:06.604075Z",
     "iopub.status.busy": "2024-02-09T18:47:06.603475Z",
     "iopub.status.idle": "2024-02-09T18:47:06.616407Z",
     "shell.execute_reply": "2024-02-09T18:47:06.615581Z"
    },
    "papermill": {
     "duration": 0.038809,
     "end_time": "2024-02-09T18:47:06.618524",
     "exception": false,
     "start_time": "2024-02-09T18:47:06.579715",
     "status": "completed"
    },
    "tags": []
   },
   "outputs": [
    {
     "data": {
      "text/html": [
       "<div>\n",
       "<style scoped>\n",
       "    .dataframe tbody tr th:only-of-type {\n",
       "        vertical-align: middle;\n",
       "    }\n",
       "\n",
       "    .dataframe tbody tr th {\n",
       "        vertical-align: top;\n",
       "    }\n",
       "\n",
       "    .dataframe thead th {\n",
       "        text-align: right;\n",
       "    }\n",
       "</style>\n",
       "<table border=\"1\" class=\"dataframe\">\n",
       "  <thead>\n",
       "    <tr style=\"text-align: right;\">\n",
       "      <th></th>\n",
       "      <th>Feature</th>\n",
       "      <th>Correlation with Target</th>\n",
       "    </tr>\n",
       "  </thead>\n",
       "  <tbody>\n",
       "    <tr>\n",
       "      <th>0</th>\n",
       "      <td>Price</td>\n",
       "      <td>1.000000</td>\n",
       "    </tr>\n",
       "    <tr>\n",
       "      <th>1</th>\n",
       "      <td>RAM</td>\n",
       "      <td>0.573512</td>\n",
       "    </tr>\n",
       "    <tr>\n",
       "      <th>2</th>\n",
       "      <td>ROM</td>\n",
       "      <td>0.386496</td>\n",
       "    </tr>\n",
       "    <tr>\n",
       "      <th>3</th>\n",
       "      <td>Battery</td>\n",
       "      <td>0.206720</td>\n",
       "    </tr>\n",
       "    <tr>\n",
       "      <th>4</th>\n",
       "      <td>Brand</td>\n",
       "      <td>0.125632</td>\n",
       "    </tr>\n",
       "    <tr>\n",
       "      <th>5</th>\n",
       "      <td>Fast Charging</td>\n",
       "      <td>0.092350</td>\n",
       "    </tr>\n",
       "    <tr>\n",
       "      <th>6</th>\n",
       "      <td>Warrnaty</td>\n",
       "      <td>0.036969</td>\n",
       "    </tr>\n",
       "    <tr>\n",
       "      <th>7</th>\n",
       "      <td>Screen_Size</td>\n",
       "      <td>0.023838</td>\n",
       "    </tr>\n",
       "    <tr>\n",
       "      <th>8</th>\n",
       "      <td>Rating</td>\n",
       "      <td>0.013654</td>\n",
       "    </tr>\n",
       "    <tr>\n",
       "      <th>9</th>\n",
       "      <td>Number of Ratings</td>\n",
       "      <td>0.004281</td>\n",
       "    </tr>\n",
       "  </tbody>\n",
       "</table>\n",
       "</div>"
      ],
      "text/plain": [
       "             Feature  Correlation with Target\n",
       "0              Price                 1.000000\n",
       "1                RAM                 0.573512\n",
       "2                ROM                 0.386496\n",
       "3            Battery                 0.206720\n",
       "4              Brand                 0.125632\n",
       "5      Fast Charging                 0.092350\n",
       "6           Warrnaty                 0.036969\n",
       "7        Screen_Size                 0.023838\n",
       "8             Rating                 0.013654\n",
       "9  Number of Ratings                 0.004281"
      ]
     },
     "execution_count": 26,
     "metadata": {},
     "output_type": "execute_result"
    }
   ],
   "source": [
    "correlation_matrix = df.corr()\n",
    "\n",
    "correlations_with_Status = correlation_matrix['Price']\n",
    "sorted_features = correlations_with_Status.abs().sort_values(ascending=False)\n",
    "correlation_df = pd.DataFrame({\n",
    "    'Feature': sorted_features.index,\n",
    "    'Correlation with Target': sorted_features.values\n",
    "})\n",
    "\n",
    "correlation_df"
   ]
  },
  {
   "cell_type": "code",
   "execution_count": 27,
   "id": "ab8dbfb0",
   "metadata": {
    "execution": {
     "iopub.execute_input": "2024-02-09T18:47:06.665649Z",
     "iopub.status.busy": "2024-02-09T18:47:06.665246Z",
     "iopub.status.idle": "2024-02-09T18:47:06.670277Z",
     "shell.execute_reply": "2024-02-09T18:47:06.669291Z"
    },
    "papermill": {
     "duration": 0.031276,
     "end_time": "2024-02-09T18:47:06.672521",
     "exception": false,
     "start_time": "2024-02-09T18:47:06.641245",
     "status": "completed"
    },
    "tags": []
   },
   "outputs": [],
   "source": [
    "y = df.pop('Price')"
   ]
  },
  {
   "cell_type": "code",
   "execution_count": 28,
   "id": "96443cdc",
   "metadata": {
    "execution": {
     "iopub.execute_input": "2024-02-09T18:47:06.720332Z",
     "iopub.status.busy": "2024-02-09T18:47:06.719582Z",
     "iopub.status.idle": "2024-02-09T18:47:08.135395Z",
     "shell.execute_reply": "2024-02-09T18:47:08.134412Z"
    },
    "papermill": {
     "duration": 1.442633,
     "end_time": "2024-02-09T18:47:08.137956",
     "exception": false,
     "start_time": "2024-02-09T18:47:06.695323",
     "status": "completed"
    },
    "tags": []
   },
   "outputs": [
    {
     "data": {
      "text/html": [
       "<div>                            <div id=\"d7c37929-472a-4d2a-a7bd-a5dd42de6787\" class=\"plotly-graph-div\" style=\"height:525px; width:100%;\"></div>            <script type=\"text/javascript\">                require([\"plotly\"], function(Plotly) {                    window.PLOTLYENV=window.PLOTLYENV || {};                                    if (document.getElementById(\"d7c37929-472a-4d2a-a7bd-a5dd42de6787\")) {                    Plotly.newPlot(                        \"d7c37929-472a-4d2a-a7bd-a5dd42de6787\",                        [{\"alignmentgroup\":\"True\",\"bingroup\":\"x\",\"hovertemplate\":\"variable=Price\\u003cbr\\u003evalue=%{x}\\u003cbr\\u003ecount=%{y}\\u003cextra\\u003e\\u003c\\u002fextra\\u003e\",\"legendgroup\":\"Price\",\"marker\":{\"color\":\"#636efa\",\"pattern\":{\"shape\":\"\"}},\"name\":\"Price\",\"offsetgroup\":\"Price\",\"orientation\":\"v\",\"showlegend\":true,\"x\":[19299.0,32999.0,19499.0,40899.0,28449.0,40988.0,71799.0,38349.0,41999.0,26999.0,46799.0,127499.0,51999.0,30530.0,33999.0,37999.0,34999.0,46499.0,69999.0,21950.0,19749.0,52499.0,49999.0,37999.0,27799.0,22999.0,26599.0,88780.0,47499.0,35999.0,49299.0,19999.0,34999.0,19299.0,32999.0,19499.0,40899.0,28449.0,40988.0,71799.0,38349.0,41999.0,26999.0,46799.0,127499.0,51999.0,30530.0,33999.0,37999.0,34999.0,46499.0,69999.0,21950.0,19749.0,52499.0,49999.0,37999.0,27799.0,22999.0,26599.0,88780.0,47499.0,35999.0,49299.0,19999.0,34999.0,19299.0,32999.0,19499.0,40899.0,28449.0,40988.0,71799.0,38349.0,41999.0,26999.0,46799.0,127499.0,51999.0,30530.0,33999.0,37999.0,34999.0,46499.0,69999.0,21950.0,19749.0,52499.0,49999.0,37999.0,27799.0,22999.0,26599.0,88780.0,47499.0,35999.0,49299.0,19999.0,34999.0,19299.0,32999.0,19499.0,40899.0,28449.0,40988.0,71799.0,38349.0,41999.0,26999.0,46799.0,127499.0,51999.0,30530.0,33999.0,37999.0,34999.0,46499.0,69999.0,21950.0,19749.0,52499.0,49999.0,37999.0,27799.0,22999.0,26599.0,88780.0,47499.0,35999.0,49299.0,19999.0,34999.0,19299.0,32999.0,19499.0,40899.0,28449.0,40988.0,71799.0,38349.0,41999.0,26999.0,46799.0,127499.0,51999.0,30530.0,33999.0,37999.0,34999.0,46499.0,69999.0,21950.0,19749.0,52499.0,49999.0,37999.0,27799.0,22999.0,26599.0,88780.0,47499.0,35999.0,49299.0,19999.0,34999.0,19299.0,32999.0,19499.0,40899.0,28449.0,40988.0,71799.0,38349.0,41999.0,26999.0,46799.0,127499.0,51999.0,30530.0,33999.0,37999.0,34999.0,46499.0,69999.0,21950.0,19749.0,52499.0,49999.0,37999.0,27799.0,22999.0,26599.0,88780.0,47499.0,35999.0,49299.0,19999.0,34999.0,34999.0,26399.0,40999.0,22999.0,39999.0,29950.0,38499.0,19799.0,33799.0,22999.0,27950.0,23999.0,17950.0,33999.0,19988.0,36980.0,27699.0,24799.0,34398.0,66999.0,41999.0,41480.0,35499.0,26320.0,27699.0,32599.0,36999.0,49499.0,26999.0,39999.0,30999.0,34999.0,46999.0,24999.0,35480.0,42970.0,9100.0,134999.0,39999.0,22799.0,2525.0,26500.0,40678.0,39999.0,16999.0,46299.0,34799.0,20499.0,29999.0,42999.0,30950.0,29999.0,19999.0,34399.0,13499.0,34499.0,40000.0,42980.0,22999.0,29999.0,46499.0,40980.0,42299.0,46399.0,25999.0,58660.0,38950.0,21399.0,39880.0,40999.0,46499.0,40444.0,9699.0,61999.0,22499.0,29980.0,29999.0,2850.0,29999.0,100000.0,23999.0,28999.0,30980.0,31999.0,12999.0,20499.0,42999.0,41699.0,25999.0,31500.0,22999.0,39999.0,51999.0,39999.0,19999.0,22999.0,43990.0,29990.0,30299.0,25999.0,50999.0,29999.0,25999.0,42999.0,29999.0,31999.0,25999.0,21980.0,9499.0,43799.0,34499.0,24444.0,30000.0,114999.0,26499.0,35679.0,26999.0,46999.0,26290.0,48999.0,19999.0,56000.0,20850.0,29350.0,29999.0,71999.0,25499.0,34989.0,40980.0,34880.0,26399.0,59499.0,39999.0,36490.0,17999.0,6000.0,28999.0,19299.0,32999.0,19499.0,40899.0,28449.0,40988.0,71799.0,38349.0,41999.0,26999.0,46799.0,127499.0,51999.0,30530.0,33999.0,37999.0,34999.0,46499.0,69999.0,21950.0,19749.0,52499.0,49999.0,37999.0,27799.0,22999.0,26599.0,88780.0,47499.0,35999.0,49299.0,19999.0,34999.0,39299.0,16799.0,25950.0,26999.0,33999.0,29980.0,44999.0,60999.0,36999.0,16999.0,39999.0,37799.0,54999.0,22999.0,41960.0,26499.0,96999.0,39999.0,71980.0,46999.0,56999.0,35499.0,62999.0,9999.0,135999.0,34500.0,17999.0,34999.0,43499.0,46950.0,19999.0,134999.0,34790.0,26499.0,29999.0,31499.0,19999.0,33999.0,30999.0,21999.0,19999.0,35888.0,35999.0,40999.0,31999.0,35999.0,62500.0,22992.0,95999.0,81999.0,29999.0,49999.0,88999.0,22499.0,35999.0,23999.0,24999.0,19999.0,41999.0,41999.0,11499.0,69999.0,44999.0,21299.0,30999.0,40999.0,37499.0,20699.0,25499.0,19999.0,19999.0,25999.0,38499.0,36999.0,106999.0,39999.0,23999.0,28799.0,32999.0,51480.0,10699.0,35899.0,57999.0,39999.0,74999.0,41999.0,32950.0,90000.0,24499.0,35999.0,36999.0,44999.0,61499.0,44999.0,21299.0,18999.0,29999.0,61500.0,29999.0,23999.0,30999.0,82000.0,24199.0,24499.0,23999.0,30699.0,26999.0,94999.0,69500.0,36980.0,59499.0,16999.0,23999.0,21499.0,35999.0,35499.0,30499.0,71999.0,71999.0,89699.0,41499.0,20199.0,49990.0,109999.0,68299.0,62999.0,19999.0,16499.0,45699.0,97999.0,41499.0,17999.0,46999.0,34799.0,27999.0,126999.0,42690.0,71999.0,35499.0,41499.0,41499.0,45990.0,24999.0,25199.0,30999.0,29999.0,35999.0,76999.0,34856.0,49999.0,44980.0,29699.0,62990.0,47499.0,57999.0,17499.0,45999.0,39880.0,31599.0,59999.0,41999.0,33499.0,26499.0,45000.0,28499.0,28390.0,73999.0,16999.0,27500.0,34000.0,42499.0,49980.0,27950.0,15699.0,111999.0,29999.0,94000.0,50000.0,30980.0,54999.0,36999.0,32570.0,61999.0,111999.0,24499.0,43999.0,26499.0,24699.0,115499.0,24499.0,22999.0,74999.0,111999.0,28350.0,28499.0,50999.0,35999.0,19499.0,35999.0,58999.0,20999.0,51999.0,31999.0,39999.0,71980.0,33999.0,27999.0,41970.0,40990.0,55980.0,50499.0,22999.0,10299.0,31999.0,71999.0,39999.0,19699.0,44300.0,75000.0,42999.0,40999.0,31999.0,18999.0,71540.0,24999.0,25999.0,25999.0,97999.0,27999.0,71999.0,27499.0,24999.0,26499.0,38890.0,26999.0,4500.0,35199.0,34980.0,27280.0,24999.0,3900.0,35699.0,29999.0,58999.0,37999.0,20999.0,18999.0,27999.0,15399.0,36999.0,28499.0,29499.0,22990.0,48999.0,17999.0,31999.0,23499.0,17999.0,78000.0,41990.0,29499.0,39990.0,29999.0,19499.0,61480.0,6500.0,26999.0,42980.0,19999.0,29999.0,23999.0,3350.0,51980.0,17999.0,35999.0,50499.0,99999.0,40990.0,35480.0,27980.0,39999.0,29999.0,34980.0,16499.0,34999.0,23999.0,27980.0,44999.0,25999.0,24999.0,24999.0,4200.0,50999.0,16480.0,48500.0,24999.0,62999.0,20699.0,60000.0,44999.0,32999.0,41000.0,32590.0,66999.0,49999.0,96999.0,32999.0,37999.0,33480.0,39999.0,28297.0,59890.0,38000.0,29980.0,30990.0,19999.0,37000.0,99990.0,29999.0,28980.0,32099.0,36999.0,47390.0,41499.0,28500.0,34890.0,17499.0,22890.0,29999.0,94250.0,74999.0,26499.0,51400.0,26890.0,25299.0,64999.0,39299.0,16799.0,25950.0,26999.0,33999.0,29980.0,44999.0,60999.0,36999.0,16999.0,39999.0,37799.0,54999.0,22999.0,41960.0,26499.0,96999.0,39999.0,71980.0,46999.0,56999.0,35499.0,62999.0,9999.0,135999.0,34500.0,17999.0,34999.0,43499.0,46950.0,69999.0,44999.0,21299.0,30999.0,40999.0,37499.0,20699.0,25499.0,19999.0,19999.0,25999.0,38499.0,36999.0,106999.0,39999.0,23999.0,28799.0,32999.0,51480.0,10699.0,35899.0,57999.0,39999.0,74999.0,41999.0,32950.0,90000.0,24499.0,35999.0,26299.0,58999.0,16999.0,42999.0,30999.0,27299.0,43999.0,24699.0,42000.0,28500.0,28990.0,45000.0,20999.0,35470.0,28999.0,21499.0,27499.0,39999.0,47990.0,18000.0,31999.0,24999.0,25499.0,34999.0,34999.0,26399.0,40999.0,22999.0,39999.0,29950.0,38499.0,19799.0,33799.0,22999.0,27950.0,23999.0,17950.0,33999.0,19988.0,36980.0,27699.0,24799.0,34398.0,66999.0,41999.0,41480.0,35499.0,26320.0,27699.0,32599.0,36999.0,49499.0,26999.0,39999.0,30999.0,34999.0,46999.0,24999.0,35480.0,42970.0,111999.0,29999.0,94000.0,50000.0,30980.0,54999.0,36999.0,32570.0,61999.0,111999.0,24499.0,43999.0,26499.0,24699.0,115499.0,24499.0,22999.0,74999.0,111999.0,28350.0,28499.0,50999.0,35999.0,19499.0,35999.0,58999.0,24999.0,25999.0,25999.0,97999.0,27999.0,71999.0,27499.0,24999.0,26499.0,38890.0,26999.0,4500.0,35199.0,34980.0,27280.0,24999.0,3900.0,35699.0,29999.0,58999.0,36999.0,47390.0,41499.0,28500.0,34890.0,17499.0,22890.0,29999.0,94250.0,74999.0,26499.0,51400.0,26890.0,25299.0,64999.0,9100.0,134999.0,39999.0,22799.0,2525.0,26500.0,40678.0,39999.0,16999.0,46299.0,34799.0,20499.0,29999.0,42999.0,30950.0,29999.0,19999.0,34399.0,13499.0,34499.0,40000.0,42980.0,22999.0,29999.0,46499.0,40980.0,42299.0,46399.0,25999.0,58660.0,38950.0,21399.0,39880.0,40999.0,46499.0,36999.0,46499.0,21999.0,28880.0,34499.0,26499.0,133499.0,38000.0,56000.0,25499.0,89999.0,49999.0,48499.0,32999.0,141999.0,26499.0,43999.0,75999.0,19469.0,21120.0,16499.0,45000.0,15299.0,33999.0,21999.0,73450.0,51999.0,59990.0,22349.0,19999.0,35999.0,29999.0,47499.0,27999.0,18499.0,39999.0,74980.0,30500.0,30000.0,27999.0,42999.0,11299.0,29999.0,21980.0,88999.0,42499.0,36499.0,19999.0,24499.0,39999.0,37999.0,29990.0,59999.0,35899.0,29899.0,41999.0,15499.0,20480.0,35999.0,23499.0,44980.0,33999.0,39999.0,28999.0,43000.0,91999.0,22999.0,139999.0,28499.0,37999.0,47370.0,24749.0,64999.0,51499.0,20999.0,43499.0,25499.0,29999.0,18000.0,20999.0,51999.0,31999.0,39999.0,71980.0,33999.0,27999.0,41970.0,40990.0,55980.0,50499.0,22999.0,10299.0,31999.0,71999.0,39999.0,19699.0,44300.0,75000.0,42999.0,40999.0,31999.0,18999.0,71540.0,29999.0,22200.0,26999.0,16999.0,42999.0,71999.0,25999.0,5199.0,22199.0,62480.0,40970.0,17999.0,33500.0,39999.0,22399.0,22949.0,24999.0,29999.0,36950.0,19999.0,34999.0,23999.0,21499.0,81499.0,27999.0,28199.0,26390.0,22799.0,31499.0,54000.0,62480.0,24999.0,29999.0,39999.0,68499.0,138999.0,24799.0,46799.0,24999.0,23999.0,32999.0,32999.0,71299.0,45999.0,28999.0,37999.0,26499.0,64999.0,44444.0,24699.0,35999.0,25299.0,59999.0,59999.0,18470.0,59999.0,47999.0,59980.0,39999.0,26499.0,36999.0,27299.0,26999.0,22500.0,31000.0,23999.0,185750.0,39900.0,27999.0,25999.0,31700.0,37999.0,19999.0,23999.0,24500.0,50000.0,60000.0,60970.0,32999.0,32999.0,54499.0,50000.0,57499.0,78499.0,48999.0,21499.0,22999.0,139999.0,28499.0,37999.0,47370.0,24749.0,64999.0,51499.0,20999.0,43499.0,25499.0,29999.0,18000.0,19299.0,32999.0,19499.0,40899.0,28449.0,40988.0,71799.0,38349.0,41999.0,46799.0,127499.0,51999.0,30530.0,33999.0,37999.0,34999.0,46499.0,69999.0,21950.0,19749.0,52499.0,49999.0,37999.0,27799.0,22999.0,26599.0,88780.0,47499.0,35999.0,49299.0,19999.0,34999.0,39299.0,16799.0,25950.0,26999.0,33999.0,29980.0,44999.0,60999.0,36999.0,16999.0,39999.0,37799.0,54999.0,22999.0,41960.0,26499.0,96999.0,39999.0,71980.0,46999.0,56999.0,35499.0,62999.0,9999.0,135999.0,34500.0,17999.0,34999.0,43499.0,46950.0,20199.0,71999.0,89699.0,41499.0,20199.0,49990.0,109999.0,68299.0,62999.0,19999.0,16499.0,45699.0,97999.0,41499.0,17999.0,46999.0,34799.0,27999.0,126999.0,42690.0,71999.0,35499.0,41499.0,41499.0,45990.0,24999.0,25199.0,30999.0,29999.0,22200.0,26999.0,16999.0,42999.0,71999.0,25999.0,5199.0,22199.0,62480.0,37999.0,20999.0,18999.0,27999.0,15399.0,36999.0,28499.0,29499.0,22990.0,48999.0,17999.0,31999.0,23499.0,17999.0,78000.0,41990.0,29499.0,39990.0,29999.0,19499.0,61480.0,6500.0,26999.0,42980.0,66999.0,49999.0,96999.0,32999.0,37999.0,33480.0,39999.0,28297.0,59890.0,38000.0,29980.0,30990.0,19999.0,37000.0,99990.0,29999.0,28980.0,32099.0,28000.0,40444.0,9699.0,61999.0,22499.0,29980.0,29999.0,2850.0,29999.0,100000.0,23999.0,28999.0,30980.0,31999.0,12999.0,20499.0,42999.0,41699.0,25999.0,31500.0,22999.0,39999.0,51999.0,39999.0,19999.0,22999.0,43990.0,29990.0,30299.0,25999.0,50999.0,29999.0,25999.0,26499.0,43999.0,75999.0,19469.0,21120.0,16499.0,45000.0,15299.0,33999.0,21999.0,73450.0,51999.0,59990.0,22349.0,26299.0,58999.0,16999.0,42999.0,30999.0,27299.0,43999.0,24699.0,42000.0,28500.0,28990.0,45000.0,20999.0,35470.0,28999.0,21499.0,27499.0,39999.0,47990.0,18000.0,31999.0,24999.0,25499.0,34999.0,44444.0,24699.0,35999.0,25299.0,59999.0,59999.0,18470.0,59999.0,47999.0,59980.0,39999.0,26499.0],\"xaxis\":\"x\",\"yaxis\":\"y\",\"type\":\"histogram\"}],                        {\"template\":{\"data\":{\"histogram2dcontour\":[{\"type\":\"histogram2dcontour\",\"colorbar\":{\"outlinewidth\":0,\"ticks\":\"\"},\"colorscale\":[[0.0,\"#0d0887\"],[0.1111111111111111,\"#46039f\"],[0.2222222222222222,\"#7201a8\"],[0.3333333333333333,\"#9c179e\"],[0.4444444444444444,\"#bd3786\"],[0.5555555555555556,\"#d8576b\"],[0.6666666666666666,\"#ed7953\"],[0.7777777777777778,\"#fb9f3a\"],[0.8888888888888888,\"#fdca26\"],[1.0,\"#f0f921\"]]}],\"choropleth\":[{\"type\":\"choropleth\",\"colorbar\":{\"outlinewidth\":0,\"ticks\":\"\"}}],\"histogram2d\":[{\"type\":\"histogram2d\",\"colorbar\":{\"outlinewidth\":0,\"ticks\":\"\"},\"colorscale\":[[0.0,\"#0d0887\"],[0.1111111111111111,\"#46039f\"],[0.2222222222222222,\"#7201a8\"],[0.3333333333333333,\"#9c179e\"],[0.4444444444444444,\"#bd3786\"],[0.5555555555555556,\"#d8576b\"],[0.6666666666666666,\"#ed7953\"],[0.7777777777777778,\"#fb9f3a\"],[0.8888888888888888,\"#fdca26\"],[1.0,\"#f0f921\"]]}],\"heatmap\":[{\"type\":\"heatmap\",\"colorbar\":{\"outlinewidth\":0,\"ticks\":\"\"},\"colorscale\":[[0.0,\"#0d0887\"],[0.1111111111111111,\"#46039f\"],[0.2222222222222222,\"#7201a8\"],[0.3333333333333333,\"#9c179e\"],[0.4444444444444444,\"#bd3786\"],[0.5555555555555556,\"#d8576b\"],[0.6666666666666666,\"#ed7953\"],[0.7777777777777778,\"#fb9f3a\"],[0.8888888888888888,\"#fdca26\"],[1.0,\"#f0f921\"]]}],\"heatmapgl\":[{\"type\":\"heatmapgl\",\"colorbar\":{\"outlinewidth\":0,\"ticks\":\"\"},\"colorscale\":[[0.0,\"#0d0887\"],[0.1111111111111111,\"#46039f\"],[0.2222222222222222,\"#7201a8\"],[0.3333333333333333,\"#9c179e\"],[0.4444444444444444,\"#bd3786\"],[0.5555555555555556,\"#d8576b\"],[0.6666666666666666,\"#ed7953\"],[0.7777777777777778,\"#fb9f3a\"],[0.8888888888888888,\"#fdca26\"],[1.0,\"#f0f921\"]]}],\"contourcarpet\":[{\"type\":\"contourcarpet\",\"colorbar\":{\"outlinewidth\":0,\"ticks\":\"\"}}],\"contour\":[{\"type\":\"contour\",\"colorbar\":{\"outlinewidth\":0,\"ticks\":\"\"},\"colorscale\":[[0.0,\"#0d0887\"],[0.1111111111111111,\"#46039f\"],[0.2222222222222222,\"#7201a8\"],[0.3333333333333333,\"#9c179e\"],[0.4444444444444444,\"#bd3786\"],[0.5555555555555556,\"#d8576b\"],[0.6666666666666666,\"#ed7953\"],[0.7777777777777778,\"#fb9f3a\"],[0.8888888888888888,\"#fdca26\"],[1.0,\"#f0f921\"]]}],\"surface\":[{\"type\":\"surface\",\"colorbar\":{\"outlinewidth\":0,\"ticks\":\"\"},\"colorscale\":[[0.0,\"#0d0887\"],[0.1111111111111111,\"#46039f\"],[0.2222222222222222,\"#7201a8\"],[0.3333333333333333,\"#9c179e\"],[0.4444444444444444,\"#bd3786\"],[0.5555555555555556,\"#d8576b\"],[0.6666666666666666,\"#ed7953\"],[0.7777777777777778,\"#fb9f3a\"],[0.8888888888888888,\"#fdca26\"],[1.0,\"#f0f921\"]]}],\"mesh3d\":[{\"type\":\"mesh3d\",\"colorbar\":{\"outlinewidth\":0,\"ticks\":\"\"}}],\"scatter\":[{\"fillpattern\":{\"fillmode\":\"overlay\",\"size\":10,\"solidity\":0.2},\"type\":\"scatter\"}],\"parcoords\":[{\"type\":\"parcoords\",\"line\":{\"colorbar\":{\"outlinewidth\":0,\"ticks\":\"\"}}}],\"scatterpolargl\":[{\"type\":\"scatterpolargl\",\"marker\":{\"colorbar\":{\"outlinewidth\":0,\"ticks\":\"\"}}}],\"bar\":[{\"error_x\":{\"color\":\"#2a3f5f\"},\"error_y\":{\"color\":\"#2a3f5f\"},\"marker\":{\"line\":{\"color\":\"#E5ECF6\",\"width\":0.5},\"pattern\":{\"fillmode\":\"overlay\",\"size\":10,\"solidity\":0.2}},\"type\":\"bar\"}],\"scattergeo\":[{\"type\":\"scattergeo\",\"marker\":{\"colorbar\":{\"outlinewidth\":0,\"ticks\":\"\"}}}],\"scatterpolar\":[{\"type\":\"scatterpolar\",\"marker\":{\"colorbar\":{\"outlinewidth\":0,\"ticks\":\"\"}}}],\"histogram\":[{\"marker\":{\"pattern\":{\"fillmode\":\"overlay\",\"size\":10,\"solidity\":0.2}},\"type\":\"histogram\"}],\"scattergl\":[{\"type\":\"scattergl\",\"marker\":{\"colorbar\":{\"outlinewidth\":0,\"ticks\":\"\"}}}],\"scatter3d\":[{\"type\":\"scatter3d\",\"line\":{\"colorbar\":{\"outlinewidth\":0,\"ticks\":\"\"}},\"marker\":{\"colorbar\":{\"outlinewidth\":0,\"ticks\":\"\"}}}],\"scattermapbox\":[{\"type\":\"scattermapbox\",\"marker\":{\"colorbar\":{\"outlinewidth\":0,\"ticks\":\"\"}}}],\"scatterternary\":[{\"type\":\"scatterternary\",\"marker\":{\"colorbar\":{\"outlinewidth\":0,\"ticks\":\"\"}}}],\"scattercarpet\":[{\"type\":\"scattercarpet\",\"marker\":{\"colorbar\":{\"outlinewidth\":0,\"ticks\":\"\"}}}],\"carpet\":[{\"aaxis\":{\"endlinecolor\":\"#2a3f5f\",\"gridcolor\":\"white\",\"linecolor\":\"white\",\"minorgridcolor\":\"white\",\"startlinecolor\":\"#2a3f5f\"},\"baxis\":{\"endlinecolor\":\"#2a3f5f\",\"gridcolor\":\"white\",\"linecolor\":\"white\",\"minorgridcolor\":\"white\",\"startlinecolor\":\"#2a3f5f\"},\"type\":\"carpet\"}],\"table\":[{\"cells\":{\"fill\":{\"color\":\"#EBF0F8\"},\"line\":{\"color\":\"white\"}},\"header\":{\"fill\":{\"color\":\"#C8D4E3\"},\"line\":{\"color\":\"white\"}},\"type\":\"table\"}],\"barpolar\":[{\"marker\":{\"line\":{\"color\":\"#E5ECF6\",\"width\":0.5},\"pattern\":{\"fillmode\":\"overlay\",\"size\":10,\"solidity\":0.2}},\"type\":\"barpolar\"}],\"pie\":[{\"automargin\":true,\"type\":\"pie\"}]},\"layout\":{\"autotypenumbers\":\"strict\",\"colorway\":[\"#636efa\",\"#EF553B\",\"#00cc96\",\"#ab63fa\",\"#FFA15A\",\"#19d3f3\",\"#FF6692\",\"#B6E880\",\"#FF97FF\",\"#FECB52\"],\"font\":{\"color\":\"#2a3f5f\"},\"hovermode\":\"closest\",\"hoverlabel\":{\"align\":\"left\"},\"paper_bgcolor\":\"white\",\"plot_bgcolor\":\"#E5ECF6\",\"polar\":{\"bgcolor\":\"#E5ECF6\",\"angularaxis\":{\"gridcolor\":\"white\",\"linecolor\":\"white\",\"ticks\":\"\"},\"radialaxis\":{\"gridcolor\":\"white\",\"linecolor\":\"white\",\"ticks\":\"\"}},\"ternary\":{\"bgcolor\":\"#E5ECF6\",\"aaxis\":{\"gridcolor\":\"white\",\"linecolor\":\"white\",\"ticks\":\"\"},\"baxis\":{\"gridcolor\":\"white\",\"linecolor\":\"white\",\"ticks\":\"\"},\"caxis\":{\"gridcolor\":\"white\",\"linecolor\":\"white\",\"ticks\":\"\"}},\"coloraxis\":{\"colorbar\":{\"outlinewidth\":0,\"ticks\":\"\"}},\"colorscale\":{\"sequential\":[[0.0,\"#0d0887\"],[0.1111111111111111,\"#46039f\"],[0.2222222222222222,\"#7201a8\"],[0.3333333333333333,\"#9c179e\"],[0.4444444444444444,\"#bd3786\"],[0.5555555555555556,\"#d8576b\"],[0.6666666666666666,\"#ed7953\"],[0.7777777777777778,\"#fb9f3a\"],[0.8888888888888888,\"#fdca26\"],[1.0,\"#f0f921\"]],\"sequentialminus\":[[0.0,\"#0d0887\"],[0.1111111111111111,\"#46039f\"],[0.2222222222222222,\"#7201a8\"],[0.3333333333333333,\"#9c179e\"],[0.4444444444444444,\"#bd3786\"],[0.5555555555555556,\"#d8576b\"],[0.6666666666666666,\"#ed7953\"],[0.7777777777777778,\"#fb9f3a\"],[0.8888888888888888,\"#fdca26\"],[1.0,\"#f0f921\"]],\"diverging\":[[0,\"#8e0152\"],[0.1,\"#c51b7d\"],[0.2,\"#de77ae\"],[0.3,\"#f1b6da\"],[0.4,\"#fde0ef\"],[0.5,\"#f7f7f7\"],[0.6,\"#e6f5d0\"],[0.7,\"#b8e186\"],[0.8,\"#7fbc41\"],[0.9,\"#4d9221\"],[1,\"#276419\"]]},\"xaxis\":{\"gridcolor\":\"white\",\"linecolor\":\"white\",\"ticks\":\"\",\"title\":{\"standoff\":15},\"zerolinecolor\":\"white\",\"automargin\":true,\"zerolinewidth\":2},\"yaxis\":{\"gridcolor\":\"white\",\"linecolor\":\"white\",\"ticks\":\"\",\"title\":{\"standoff\":15},\"zerolinecolor\":\"white\",\"automargin\":true,\"zerolinewidth\":2},\"scene\":{\"xaxis\":{\"backgroundcolor\":\"#E5ECF6\",\"gridcolor\":\"white\",\"linecolor\":\"white\",\"showbackground\":true,\"ticks\":\"\",\"zerolinecolor\":\"white\",\"gridwidth\":2},\"yaxis\":{\"backgroundcolor\":\"#E5ECF6\",\"gridcolor\":\"white\",\"linecolor\":\"white\",\"showbackground\":true,\"ticks\":\"\",\"zerolinecolor\":\"white\",\"gridwidth\":2},\"zaxis\":{\"backgroundcolor\":\"#E5ECF6\",\"gridcolor\":\"white\",\"linecolor\":\"white\",\"showbackground\":true,\"ticks\":\"\",\"zerolinecolor\":\"white\",\"gridwidth\":2}},\"shapedefaults\":{\"line\":{\"color\":\"#2a3f5f\"}},\"annotationdefaults\":{\"arrowcolor\":\"#2a3f5f\",\"arrowhead\":0,\"arrowwidth\":1},\"geo\":{\"bgcolor\":\"white\",\"landcolor\":\"#E5ECF6\",\"subunitcolor\":\"white\",\"showland\":true,\"showlakes\":true,\"lakecolor\":\"white\"},\"title\":{\"x\":0.05},\"mapbox\":{\"style\":\"light\"}}},\"xaxis\":{\"anchor\":\"y\",\"domain\":[0.0,1.0],\"title\":{\"text\":\"value\"}},\"yaxis\":{\"anchor\":\"x\",\"domain\":[0.0,1.0],\"title\":{\"text\":\"count\"}},\"legend\":{\"title\":{\"text\":\"variable\"},\"tracegroupgap\":0},\"margin\":{\"t\":60},\"barmode\":\"relative\"},                        {\"responsive\": true}                    ).then(function(){\n",
       "                            \n",
       "var gd = document.getElementById('d7c37929-472a-4d2a-a7bd-a5dd42de6787');\n",
       "var x = new MutationObserver(function (mutations, observer) {{\n",
       "        var display = window.getComputedStyle(gd).display;\n",
       "        if (!display || display === 'none') {{\n",
       "            console.log([gd, 'removed!']);\n",
       "            Plotly.purge(gd);\n",
       "            observer.disconnect();\n",
       "        }}\n",
       "}});\n",
       "\n",
       "// Listen for the removal of the full notebook cells\n",
       "var notebookContainer = gd.closest('#notebook-container');\n",
       "if (notebookContainer) {{\n",
       "    x.observe(notebookContainer, {childList: true});\n",
       "}}\n",
       "\n",
       "// Listen for the clearing of the current output cell\n",
       "var outputEl = gd.closest('.output');\n",
       "if (outputEl) {{\n",
       "    x.observe(outputEl, {childList: true});\n",
       "}}\n",
       "\n",
       "                        })                };                });            </script>        </div>"
      ]
     },
     "metadata": {},
     "output_type": "display_data"
    }
   ],
   "source": [
    "px.histogram(y)"
   ]
  },
  {
   "cell_type": "code",
   "execution_count": 29,
   "id": "070efb5b",
   "metadata": {
    "execution": {
     "iopub.execute_input": "2024-02-09T18:47:08.186821Z",
     "iopub.status.busy": "2024-02-09T18:47:08.186411Z",
     "iopub.status.idle": "2024-02-09T18:47:08.242636Z",
     "shell.execute_reply": "2024-02-09T18:47:08.241453Z"
    },
    "papermill": {
     "duration": 0.083059,
     "end_time": "2024-02-09T18:47:08.244853",
     "exception": false,
     "start_time": "2024-02-09T18:47:08.161794",
     "status": "completed"
    },
    "tags": []
   },
   "outputs": [
    {
     "name": "stdout",
     "output_type": "stream",
     "text": [
      "Selected features: ['Number of Ratings', 'Brand', 'Battery', 'ROM', 'RAM', 'Warrnaty']\n"
     ]
    }
   ],
   "source": [
    "from sklearn.feature_selection import SelectKBest\n",
    "from sklearn.feature_selection import f_classif\n",
    "\n",
    "kbest = SelectKBest(f_classif, k=6)\n",
    "x = kbest.fit_transform(df, y)\n",
    "\n",
    "print('Selected features:',  df.columns[kbest.get_support()].tolist())"
   ]
  },
  {
   "cell_type": "code",
   "execution_count": 30,
   "id": "4856de73",
   "metadata": {
    "execution": {
     "iopub.execute_input": "2024-02-09T18:47:08.294063Z",
     "iopub.status.busy": "2024-02-09T18:47:08.292884Z",
     "iopub.status.idle": "2024-02-09T18:47:08.305770Z",
     "shell.execute_reply": "2024-02-09T18:47:08.304464Z"
    },
    "papermill": {
     "duration": 0.039872,
     "end_time": "2024-02-09T18:47:08.308121",
     "exception": false,
     "start_time": "2024-02-09T18:47:08.268249",
     "status": "completed"
    },
    "tags": []
   },
   "outputs": [
    {
     "name": "stdout",
     "output_type": "stream",
     "text": [
      "Selected features: ['Number of Ratings', 'Brand', 'Battery', 'ROM']\n"
     ]
    }
   ],
   "source": [
    "from sklearn.feature_selection import VarianceThreshold\n",
    "var = VarianceThreshold(threshold= 0.7)\n",
    "varx = var.fit_transform(df,y)\n",
    "print('Selected features:',  df.columns[var.get_support()].tolist())"
   ]
  },
  {
   "cell_type": "markdown",
   "id": "d0292d10",
   "metadata": {
    "papermill": {
     "duration": 0.023099,
     "end_time": "2024-02-09T18:47:08.355241",
     "exception": false,
     "start_time": "2024-02-09T18:47:08.332142",
     "status": "completed"
    },
    "tags": []
   },
   "source": [
    "### Scaling\n",
    "<a id='sc'></a>"
   ]
  },
  {
   "cell_type": "code",
   "execution_count": 31,
   "id": "7168fef4",
   "metadata": {
    "execution": {
     "iopub.execute_input": "2024-02-09T18:47:08.404249Z",
     "iopub.status.busy": "2024-02-09T18:47:08.403811Z",
     "iopub.status.idle": "2024-02-09T18:47:08.412550Z",
     "shell.execute_reply": "2024-02-09T18:47:08.411470Z"
    },
    "papermill": {
     "duration": 0.036166,
     "end_time": "2024-02-09T18:47:08.414775",
     "exception": false,
     "start_time": "2024-02-09T18:47:08.378609",
     "status": "completed"
    },
    "tags": []
   },
   "outputs": [
    {
     "data": {
      "text/plain": [
       "array([[ 2.36922229,  0.16770298,  0.16014423, -0.45184726, -1.08286454,\n",
       "        -0.47760045],\n",
       "       [ 0.49073942,  0.16770298,  0.16014423,  0.35056838,  0.40573506,\n",
       "         2.09380037],\n",
       "       [ 2.09168302,  0.16770298,  0.16014423, -0.45184726, -1.08286454,\n",
       "        -0.47760045],\n",
       "       ...,\n",
       "       [-1.16177307,  0.71758899,  0.16014423,  1.15298403,  1.02355971,\n",
       "        -0.47760045],\n",
       "       [-1.16177307,  1.40494651,  0.16014423,  0.35056838,  0.40573506,\n",
       "        -0.47760045],\n",
       "       [-1.16177307,  0.71758899,  0.16014423, -0.45184726, -0.46503988,\n",
       "        -0.47760045]])"
      ]
     },
     "execution_count": 31,
     "metadata": {},
     "output_type": "execute_result"
    }
   ],
   "source": [
    "from sklearn.preprocessing import StandardScaler\n",
    "sc= StandardScaler()\n",
    "x = sc.fit_transform(x)\n",
    "x"
   ]
  },
  {
   "cell_type": "markdown",
   "id": "f865aac9",
   "metadata": {
    "papermill": {
     "duration": 0.023433,
     "end_time": "2024-02-09T18:47:08.461897",
     "exception": false,
     "start_time": "2024-02-09T18:47:08.438464",
     "status": "completed"
    },
    "tags": []
   },
   "source": [
    "## Modeling\n",
    "<a id='mod'></a>"
   ]
  },
  {
   "cell_type": "code",
   "execution_count": 32,
   "id": "7adc7782",
   "metadata": {
    "execution": {
     "iopub.execute_input": "2024-02-09T18:47:08.512441Z",
     "iopub.status.busy": "2024-02-09T18:47:08.511732Z",
     "iopub.status.idle": "2024-02-09T18:47:08.518017Z",
     "shell.execute_reply": "2024-02-09T18:47:08.516885Z"
    },
    "papermill": {
     "duration": 0.034149,
     "end_time": "2024-02-09T18:47:08.520562",
     "exception": false,
     "start_time": "2024-02-09T18:47:08.486413",
     "status": "completed"
    },
    "tags": []
   },
   "outputs": [],
   "source": [
    "from sklearn.model_selection import train_test_split\n",
    "xtrain , xtest , ytrain , ytest = train_test_split(x,y , train_size=0.7 , random_state=42)\n"
   ]
  },
  {
   "cell_type": "code",
   "execution_count": 33,
   "id": "e7360140",
   "metadata": {
    "execution": {
     "iopub.execute_input": "2024-02-09T18:47:08.570525Z",
     "iopub.status.busy": "2024-02-09T18:47:08.570060Z",
     "iopub.status.idle": "2024-02-09T18:47:08.757545Z",
     "shell.execute_reply": "2024-02-09T18:47:08.756458Z"
    },
    "papermill": {
     "duration": 0.215366,
     "end_time": "2024-02-09T18:47:08.760248",
     "exception": false,
     "start_time": "2024-02-09T18:47:08.544882",
     "status": "completed"
    },
    "tags": []
   },
   "outputs": [],
   "source": [
    "from sklearn.ensemble import RandomForestRegressor\n",
    "from sklearn.model_selection import GridSearchCV\n",
    "from sklearn.metrics import r2_score\n",
    "from sklearn.metrics import mean_absolute_error\n",
    "from xgboost import XGBRegressor"
   ]
  },
  {
   "cell_type": "markdown",
   "id": "0de228cd",
   "metadata": {
    "papermill": {
     "duration": 0.024242,
     "end_time": "2024-02-09T18:47:08.808814",
     "exception": false,
     "start_time": "2024-02-09T18:47:08.784572",
     "status": "completed"
    },
    "tags": []
   },
   "source": [
    "### Random Forest"
   ]
  },
  {
   "cell_type": "code",
   "execution_count": 34,
   "id": "929b6eac",
   "metadata": {
    "execution": {
     "iopub.execute_input": "2024-02-09T18:47:08.859416Z",
     "iopub.status.busy": "2024-02-09T18:47:08.859002Z",
     "iopub.status.idle": "2024-02-09T18:49:15.014036Z",
     "shell.execute_reply": "2024-02-09T18:49:15.012971Z"
    },
    "papermill": {
     "duration": 126.218765,
     "end_time": "2024-02-09T18:49:15.051786",
     "exception": false,
     "start_time": "2024-02-09T18:47:08.833021",
     "status": "completed"
    },
    "tags": []
   },
   "outputs": [
    {
     "name": "stdout",
     "output_type": "stream",
     "text": [
      "Best Parameters:  {'max_depth': 20, 'min_samples_leaf': 1, 'min_samples_split': 5, 'n_estimators': 200}\n",
      "Mean Squared Error on Training Set: 2944.06433876196\n",
      "Mean Squared Error on Test Set: 4377.9563455623975\n",
      "R2 on Training Set: 0.9292032433762021\n",
      "R2 on Test Set: 0.8348812393232805\n"
     ]
    }
   ],
   "source": [
    "rf = RandomForestRegressor()\n",
    "\n",
    "param = {'n_estimators': [50, 100, 200], 'max_depth': [None, 10, 20],\n",
    "          'min_samples_split': [2, 5, 10], 'min_samples_leaf': [1, 2, 4]}\n",
    "\n",
    "grid_search = GridSearchCV(estimator=rf, param_grid=param, cv=5, scoring='neg_mean_squared_error')\n",
    "grid_search.fit(xtrain, ytrain)\n",
    "\n",
    "rf_best_model = grid_search.best_estimator_\n",
    "\n",
    "print('Best Parameters: ' , (grid_search.best_params_))\n",
    "\n",
    "mse_train = mean_absolute_error(ytrain,  rf_best_model.predict(xtrain))\n",
    "mse_test = mean_absolute_error(ytest, rf_best_model.predict(xtest))\n",
    "\n",
    "r2_train = r2_score(ytrain,  rf_best_model.predict(xtrain))\n",
    "r2_test = r2_score(ytest, rf_best_model.predict(xtest))\n",
    "\n",
    "print(f\"Mean Squared Error on Training Set: {mse_train}\")\n",
    "print(f\"Mean Squared Error on Test Set: {mse_test}\")\n",
    "\n",
    "print(f\"R2 on Training Set: {r2_train}\")\n",
    "print(f\"R2 on Test Set: {r2_test}\")"
   ]
  },
  {
   "cell_type": "markdown",
   "id": "1e419a26",
   "metadata": {
    "papermill": {
     "duration": 0.02792,
     "end_time": "2024-02-09T18:49:15.103904",
     "exception": false,
     "start_time": "2024-02-09T18:49:15.075984",
     "status": "completed"
    },
    "tags": []
   },
   "source": [
    "### XGB "
   ]
  },
  {
   "cell_type": "code",
   "execution_count": 35,
   "id": "bbd4973f",
   "metadata": {
    "execution": {
     "iopub.execute_input": "2024-02-09T18:49:15.154623Z",
     "iopub.status.busy": "2024-02-09T18:49:15.154215Z",
     "iopub.status.idle": "2024-02-09T18:49:49.026450Z",
     "shell.execute_reply": "2024-02-09T18:49:49.025383Z"
    },
    "papermill": {
     "duration": 33.927044,
     "end_time": "2024-02-09T18:49:49.054896",
     "exception": false,
     "start_time": "2024-02-09T18:49:15.127852",
     "status": "completed"
    },
    "tags": []
   },
   "outputs": [
    {
     "name": "stdout",
     "output_type": "stream",
     "text": [
      "Best Parameters: {'colsample_bytree': 0.8, 'learning_rate': 0.1, 'max_depth': 7, 'min_child_weight': 1, 'n_estimators': 100, 'subsample': 1.0}\n",
      "Mean Squared Error on Training Set: 2485.989869200753\n",
      "Mean Squared Error on Test Set: 3968.3180614509206\n",
      "R2 on Training Set: 0.9449864016408182\n",
      "R2 on Test Set: 0.8518851604863938\n"
     ]
    }
   ],
   "source": [
    "xgb = XGBRegressor()\n",
    "\n",
    "param_grid = {\n",
    "    'n_estimators': [50, 100, 150],\n",
    "    'learning_rate': [0.01, 0.1, 0.2],\n",
    "    'max_depth': [3, 5, 7],\n",
    "    'min_child_weight': [1, 3, 5],\n",
    "    'subsample': [0.8, 1.0],\n",
    "    'colsample_bytree': [0.8, 1.0],\n",
    "}\n",
    "\n",
    "grid_search = GridSearchCV(estimator=xgb, param_grid=param_grid, scoring='neg_mean_squared_error', cv=5, n_jobs=-1)\n",
    "\n",
    "grid_search.fit(xtrain, ytrain)\n",
    "\n",
    "best_params = grid_search.best_params_\n",
    "print(\"Best Parameters:\", best_params)\n",
    "\n",
    "xgb_best_model = grid_search.best_estimator_\n",
    "\n",
    "\n",
    "mse_train = mean_absolute_error(ytrain,  xgb_best_model.predict(xtrain))\n",
    "mse_test = mean_absolute_error(ytest, xgb_best_model.predict(xtest))\n",
    "\n",
    "r2_train = r2_score(ytrain,  xgb_best_model.predict(xtrain))\n",
    "r2_test = r2_score(ytest, xgb_best_model.predict(xtest))\n",
    "\n",
    "print(f\"Mean Squared Error on Training Set: {mse_train}\")\n",
    "print(f\"Mean Squared Error on Test Set: {mse_test}\")\n",
    "\n",
    "print(f\"R2 on Training Set: {r2_train}\")\n",
    "print(f\"R2 on Test Set: {r2_test}\")\n"
   ]
  },
  {
   "cell_type": "code",
   "execution_count": 36,
   "id": "a89784f4",
   "metadata": {
    "execution": {
     "iopub.execute_input": "2024-02-09T18:49:49.106019Z",
     "iopub.status.busy": "2024-02-09T18:49:49.105596Z",
     "iopub.status.idle": "2024-02-09T18:49:49.115726Z",
     "shell.execute_reply": "2024-02-09T18:49:49.114680Z"
    },
    "papermill": {
     "duration": 0.038676,
     "end_time": "2024-02-09T18:49:49.118110",
     "exception": false,
     "start_time": "2024-02-09T18:49:49.079434",
     "status": "completed"
    },
    "tags": []
   },
   "outputs": [],
   "source": [
    "X_train_temp, X_test, y_train_temp, y_test = train_test_split(x, y, test_size=0.2, random_state=42)\n",
    "X_train, X_val, y_train, y_val = train_test_split(X_train_temp, y_train_temp, test_size=0.1, random_state=42)\n"
   ]
  },
  {
   "cell_type": "markdown",
   "id": "413cadfb",
   "metadata": {
    "papermill": {
     "duration": 0.023988,
     "end_time": "2024-02-09T18:49:49.166794",
     "exception": false,
     "start_time": "2024-02-09T18:49:49.142806",
     "status": "completed"
    },
    "tags": []
   },
   "source": [
    "### Keras Sequential"
   ]
  },
  {
   "cell_type": "code",
   "execution_count": 37,
   "id": "f33be6f4",
   "metadata": {
    "execution": {
     "iopub.execute_input": "2024-02-09T18:49:49.218600Z",
     "iopub.status.busy": "2024-02-09T18:49:49.218193Z",
     "iopub.status.idle": "2024-02-09T18:50:20.145680Z",
     "shell.execute_reply": "2024-02-09T18:50:20.144753Z"
    },
    "papermill": {
     "duration": 30.956381,
     "end_time": "2024-02-09T18:50:20.148492",
     "exception": false,
     "start_time": "2024-02-09T18:49:49.192111",
     "status": "completed"
    },
    "tags": []
   },
   "outputs": [
    {
     "name": "stderr",
     "output_type": "stream",
     "text": [
      "2024-02-09 18:49:51.300527: E external/local_xla/xla/stream_executor/cuda/cuda_dnn.cc:9261] Unable to register cuDNN factory: Attempting to register factory for plugin cuDNN when one has already been registered\n",
      "2024-02-09 18:49:51.300669: E external/local_xla/xla/stream_executor/cuda/cuda_fft.cc:607] Unable to register cuFFT factory: Attempting to register factory for plugin cuFFT when one has already been registered\n",
      "2024-02-09 18:49:51.459996: E external/local_xla/xla/stream_executor/cuda/cuda_blas.cc:1515] Unable to register cuBLAS factory: Attempting to register factory for plugin cuBLAS when one has already been registered\n"
     ]
    },
    {
     "name": "stdout",
     "output_type": "stream",
     "text": [
      "Epoch 1/100\n",
      "2/2 [==============================] - 2s 339ms/step - loss: 40273.7070 - val_loss: 40030.9492\n",
      "Epoch 2/100\n",
      "2/2 [==============================] - 0s 95ms/step - loss: 40271.8984 - val_loss: 40027.1211\n",
      "Epoch 3/100\n",
      "2/2 [==============================] - 0s 100ms/step - loss: 40265.9922 - val_loss: 40015.0312\n",
      "Epoch 4/100\n",
      "2/2 [==============================] - 0s 93ms/step - loss: 40248.4961 - val_loss: 39982.5938\n",
      "Epoch 5/100\n",
      "2/2 [==============================] - 0s 107ms/step - loss: 40204.1445 - val_loss: 39904.3789\n",
      "Epoch 6/100\n",
      "2/2 [==============================] - 0s 94ms/step - loss: 40101.1992 - val_loss: 39729.7305\n",
      "Epoch 7/100\n",
      "2/2 [==============================] - 0s 93ms/step - loss: 39878.6523 - val_loss: 39362.6680\n",
      "Epoch 8/100\n",
      "2/2 [==============================] - 0s 97ms/step - loss: 39409.5039 - val_loss: 38629.3477\n",
      "Epoch 9/100\n",
      "2/2 [==============================] - 0s 93ms/step - loss: 38500.4805 - val_loss: 37270.7930\n",
      "Epoch 10/100\n",
      "2/2 [==============================] - 0s 91ms/step - loss: 36873.8789 - val_loss: 34794.7266\n",
      "Epoch 11/100\n",
      "2/2 [==============================] - 0s 91ms/step - loss: 33881.1016 - val_loss: 30287.2832\n",
      "Epoch 12/100\n",
      "2/2 [==============================] - 0s 93ms/step - loss: 28980.4004 - val_loss: 23435.3770\n",
      "Epoch 13/100\n",
      "2/2 [==============================] - 0s 90ms/step - loss: 23309.6270 - val_loss: 20199.5176\n",
      "Epoch 14/100\n",
      "2/2 [==============================] - 0s 92ms/step - loss: 21623.9082 - val_loss: 22655.7227\n",
      "Epoch 15/100\n",
      "2/2 [==============================] - 0s 86ms/step - loss: 23458.0684 - val_loss: 21255.3340\n",
      "Epoch 16/100\n",
      "2/2 [==============================] - 0s 91ms/step - loss: 21102.9414 - val_loss: 17735.8496\n",
      "Epoch 17/100\n",
      "2/2 [==============================] - 0s 94ms/step - loss: 18001.4746 - val_loss: 16537.2246\n",
      "Epoch 18/100\n",
      "2/2 [==============================] - 0s 94ms/step - loss: 17539.4922 - val_loss: 16502.3965\n",
      "Epoch 19/100\n",
      "2/2 [==============================] - 0s 94ms/step - loss: 17243.6543 - val_loss: 15479.6104\n",
      "Epoch 20/100\n",
      "2/2 [==============================] - 0s 94ms/step - loss: 16032.6582 - val_loss: 14327.1182\n",
      "Epoch 21/100\n",
      "2/2 [==============================] - 0s 88ms/step - loss: 14902.7432 - val_loss: 14734.5830\n",
      "Epoch 22/100\n",
      "2/2 [==============================] - 0s 87ms/step - loss: 14995.2354 - val_loss: 15163.8984\n",
      "Epoch 23/100\n",
      "2/2 [==============================] - 0s 85ms/step - loss: 14803.6455 - val_loss: 14427.8291\n",
      "Epoch 24/100\n",
      "2/2 [==============================] - 0s 92ms/step - loss: 14035.6133 - val_loss: 13971.7676\n",
      "Epoch 25/100\n",
      "2/2 [==============================] - 0s 87ms/step - loss: 13513.0518 - val_loss: 14083.7461\n",
      "Epoch 26/100\n",
      "2/2 [==============================] - 0s 86ms/step - loss: 14104.1504 - val_loss: 13992.7686\n",
      "Epoch 27/100\n",
      "2/2 [==============================] - 0s 98ms/step - loss: 13647.7109 - val_loss: 13872.2334\n",
      "Epoch 28/100\n",
      "2/2 [==============================] - 0s 89ms/step - loss: 13556.9189 - val_loss: 14013.9326\n",
      "Epoch 29/100\n",
      "2/2 [==============================] - 0s 86ms/step - loss: 13509.8809 - val_loss: 13975.1631\n",
      "Epoch 30/100\n",
      "2/2 [==============================] - 0s 91ms/step - loss: 13421.9453 - val_loss: 13602.7871\n",
      "Epoch 31/100\n",
      "2/2 [==============================] - 0s 90ms/step - loss: 13072.3105 - val_loss: 13327.0146\n",
      "Epoch 32/100\n",
      "2/2 [==============================] - 0s 92ms/step - loss: 12938.2959 - val_loss: 13182.9951\n",
      "Epoch 33/100\n",
      "2/2 [==============================] - 0s 92ms/step - loss: 12860.9766 - val_loss: 12986.5947\n",
      "Epoch 34/100\n",
      "2/2 [==============================] - 0s 93ms/step - loss: 12703.7773 - val_loss: 12930.7812\n",
      "Epoch 35/100\n",
      "2/2 [==============================] - 0s 88ms/step - loss: 12524.0078 - val_loss: 12945.3926\n",
      "Epoch 36/100\n",
      "2/2 [==============================] - 0s 93ms/step - loss: 12283.2705 - val_loss: 12716.7637\n",
      "Epoch 37/100\n",
      "2/2 [==============================] - 0s 92ms/step - loss: 12279.9443 - val_loss: 12458.1523\n",
      "Epoch 38/100\n",
      "2/2 [==============================] - 0s 94ms/step - loss: 12242.5723 - val_loss: 12319.1455\n",
      "Epoch 39/100\n",
      "2/2 [==============================] - 0s 91ms/step - loss: 12184.9238 - val_loss: 12207.1143\n",
      "Epoch 40/100\n",
      "2/2 [==============================] - 0s 91ms/step - loss: 11955.5439 - val_loss: 12208.9941\n",
      "Epoch 41/100\n",
      "2/2 [==============================] - 0s 95ms/step - loss: 11950.9883 - val_loss: 12243.5117\n",
      "Epoch 42/100\n",
      "2/2 [==============================] - 0s 126ms/step - loss: 11953.4482 - val_loss: 12114.9082\n",
      "Epoch 43/100\n",
      "2/2 [==============================] - 0s 92ms/step - loss: 11872.8428 - val_loss: 11923.8477\n",
      "Epoch 44/100\n",
      "2/2 [==============================] - 0s 93ms/step - loss: 11907.5645 - val_loss: 11794.5635\n",
      "Epoch 45/100\n",
      "2/2 [==============================] - 0s 91ms/step - loss: 11978.4756 - val_loss: 11712.1211\n",
      "Epoch 46/100\n",
      "2/2 [==============================] - 0s 93ms/step - loss: 11645.6631 - val_loss: 11734.7568\n",
      "Epoch 47/100\n",
      "2/2 [==============================] - 0s 90ms/step - loss: 11627.4033 - val_loss: 11731.1963\n",
      "Epoch 48/100\n",
      "2/2 [==============================] - 0s 97ms/step - loss: 11705.6631 - val_loss: 11631.7871\n",
      "Epoch 49/100\n",
      "2/2 [==============================] - 0s 90ms/step - loss: 11529.8594 - val_loss: 11520.5127\n",
      "Epoch 50/100\n",
      "2/2 [==============================] - 0s 91ms/step - loss: 11417.0547 - val_loss: 11477.0459\n",
      "Epoch 51/100\n",
      "2/2 [==============================] - 0s 89ms/step - loss: 11500.0850 - val_loss: 11485.9336\n",
      "Epoch 52/100\n",
      "2/2 [==============================] - 0s 107ms/step - loss: 11343.2871 - val_loss: 11464.5010\n",
      "Epoch 53/100\n",
      "2/2 [==============================] - 0s 91ms/step - loss: 11446.0352 - val_loss: 11376.6982\n",
      "Epoch 54/100\n",
      "2/2 [==============================] - 0s 92ms/step - loss: 11478.0371 - val_loss: 11345.2803\n",
      "Epoch 55/100\n",
      "2/2 [==============================] - 0s 88ms/step - loss: 11167.2109 - val_loss: 11345.3770\n",
      "Epoch 56/100\n",
      "2/2 [==============================] - 0s 93ms/step - loss: 11356.5469 - val_loss: 11340.6582\n",
      "Epoch 57/100\n",
      "2/2 [==============================] - 0s 92ms/step - loss: 11249.6885 - val_loss: 11304.5771\n",
      "Epoch 58/100\n",
      "2/2 [==============================] - 0s 90ms/step - loss: 11128.4580 - val_loss: 11268.1758\n",
      "Epoch 59/100\n",
      "2/2 [==============================] - 0s 95ms/step - loss: 11142.8887 - val_loss: 11237.9600\n",
      "Epoch 60/100\n",
      "2/2 [==============================] - 0s 93ms/step - loss: 11029.4229 - val_loss: 11217.1611\n",
      "Epoch 61/100\n",
      "2/2 [==============================] - 0s 93ms/step - loss: 11026.0908 - val_loss: 11185.2510\n",
      "Epoch 62/100\n",
      "2/2 [==============================] - 0s 92ms/step - loss: 11166.2627 - val_loss: 11147.7041\n",
      "Epoch 63/100\n",
      "2/2 [==============================] - 0s 92ms/step - loss: 11029.4951 - val_loss: 11088.9619\n",
      "Epoch 64/100\n",
      "2/2 [==============================] - 0s 92ms/step - loss: 11222.2529 - val_loss: 11058.8525\n",
      "Epoch 65/100\n",
      "2/2 [==============================] - 0s 94ms/step - loss: 10949.9873 - val_loss: 11035.1787\n",
      "Epoch 66/100\n",
      "2/2 [==============================] - 0s 91ms/step - loss: 11232.0195 - val_loss: 10993.7168\n",
      "Epoch 67/100\n",
      "2/2 [==============================] - 0s 89ms/step - loss: 11018.5225 - val_loss: 10972.3994\n",
      "Epoch 68/100\n",
      "2/2 [==============================] - 0s 94ms/step - loss: 11018.0869 - val_loss: 10941.3262\n",
      "Epoch 69/100\n",
      "2/2 [==============================] - 0s 98ms/step - loss: 10965.6670 - val_loss: 10939.2412\n",
      "Epoch 70/100\n",
      "2/2 [==============================] - 0s 93ms/step - loss: 10744.5312 - val_loss: 10935.8896\n",
      "Epoch 71/100\n",
      "2/2 [==============================] - 0s 91ms/step - loss: 10775.8115 - val_loss: 10878.0322\n",
      "Epoch 72/100\n",
      "2/2 [==============================] - 0s 96ms/step - loss: 10760.6318 - val_loss: 10867.9248\n",
      "Epoch 73/100\n",
      "2/2 [==============================] - 0s 93ms/step - loss: 10700.1982 - val_loss: 10857.5996\n",
      "Epoch 74/100\n",
      "2/2 [==============================] - 0s 92ms/step - loss: 10677.6152 - val_loss: 10850.8369\n",
      "Epoch 75/100\n",
      "2/2 [==============================] - 0s 88ms/step - loss: 10772.2773 - val_loss: 10857.3730\n",
      "Epoch 76/100\n",
      "2/2 [==============================] - 0s 90ms/step - loss: 10666.9072 - val_loss: 10862.3633\n",
      "Epoch 77/100\n",
      "2/2 [==============================] - 0s 93ms/step - loss: 10590.3506 - val_loss: 10830.8389\n",
      "Epoch 78/100\n",
      "2/2 [==============================] - 0s 91ms/step - loss: 10785.1426 - val_loss: 10853.5020\n",
      "Epoch 79/100\n",
      "2/2 [==============================] - 0s 96ms/step - loss: 10791.3096 - val_loss: 10787.1680\n",
      "Epoch 80/100\n",
      "2/2 [==============================] - 0s 107ms/step - loss: 10579.8252 - val_loss: 10745.1064\n",
      "Epoch 81/100\n",
      "2/2 [==============================] - 0s 91ms/step - loss: 10596.4238 - val_loss: 10774.0322\n",
      "Epoch 82/100\n",
      "2/2 [==============================] - 0s 94ms/step - loss: 10520.2734 - val_loss: 10725.8662\n",
      "Epoch 83/100\n",
      "2/2 [==============================] - 0s 95ms/step - loss: 10499.7197 - val_loss: 10725.5498\n",
      "Epoch 84/100\n",
      "2/2 [==============================] - 0s 97ms/step - loss: 10361.7969 - val_loss: 10708.6523\n",
      "Epoch 85/100\n",
      "2/2 [==============================] - 0s 109ms/step - loss: 10547.5107 - val_loss: 10746.7627\n",
      "Epoch 86/100\n",
      "2/2 [==============================] - 0s 126ms/step - loss: 10415.8984 - val_loss: 10753.3564\n",
      "Epoch 87/100\n",
      "2/2 [==============================] - 0s 115ms/step - loss: 10626.8350 - val_loss: 10768.4639\n",
      "Epoch 88/100\n",
      "2/2 [==============================] - 0s 109ms/step - loss: 10637.5498 - val_loss: 10808.3623\n",
      "Epoch 89/100\n",
      "2/2 [==============================] - 0s 187ms/step - loss: 10698.3594 - val_loss: 10782.4336\n"
     ]
    }
   ],
   "source": [
    "from tensorflow import keras\n",
    "from keras import layers\n",
    "from tensorflow.keras import callbacks\n",
    "from tensorflow.keras.layers import Dropout\n",
    "\n",
    "early_stopping = callbacks.EarlyStopping(\n",
    "    min_delta = 0.001,\n",
    "    patience = 5,\n",
    "    restore_best_weights = True\n",
    ")\n",
    "\n",
    "model = keras.Sequential([\n",
    "    layers.Dense(units = 32 , activation= 'relu' , input_shape = (6,) ),\n",
    "    layers.Dense(units = 64 , activation= 'relu'),\n",
    "    layers.Dropout(0.2),\n",
    "    layers.Dense(units = 128 , activation= 'relu'),\n",
    "    layers.Dense(units = 256 , activation= 'relu'),\n",
    "    layers.Dropout(0.2),\n",
    "    layers.Dense(units = 512 , activation= 'relu'),\n",
    "    layers.Dense(units = 1024 , activation= 'relu'),\n",
    "    layers.Dropout(0.2),\n",
    "    layers.Dense(units = 1024 , activation= 'relu'),\n",
    "    layers.Dense(units = 1 , activation= 'linear')\n",
    "\n",
    "])\n",
    "model.compile(loss= 'mae' , optimizer = 'adam') \n",
    "history = model.fit(X_train , y_train ,\n",
    "                    validation_data = (X_val , y_val),\n",
    "                    epochs=100 , batch_size=512 ,\n",
    "                    callbacks=[early_stopping])\n"
   ]
  },
  {
   "cell_type": "code",
   "execution_count": 38,
   "id": "7c00dd93",
   "metadata": {
    "execution": {
     "iopub.execute_input": "2024-02-09T18:50:20.267211Z",
     "iopub.status.busy": "2024-02-09T18:50:20.266400Z",
     "iopub.status.idle": "2024-02-09T18:50:26.160588Z",
     "shell.execute_reply": "2024-02-09T18:50:26.159489Z"
    },
    "papermill": {
     "duration": 5.956711,
     "end_time": "2024-02-09T18:50:26.163119",
     "exception": false,
     "start_time": "2024-02-09T18:50:20.206408",
     "status": "completed"
    },
    "tags": []
   },
   "outputs": [
    {
     "name": "stdout",
     "output_type": "stream",
     "text": [
      "Minimum Validation Loss: 10708.6523\n"
     ]
    },
    {
     "data": {
      "image/png": "[encoded data removed]",
      "text/plain": [
       "<Figure size 640x480 with 1 Axes>"
      ]
     },
     "metadata": {},
     "output_type": "display_data"
    }
   ],
   "source": [
    "history_df = pd.DataFrame(history.history)\n",
    "history_df.loc[:, ['loss', 'val_loss']].plot()\n",
    "print(\"Minimum Validation Loss: {:0.4f}\".format(history_df['val_loss'].min()));"
   ]
  },
  {
   "cell_type": "code",
   "execution_count": 39,
   "id": "6c53bae1",
   "metadata": {
    "execution": {
     "iopub.execute_input": "2024-02-09T18:50:26.282190Z",
     "iopub.status.busy": "2024-02-09T18:50:26.281547Z",
     "iopub.status.idle": "2024-02-09T18:50:27.153742Z",
     "shell.execute_reply": "2024-02-09T18:50:27.152864Z"
    },
    "papermill": {
     "duration": 0.934427,
     "end_time": "2024-02-09T18:50:27.156082",
     "exception": false,
     "start_time": "2024-02-09T18:50:26.221655",
     "status": "completed"
    },
    "tags": []
   },
   "outputs": [
    {
     "name": "stdout",
     "output_type": "stream",
     "text": [
      "30/30 [==============================] - 0s 5ms/step\n",
      "13/13 [==============================] - 0s 4ms/step\n",
      "30/30 [==============================] - 0s 5ms/step\n",
      "13/13 [==============================] - 0s 6ms/step\n",
      "Mean Squared Error on Training Set: 10229.688275444532\n",
      "Mean Squared Error on Test Set: 8890.514080387531\n",
      "R2 Error on Training Set: 0.3836833413170382\n",
      "R2 Squared Error on Test Set: 0.36918837110578495\n"
     ]
    }
   ],
   "source": [
    "mse_train = mean_absolute_error(ytrain,  model.predict(xtrain))\n",
    "mse_test = mean_absolute_error(ytest, model.predict(xtest))\n",
    "\n",
    "r2_train = r2_score(ytrain,  model.predict(xtrain))\n",
    "r2_test = r2_score(ytest, model.predict(xtest))\n",
    "\n",
    "print(f\"Mean Squared Error on Training Set: {mse_train}\")\n",
    "print(f\"Mean Squared Error on Test Set: {mse_test}\")\n",
    "\n",
    "print(f\"R2 Error on Training Set: {r2_train}\")\n",
    "print(f\"R2 Squared Error on Test Set: {r2_test}\")"
   ]
  },
  {
   "cell_type": "markdown",
   "id": "c2175495",
   "metadata": {
    "papermill": {
     "duration": 0.059535,
     "end_time": "2024-02-09T18:50:27.277305",
     "exception": false,
     "start_time": "2024-02-09T18:50:27.217770",
     "status": "completed"
    },
    "tags": []
   },
   "source": [
    "## Results\n",
    "<a id='res'></a>"
   ]
  },
  {
   "cell_type": "code",
   "execution_count": 40,
   "id": "bdd99908",
   "metadata": {
    "execution": {
     "iopub.execute_input": "2024-02-09T18:50:27.400401Z",
     "iopub.status.busy": "2024-02-09T18:50:27.399109Z",
     "iopub.status.idle": "2024-02-09T18:50:27.416499Z",
     "shell.execute_reply": "2024-02-09T18:50:27.415162Z"
    },
    "papermill": {
     "duration": 0.082243,
     "end_time": "2024-02-09T18:50:27.419164",
     "exception": false,
     "start_time": "2024-02-09T18:50:27.336921",
     "status": "completed"
    },
    "tags": []
   },
   "outputs": [
    {
     "data": {
      "text/html": [
       "<div>\n",
       "<style scoped>\n",
       "    .dataframe tbody tr th:only-of-type {\n",
       "        vertical-align: middle;\n",
       "    }\n",
       "\n",
       "    .dataframe tbody tr th {\n",
       "        vertical-align: top;\n",
       "    }\n",
       "\n",
       "    .dataframe thead th {\n",
       "        text-align: right;\n",
       "    }\n",
       "</style>\n",
       "<table border=\"1\" class=\"dataframe\">\n",
       "  <thead>\n",
       "    <tr style=\"text-align: right;\">\n",
       "      <th></th>\n",
       "      <th>Model</th>\n",
       "      <th>MSE (Training)</th>\n",
       "      <th>MSE (Test)</th>\n",
       "      <th>R2 (Training)</th>\n",
       "      <th>R2 (Test)</th>\n",
       "    </tr>\n",
       "  </thead>\n",
       "  <tbody>\n",
       "    <tr>\n",
       "      <th>1</th>\n",
       "      <td>XGBoost</td>\n",
       "      <td>2704.506893</td>\n",
       "      <td>3933.275225</td>\n",
       "      <td>0.940831</td>\n",
       "      <td>0.863776</td>\n",
       "    </tr>\n",
       "    <tr>\n",
       "      <th>2</th>\n",
       "      <td>Random Forest</td>\n",
       "      <td>2317.030705</td>\n",
       "      <td>3979.483888</td>\n",
       "      <td>0.945892</td>\n",
       "      <td>0.855963</td>\n",
       "    </tr>\n",
       "    <tr>\n",
       "      <th>0</th>\n",
       "      <td>Keras Sequential</td>\n",
       "      <td>10178.149268</td>\n",
       "      <td>8926.719896</td>\n",
       "      <td>0.416178</td>\n",
       "      <td>0.391063</td>\n",
       "    </tr>\n",
       "  </tbody>\n",
       "</table>\n",
       "</div>"
      ],
      "text/plain": [
       "              Model  MSE (Training)   MSE (Test)  R2 (Training)  R2 (Test)\n",
       "1           XGBoost     2704.506893  3933.275225       0.940831   0.863776\n",
       "2     Random Forest     2317.030705  3979.483888       0.945892   0.855963\n",
       "0  Keras Sequential    10178.149268  8926.719896       0.416178   0.391063"
      ]
     },
     "execution_count": 40,
     "metadata": {},
     "output_type": "execute_result"
    }
   ],
   "source": [
    "data = {\n",
    "    'Model': ['Keras Sequential', 'XGBoost', 'Random Forest'],\n",
    "    'MSE (Training)': [10178.149267889132, 2704.5068929554805, 2317.0307046163493],\n",
    "    'MSE (Test)': [8926.719895768874, 3933.275225044477, 3979.4838883915954],\n",
    "    'R2 (Training)': [0.4161784170148425, 0.9408312249082309, 0.9458921731809423],\n",
    "    'R2 (Test)': [0.3910631844378647, 0.8637763023363305, 0.8559625074151005],\n",
    "}\n",
    "\n",
    "df = pd.DataFrame(data)\n",
    "df_sorted = df.sort_values(by='MSE (Test)', ascending=True)\n",
    "df_sorted\n"
   ]
  }
 ],
 "metadata": {
  "kaggle": {
   "accelerator": "none",
   "dataSources": [
    {
     "datasetId": 4422250,
     "sourceId": 7597200,
     "sourceType": "datasetVersion"
    }
   ],
   "isGpuEnabled": false,
   "isInternetEnabled": true,
   "language": "python",
   "sourceType": "notebook"
  },
  "kernelspec": {
   "display_name": "base",
   "language": "python",
   "name": "python3"
  },
  "language_info": {
   "codemirror_mode": {
    "name": "ipython",
    "version": 3
   },
   "file_extension": ".py",
   "mimetype": "text/x-python",
   "name": "python",
   "nbconvert_exporter": "python",
   "pygments_lexer": "ipython3",
   "version": "3.10.13"
  },
  "papermill": {
   "default_parameters": {},
   "duration": 216.983672,
   "end_time": "2024-02-09T18:50:30.102689",
   "environment_variables": {},
   "exception": null,
   "input_path": "__notebook__.ipynb",
   "output_path": "__notebook__.ipynb",
   "parameters": {},
   "start_time": "2024-02-09T18:46:53.119017",
   "version": "2.5.0"
  }
 },
 "nbformat": 4,
 "nbformat_minor": 5
}
